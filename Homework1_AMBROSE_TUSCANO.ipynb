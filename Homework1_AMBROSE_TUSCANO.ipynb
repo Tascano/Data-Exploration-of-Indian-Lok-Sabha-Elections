{
  "nbformat": 4,
  "nbformat_minor": 0,
  "metadata": {
    "colab": {
      "name": "CMSC691DS_RE90613",
      "provenance": [],
      "collapsed_sections": []
    },
    "kernelspec": {
      "name": "python3",
      "display_name": "Python 3"
    }
  },
  "cells": [
    {
      "cell_type": "markdown",
      "metadata": {
        "id": "L-UoEdp5u9rL",
        "colab_type": "text"
      },
      "source": [
        "# **CMSC 691 : Introduction to Data Science under Dr. Tim Oates in Fall 2020**\n",
        "\n",
        "\n",
        ">AMBROSE TUSCANO  \n",
        "\n",
        ">RE90613 \n",
        "\n",
        ">UMBC MSCS Dec'21\n",
        "\n",
        "\n",
        "\n",
        "\n",
        "\n",
        "\n",
        "\n"
      ]
    },
    {
      "cell_type": "markdown",
      "metadata": {
        "id": "YbJjEHNPvB7n",
        "colab_type": "text"
      },
      "source": [
        "\n",
        "\n",
        "\n",
        "#**Homework 1**\n",
        "##*Assigned: September 1st (Tuesday)*\n",
        "##*Due: September 15th (Tuesday) by 11:30am* \n",
        "\n",
        "> [Homework website](https://www.csee.umbc.edu/courses/graduate/CMSC691/ds_fall20/homework.html)\n",
        "\n",
        "\n",
        "\n",
        "\n",
        "\n",
        "---\n",
        "\n"
      ]
    },
    {
      "cell_type": "markdown",
      "metadata": {
        "id": "8NpkDi2bvZyT",
        "colab_type": "text"
      },
      "source": [
        "Import libraries"
      ]
    },
    {
      "cell_type": "code",
      "metadata": {
        "id": "OjtR8qrXvYvL",
        "colab_type": "code",
        "colab": {
          "base_uri": "https://localhost:8080/",
          "height": 70
        },
        "outputId": "bdd6c3a5-4058-4821-a7d0-b081889217be"
      },
      "source": [
        "import pandas as pd \n",
        "from math import ceil\n",
        "import seaborn as sns\n",
        "import matplotlib.pyplot as plt\n",
        "%matplotlib inline\n",
        "plt.rcParams.update({'figure.figsize':(20,15), 'figure.dpi':100})"
      ],
      "execution_count": 1,
      "outputs": [
        {
          "output_type": "stream",
          "text": [
            "/usr/local/lib/python3.6/dist-packages/statsmodels/tools/_testing.py:19: FutureWarning: pandas.util.testing is deprecated. Use the functions in the public API at pandas.testing instead.\n",
            "  import pandas.util.testing as tm\n"
          ],
          "name": "stderr"
        }
      ]
    },
    {
      "cell_type": "markdown",
      "metadata": {
        "id": "hNM9fXN7vEca",
        "colab_type": "text"
      },
      "source": [
        "1:\n",
        "\n",
        "> \n",
        "Load the data into a Jupyter notebook. \n",
        "Explain briefly (using markdown) what the dataset contains or what it is about. Do a head(50) and tail(50) on the data frame after loading the data. \n",
        "Explain any observations you can make about the dataset and its quality from just that output.\n",
        "\n",
        "\n",
        "\n",
        "\n",
        "\n",
        "---\n",
        "\n",
        "\n",
        "\n",
        "\n",
        "\n",
        "\n",
        "\n",
        "\n",
        "\n",
        "\n"
      ]
    },
    {
      "cell_type": "code",
      "metadata": {
        "id": "af82gytNuSYg",
        "colab_type": "code",
        "colab": {}
      },
      "source": [
        "elec_df = pd.read_csv(\"/content/IndainLoksabhaElections.csv\")"
      ],
      "execution_count": 2,
      "outputs": []
    },
    {
      "cell_type": "markdown",
      "metadata": {
        "id": "6p91v4Gyvi-T",
        "colab_type": "text"
      },
      "source": [
        "**Context:** With over 600 Million voters voting for 8500+ candidates across 543 constituencies, the general elections in the world's largest democracy are a potential goldmine of data. While there are existing separate datasets about the votes each candidate received and the personal information of each candidate, there was no comprehensive dataset that included both these information. Thus, this dataset will provide more usability than most existing datasets in this domain.\n",
        "Taken from Kaggle [ Indian Loksabha Election 2019 Dataset](https://www.kaggle.com/prakrutchauhan/indian-candidates-for-general-election-2019)"
      ]
    },
    {
      "cell_type": "code",
      "metadata": {
        "id": "0bztdSUxvc1v",
        "colab_type": "code",
        "colab": {
          "base_uri": "https://localhost:8080/",
          "height": 50
        },
        "outputId": "6abae95e-622f-4380-c0f3-b7121a9b6085"
      },
      "source": [
        "print('Number of Rows    : \\t ', str(elec_df.shape[0])+'\\n'+'Number of Columns : \\t ', str(elec_df.shape[1]))"
      ],
      "execution_count": 3,
      "outputs": [
        {
          "output_type": "stream",
          "text": [
            "Number of Rows    : \t  2263\n",
            "Number of Columns : \t  19\n"
          ],
          "name": "stdout"
        }
      ]
    },
    {
      "cell_type": "code",
      "metadata": {
        "id": "ZiSUDAA-vlYQ",
        "colab_type": "code",
        "colab": {
          "base_uri": "https://localhost:8080/",
          "height": 353
        },
        "outputId": "7d5a0b57-e7ea-4d6a-c5c1-2158024ed1bb"
      },
      "source": [
        "elec_df.dtypes"
      ],
      "execution_count": 4,
      "outputs": [
        {
          "output_type": "execute_result",
          "data": {
            "text/plain": [
              "STATE                                         object\n",
              "CONSTITUENCY                                  object\n",
              "NAME                                          object\n",
              "WINNER                                         int64\n",
              "PARTY                                         object\n",
              "SYMBOL                                        object\n",
              "GENDER                                        object\n",
              "CRIMINAL\\nCASES                              float64\n",
              "AGE                                          float64\n",
              "CATEGORY                                      object\n",
              "EDUCATION                                     object\n",
              "ASSETS                                        object\n",
              "LIABILITIES                                   object\n",
              "GENERAL\\nVOTES                                 int64\n",
              "POSTAL\\nVOTES                                  int64\n",
              "TOTAL\\nVOTES                                   int64\n",
              "OVER TOTAL ELECTORS \\nIN CONSTITUENCY        float64\n",
              "OVER TOTAL VOTES POLLED \\nIN CONSTITUENCY    float64\n",
              "TOTAL ELECTORS                                 int64\n",
              "dtype: object"
            ]
          },
          "metadata": {
            "tags": []
          },
          "execution_count": 4
        }
      ]
    },
    {
      "cell_type": "code",
      "metadata": {
        "id": "uLW3efdxvm6T",
        "colab_type": "code",
        "colab": {
          "base_uri": "https://localhost:8080/",
          "height": 118
        },
        "outputId": "92d0669d-74f4-4664-f316-ab8b299796cb"
      },
      "source": [
        "elec_df.columns"
      ],
      "execution_count": 5,
      "outputs": [
        {
          "output_type": "execute_result",
          "data": {
            "text/plain": [
              "Index(['STATE', 'CONSTITUENCY', 'NAME', 'WINNER', 'PARTY', 'SYMBOL', 'GENDER',\n",
              "       'CRIMINAL\\nCASES', 'AGE', 'CATEGORY', 'EDUCATION', 'ASSETS',\n",
              "       'LIABILITIES', 'GENERAL\\nVOTES', 'POSTAL\\nVOTES', 'TOTAL\\nVOTES',\n",
              "       'OVER TOTAL ELECTORS \\nIN CONSTITUENCY',\n",
              "       'OVER TOTAL VOTES POLLED \\nIN CONSTITUENCY', 'TOTAL ELECTORS'],\n",
              "      dtype='object')"
            ]
          },
          "metadata": {
            "tags": []
          },
          "execution_count": 5
        }
      ]
    },
    {
      "cell_type": "markdown",
      "metadata": {
        "id": "EkeeR1FyvrHm",
        "colab_type": "text"
      },
      "source": [
        "The Dataset holds varied information about a paprticular candidate. It ranges from Votes gained to Criminal Cases. \n",
        "\n",
        "**Brief Details on Columns:**\n",
        "\n",
        "1) State*(str)*: Contains information on the State of the particular Electorate is located. Ex: Maharashtra, Madhya Pradesh, Kerala\n",
        "\n",
        "2) Constituency*(str)*  : Electoral Area, can be considered similar to County in the USA.\n",
        "\n",
        "3) Name *(str)* : Name of the Candidate\n",
        "\n",
        "4) Winner *(int)* : In 1/0 shows if the candidate won/lost.\n",
        "\n",
        "5) Party *(str)*  : Consider it similar to Democratic and Republic \n",
        "\n",
        "6) Symbol *(str)*  : Symbol affiliated to the candidate or Party he is representing\n",
        "\n",
        "7) Gender *(str)*  : Sex of the candidate. Keep in mind that in remote part of India that matters too a lot. Can be an important facter for classification algorithms.\n",
        "\n",
        "8) CRIMINAL\\nCASES *(str)* : Gives number of Charges against the candidate. Top notch Politicians tend to have some criminal background they are associated with. \n",
        "\n",
        "9) Age *(int)* : Age of candidate.\n",
        "\n",
        "10) Category *(str)* : Based on caste system prevalent in India. An important factor none the less. There are some slots alloted for particular castes during each year. Scheduled Caste (SC) and Scheduled Tribes (ST), and more are included here\n",
        "\n",
        "11) Education *(str)* : Gives scholarly background information of the candidate. Levels like Post Graduate and 12th Pass are included.\n",
        "\n",
        "12) Assets *(str)* : Shows monetary valuation of the candidate. \n",
        "\n",
        "13) Liabilities *(str)* : Shows debt of the candidate.\n",
        "\n",
        "14) General Votes *(int)* : The votes to a candidate done over electoral voting machines in allocated locations.\n",
        "\n",
        "15) Postal Votes *(int)* : The votes to sent by mail for particular candidate.(Usually done for electors who are serving out of state for goverment affliated services)\n",
        "\n",
        "16) Total Votes *(int)* : The total votes gained by particular candidate.\n",
        "\n",
        "17) Over total electors in constituency *(int)* : This determines how many percentage of votes over the total voters in the electoral area voted for the candidate. \n",
        "\n",
        "18) Over total votes polled in constituency *(int)* : This determines how many percentage of votes over the total people who turned up to vote in the electoral area voted for the candidate. \n",
        "\n",
        "\n",
        "A good article about the reasons for low turnaround of voters and issues it might lead to is : \n",
        "[link text](https://theprint.in/opinion/why-voters-dont-turn-up-in-large-numbers-in-lok-sabha-elections-all-politics-is-local/204344//)\n",
        "\n",
        "More on Voter Turnaround at [link text](https://en.wikipedia.org/wiki/Voter_turnout)\n",
        "\n",
        "19) Total Electors *(int)* : Total number of voters in the electoral area.  "
      ]
    },
    {
      "cell_type": "code",
      "metadata": {
        "id": "wyOSmUw2vpJZ",
        "colab_type": "code",
        "colab": {
          "base_uri": "https://localhost:8080/",
          "height": 1000
        },
        "outputId": "a07bc8e0-9405-4726-ab37-06b641dbbacd"
      },
      "source": [
        "#head 50\n",
        "elec_df.head(50) "
      ],
      "execution_count": 6,
      "outputs": [
        {
          "output_type": "execute_result",
          "data": {
            "text/html": [
              "<div>\n",
              "<style scoped>\n",
              "    .dataframe tbody tr th:only-of-type {\n",
              "        vertical-align: middle;\n",
              "    }\n",
              "\n",
              "    .dataframe tbody tr th {\n",
              "        vertical-align: top;\n",
              "    }\n",
              "\n",
              "    .dataframe thead th {\n",
              "        text-align: right;\n",
              "    }\n",
              "</style>\n",
              "<table border=\"1\" class=\"dataframe\">\n",
              "  <thead>\n",
              "    <tr style=\"text-align: right;\">\n",
              "      <th></th>\n",
              "      <th>STATE</th>\n",
              "      <th>CONSTITUENCY</th>\n",
              "      <th>NAME</th>\n",
              "      <th>WINNER</th>\n",
              "      <th>PARTY</th>\n",
              "      <th>SYMBOL</th>\n",
              "      <th>GENDER</th>\n",
              "      <th>CRIMINAL\\nCASES</th>\n",
              "      <th>AGE</th>\n",
              "      <th>CATEGORY</th>\n",
              "      <th>EDUCATION</th>\n",
              "      <th>ASSETS</th>\n",
              "      <th>LIABILITIES</th>\n",
              "      <th>GENERAL\\nVOTES</th>\n",
              "      <th>POSTAL\\nVOTES</th>\n",
              "      <th>TOTAL\\nVOTES</th>\n",
              "      <th>OVER TOTAL ELECTORS \\nIN CONSTITUENCY</th>\n",
              "      <th>OVER TOTAL VOTES POLLED \\nIN CONSTITUENCY</th>\n",
              "      <th>TOTAL ELECTORS</th>\n",
              "    </tr>\n",
              "  </thead>\n",
              "  <tbody>\n",
              "    <tr>\n",
              "      <th>0</th>\n",
              "      <td>Telangana</td>\n",
              "      <td>ADILABAD</td>\n",
              "      <td>SOYAM BAPU RAO</td>\n",
              "      <td>1</td>\n",
              "      <td>BJP</td>\n",
              "      <td>Lotus</td>\n",
              "      <td>MALE</td>\n",
              "      <td>52.0</td>\n",
              "      <td>52.0</td>\n",
              "      <td>ST</td>\n",
              "      <td>12th Pass</td>\n",
              "      <td>Rs 30,99,414\\n ~ 30 Lacs+</td>\n",
              "      <td>Rs 2,31,450\\n ~ 2 Lacs+</td>\n",
              "      <td>376892</td>\n",
              "      <td>482</td>\n",
              "      <td>377374</td>\n",
              "      <td>25.330684</td>\n",
              "      <td>35.468248</td>\n",
              "      <td>1489790</td>\n",
              "    </tr>\n",
              "    <tr>\n",
              "      <th>1</th>\n",
              "      <td>Telangana</td>\n",
              "      <td>ADILABAD</td>\n",
              "      <td>Godam Nagesh</td>\n",
              "      <td>0</td>\n",
              "      <td>TRS</td>\n",
              "      <td>Car</td>\n",
              "      <td>MALE</td>\n",
              "      <td>0.0</td>\n",
              "      <td>54.0</td>\n",
              "      <td>ST</td>\n",
              "      <td>Post Graduate</td>\n",
              "      <td>Rs 1,84,77,888\\n ~ 1 Crore+</td>\n",
              "      <td>Rs 8,47,000\\n ~ 8 Lacs+</td>\n",
              "      <td>318665</td>\n",
              "      <td>149</td>\n",
              "      <td>318814</td>\n",
              "      <td>21.399929</td>\n",
              "      <td>29.964370</td>\n",
              "      <td>1489790</td>\n",
              "    </tr>\n",
              "    <tr>\n",
              "      <th>2</th>\n",
              "      <td>Telangana</td>\n",
              "      <td>ADILABAD</td>\n",
              "      <td>RATHOD RAMESH</td>\n",
              "      <td>0</td>\n",
              "      <td>INC</td>\n",
              "      <td>Hand</td>\n",
              "      <td>MALE</td>\n",
              "      <td>3.0</td>\n",
              "      <td>52.0</td>\n",
              "      <td>ST</td>\n",
              "      <td>12th Pass</td>\n",
              "      <td>Rs 3,64,91,000\\n ~ 3 Crore+</td>\n",
              "      <td>Rs 1,53,00,000\\n ~ 1 Crore+</td>\n",
              "      <td>314057</td>\n",
              "      <td>181</td>\n",
              "      <td>314238</td>\n",
              "      <td>21.092771</td>\n",
              "      <td>29.534285</td>\n",
              "      <td>1489790</td>\n",
              "    </tr>\n",
              "    <tr>\n",
              "      <th>3</th>\n",
              "      <td>Telangana</td>\n",
              "      <td>ADILABAD</td>\n",
              "      <td>NOTA</td>\n",
              "      <td>0</td>\n",
              "      <td>NOTA</td>\n",
              "      <td>NaN</td>\n",
              "      <td>NaN</td>\n",
              "      <td>NaN</td>\n",
              "      <td>NaN</td>\n",
              "      <td>NaN</td>\n",
              "      <td>NaN</td>\n",
              "      <td>NaN</td>\n",
              "      <td>NaN</td>\n",
              "      <td>13030</td>\n",
              "      <td>6</td>\n",
              "      <td>13036</td>\n",
              "      <td>0.875023</td>\n",
              "      <td>1.225214</td>\n",
              "      <td>1489790</td>\n",
              "    </tr>\n",
              "    <tr>\n",
              "      <th>4</th>\n",
              "      <td>Uttar Pradesh</td>\n",
              "      <td>AGRA</td>\n",
              "      <td>Satyapal Singh Baghel</td>\n",
              "      <td>1</td>\n",
              "      <td>BJP</td>\n",
              "      <td>Lotus</td>\n",
              "      <td>MALE</td>\n",
              "      <td>5.0</td>\n",
              "      <td>58.0</td>\n",
              "      <td>SC</td>\n",
              "      <td>Doctorate</td>\n",
              "      <td>Rs 7,42,74,036\\n ~ 7 Crore+</td>\n",
              "      <td>Rs 86,06,522\\n ~ 86 Lacs+</td>\n",
              "      <td>644459</td>\n",
              "      <td>2416</td>\n",
              "      <td>646875</td>\n",
              "      <td>33.383823</td>\n",
              "      <td>56.464615</td>\n",
              "      <td>1937690</td>\n",
              "    </tr>\n",
              "    <tr>\n",
              "      <th>5</th>\n",
              "      <td>Uttar Pradesh</td>\n",
              "      <td>AGRA</td>\n",
              "      <td>Manoj Kumar Soni</td>\n",
              "      <td>0</td>\n",
              "      <td>BSP</td>\n",
              "      <td>Elephant</td>\n",
              "      <td>MALE</td>\n",
              "      <td>0.0</td>\n",
              "      <td>47.0</td>\n",
              "      <td>SC</td>\n",
              "      <td>Post Graduate</td>\n",
              "      <td>Rs 13,37,84,385\\n ~ 13 Crore+</td>\n",
              "      <td>Rs 2,22,51,891\\n ~ 2 Crore+</td>\n",
              "      <td>434199</td>\n",
              "      <td>1130</td>\n",
              "      <td>435329</td>\n",
              "      <td>22.466390</td>\n",
              "      <td>37.999125</td>\n",
              "      <td>1937690</td>\n",
              "    </tr>\n",
              "    <tr>\n",
              "      <th>6</th>\n",
              "      <td>Uttar Pradesh</td>\n",
              "      <td>AGRA</td>\n",
              "      <td>Preeta Harit</td>\n",
              "      <td>0</td>\n",
              "      <td>INC</td>\n",
              "      <td>Hand</td>\n",
              "      <td>FEMALE</td>\n",
              "      <td>0.0</td>\n",
              "      <td>54.0</td>\n",
              "      <td>SC</td>\n",
              "      <td>Post Graduate</td>\n",
              "      <td>Rs 5,50,75,753\\n ~ 5 Crore+</td>\n",
              "      <td>Rs 0\\n ~</td>\n",
              "      <td>44877</td>\n",
              "      <td>272</td>\n",
              "      <td>45149</td>\n",
              "      <td>2.330042</td>\n",
              "      <td>3.940979</td>\n",
              "      <td>1937690</td>\n",
              "    </tr>\n",
              "    <tr>\n",
              "      <th>7</th>\n",
              "      <td>Maharashtra</td>\n",
              "      <td>AHMADNAGAR</td>\n",
              "      <td>Dr. SUJAY RADHAKRISHNA VIKHEPATIL</td>\n",
              "      <td>1</td>\n",
              "      <td>BJP</td>\n",
              "      <td>Lotus</td>\n",
              "      <td>MALE</td>\n",
              "      <td>0.0</td>\n",
              "      <td>37.0</td>\n",
              "      <td>GENERAL</td>\n",
              "      <td>Doctorate</td>\n",
              "      <td>Rs 16,86,64,576\\n ~ 16 Crore+</td>\n",
              "      <td>Rs 26,23,964\\n ~ 26 Lacs+</td>\n",
              "      <td>696961</td>\n",
              "      <td>7699</td>\n",
              "      <td>704660</td>\n",
              "      <td>37.856533</td>\n",
              "      <td>58.425159</td>\n",
              "      <td>1861396</td>\n",
              "    </tr>\n",
              "    <tr>\n",
              "      <th>8</th>\n",
              "      <td>Maharashtra</td>\n",
              "      <td>AHMADNAGAR</td>\n",
              "      <td>SANGRAM ARUNKAKA JAGTAP</td>\n",
              "      <td>0</td>\n",
              "      <td>NCP</td>\n",
              "      <td>Clock</td>\n",
              "      <td>MALE</td>\n",
              "      <td>1.0</td>\n",
              "      <td>34.0</td>\n",
              "      <td>GENERAL</td>\n",
              "      <td>Graduate</td>\n",
              "      <td>Rs 9,44,88,381\\n ~ 9 Crore+</td>\n",
              "      <td>Rs 3,25,49,132\\n ~ 3 Crore+</td>\n",
              "      <td>419364</td>\n",
              "      <td>3822</td>\n",
              "      <td>423186</td>\n",
              "      <td>22.734872</td>\n",
              "      <td>35.087431</td>\n",
              "      <td>1861396</td>\n",
              "    </tr>\n",
              "    <tr>\n",
              "      <th>9</th>\n",
              "      <td>Maharashtra</td>\n",
              "      <td>AHMADNAGAR</td>\n",
              "      <td>SUDHAKAR LAXMAN AVHAD</td>\n",
              "      <td>0</td>\n",
              "      <td>VBA</td>\n",
              "      <td>Cup &amp; Saucer</td>\n",
              "      <td>MALE</td>\n",
              "      <td>0.0</td>\n",
              "      <td>62.0</td>\n",
              "      <td>GENERAL</td>\n",
              "      <td>Graduate</td>\n",
              "      <td>Rs 1,39,49,000\\n ~ 1 Crore+</td>\n",
              "      <td>Rs 14,00,000\\n ~ 14 Lacs+</td>\n",
              "      <td>31644</td>\n",
              "      <td>163</td>\n",
              "      <td>31807</td>\n",
              "      <td>1.708771</td>\n",
              "      <td>2.637200</td>\n",
              "      <td>1861396</td>\n",
              "    </tr>\n",
              "    <tr>\n",
              "      <th>10</th>\n",
              "      <td>Gujarat</td>\n",
              "      <td>AHMEDABAD EAST</td>\n",
              "      <td>Patel Hasmukhbhai Somabhai</td>\n",
              "      <td>1</td>\n",
              "      <td>BJP</td>\n",
              "      <td>Lotus</td>\n",
              "      <td>MALE</td>\n",
              "      <td>0.0</td>\n",
              "      <td>58.0</td>\n",
              "      <td>GENERAL</td>\n",
              "      <td>Others</td>\n",
              "      <td>Rs 7,46,99,690\\n ~ 7 Crore+</td>\n",
              "      <td>Rs 62,52,577\\n ~ 62 Lacs+</td>\n",
              "      <td>745810</td>\n",
              "      <td>4024</td>\n",
              "      <td>749834</td>\n",
              "      <td>41.384970</td>\n",
              "      <td>67.005462</td>\n",
              "      <td>1811851</td>\n",
              "    </tr>\n",
              "    <tr>\n",
              "      <th>11</th>\n",
              "      <td>Gujarat</td>\n",
              "      <td>AHMEDABAD EAST</td>\n",
              "      <td>Gitaben Patel</td>\n",
              "      <td>0</td>\n",
              "      <td>INC</td>\n",
              "      <td>Hand</td>\n",
              "      <td>FEMALE</td>\n",
              "      <td>6.0</td>\n",
              "      <td>38.0</td>\n",
              "      <td>GENERAL</td>\n",
              "      <td>10th Pass</td>\n",
              "      <td>Rs 4,03,75,418\\n ~ 4 Crore+</td>\n",
              "      <td>Rs 31,21,888\\n ~ 31 Lacs+</td>\n",
              "      <td>312883</td>\n",
              "      <td>2621</td>\n",
              "      <td>315504</td>\n",
              "      <td>17.413352</td>\n",
              "      <td>28.193562</td>\n",
              "      <td>1811851</td>\n",
              "    </tr>\n",
              "    <tr>\n",
              "      <th>12</th>\n",
              "      <td>Gujarat</td>\n",
              "      <td>AHMEDABAD WEST</td>\n",
              "      <td>DR. KIRIT P. SOLANKI</td>\n",
              "      <td>1</td>\n",
              "      <td>BJP</td>\n",
              "      <td>Lotus</td>\n",
              "      <td>MALE</td>\n",
              "      <td>0.0</td>\n",
              "      <td>69.0</td>\n",
              "      <td>SC</td>\n",
              "      <td>Post Graduate</td>\n",
              "      <td>Rs 8,94,74,039\\n ~ 8 Crore+</td>\n",
              "      <td>Rs 0\\n ~</td>\n",
              "      <td>638241</td>\n",
              "      <td>3381</td>\n",
              "      <td>641622</td>\n",
              "      <td>39.044323</td>\n",
              "      <td>64.211450</td>\n",
              "      <td>1643317</td>\n",
              "    </tr>\n",
              "    <tr>\n",
              "      <th>13</th>\n",
              "      <td>Gujarat</td>\n",
              "      <td>AHMEDABAD WEST</td>\n",
              "      <td>RAJU PARMAR</td>\n",
              "      <td>0</td>\n",
              "      <td>INC</td>\n",
              "      <td>Hand</td>\n",
              "      <td>MALE</td>\n",
              "      <td>0.0</td>\n",
              "      <td>68.0</td>\n",
              "      <td>SC</td>\n",
              "      <td>Graduate</td>\n",
              "      <td>Rs 26,29,97,727\\n ~ 26 Crore+</td>\n",
              "      <td>Rs 1,89,43,977\\n ~ 1 Crore+</td>\n",
              "      <td>317797</td>\n",
              "      <td>2279</td>\n",
              "      <td>320076</td>\n",
              "      <td>19.477435</td>\n",
              "      <td>32.032169</td>\n",
              "      <td>1643317</td>\n",
              "    </tr>\n",
              "    <tr>\n",
              "      <th>14</th>\n",
              "      <td>Gujarat</td>\n",
              "      <td>AHMEDABAD WEST</td>\n",
              "      <td>NOTA</td>\n",
              "      <td>0</td>\n",
              "      <td>NOTA</td>\n",
              "      <td>NaN</td>\n",
              "      <td>NaN</td>\n",
              "      <td>NaN</td>\n",
              "      <td>NaN</td>\n",
              "      <td>NaN</td>\n",
              "      <td>NaN</td>\n",
              "      <td>NaN</td>\n",
              "      <td>NaN</td>\n",
              "      <td>14580</td>\n",
              "      <td>139</td>\n",
              "      <td>14719</td>\n",
              "      <td>0.895688</td>\n",
              "      <td>1.473030</td>\n",
              "      <td>1643317</td>\n",
              "    </tr>\n",
              "    <tr>\n",
              "      <th>15</th>\n",
              "      <td>Gujarat</td>\n",
              "      <td>AHMEDABAD WEST</td>\n",
              "      <td>TRIBHOVANDAS KARSANDAS VAGHELA</td>\n",
              "      <td>0</td>\n",
              "      <td>BSP</td>\n",
              "      <td>Elephant</td>\n",
              "      <td>MALE</td>\n",
              "      <td>0.0</td>\n",
              "      <td>66.0</td>\n",
              "      <td>SC</td>\n",
              "      <td>8th Pass</td>\n",
              "      <td>Rs 53,54,000\\n ~ 53 Lacs+</td>\n",
              "      <td>Rs 0\\n ~</td>\n",
              "      <td>9909</td>\n",
              "      <td>119</td>\n",
              "      <td>10028</td>\n",
              "      <td>0.610229</td>\n",
              "      <td>1.003570</td>\n",
              "      <td>1643317</td>\n",
              "    </tr>\n",
              "    <tr>\n",
              "      <th>16</th>\n",
              "      <td>Rajasthan</td>\n",
              "      <td>AJMER</td>\n",
              "      <td>Bhagirath Chaudhary</td>\n",
              "      <td>1</td>\n",
              "      <td>BJP</td>\n",
              "      <td>Lotus</td>\n",
              "      <td>MALE</td>\n",
              "      <td>0.0</td>\n",
              "      <td>64.0</td>\n",
              "      <td>GENERAL</td>\n",
              "      <td>12th Pass</td>\n",
              "      <td>Rs 8,51,01,774\\n ~ 8 Crore+</td>\n",
              "      <td>Rs 83,19,942\\n ~ 83 Lacs+</td>\n",
              "      <td>811091</td>\n",
              "      <td>3985</td>\n",
              "      <td>815076</td>\n",
              "      <td>43.439536</td>\n",
              "      <td>64.522350</td>\n",
              "      <td>1876346</td>\n",
              "    </tr>\n",
              "    <tr>\n",
              "      <th>17</th>\n",
              "      <td>Rajasthan</td>\n",
              "      <td>AJMER</td>\n",
              "      <td>Riju Jhunjhunwala</td>\n",
              "      <td>0</td>\n",
              "      <td>INC</td>\n",
              "      <td>Hand</td>\n",
              "      <td>MALE</td>\n",
              "      <td>0.0</td>\n",
              "      <td>40.0</td>\n",
              "      <td>GENERAL</td>\n",
              "      <td>Graduate</td>\n",
              "      <td>Rs 85,39,98,231\\n ~ 85 Crore+</td>\n",
              "      <td>Rs 30,60,12,685\\n ~ 30 Crore+</td>\n",
              "      <td>397420</td>\n",
              "      <td>1232</td>\n",
              "      <td>398652</td>\n",
              "      <td>21.246188</td>\n",
              "      <td>31.557749</td>\n",
              "      <td>1876346</td>\n",
              "    </tr>\n",
              "    <tr>\n",
              "      <th>18</th>\n",
              "      <td>Rajasthan</td>\n",
              "      <td>AJMER</td>\n",
              "      <td>Durga Lal Regar</td>\n",
              "      <td>0</td>\n",
              "      <td>BSP</td>\n",
              "      <td>Elephant</td>\n",
              "      <td>MALE</td>\n",
              "      <td>0.0</td>\n",
              "      <td>60.0</td>\n",
              "      <td>SC</td>\n",
              "      <td>Post Graduate</td>\n",
              "      <td>Rs 4,17,40,458\\n ~ 4 Crore+</td>\n",
              "      <td>Rs 8,90,000\\n ~ 8 Lacs+</td>\n",
              "      <td>13547</td>\n",
              "      <td>71</td>\n",
              "      <td>13618</td>\n",
              "      <td>0.725772</td>\n",
              "      <td>1.078016</td>\n",
              "      <td>1876346</td>\n",
              "    </tr>\n",
              "    <tr>\n",
              "      <th>19</th>\n",
              "      <td>Rajasthan</td>\n",
              "      <td>AJMER</td>\n",
              "      <td>Vishram Babu</td>\n",
              "      <td>0</td>\n",
              "      <td>APoI</td>\n",
              "      <td>Coat</td>\n",
              "      <td>MALE</td>\n",
              "      <td>0.0</td>\n",
              "      <td>60.0</td>\n",
              "      <td>SC</td>\n",
              "      <td>Post Graduate</td>\n",
              "      <td>Rs 2,57,92,244\\n ~ 2 Crore+</td>\n",
              "      <td>Rs 2,68,705\\n ~ 2 Lacs+</td>\n",
              "      <td>13036</td>\n",
              "      <td>5</td>\n",
              "      <td>13041</td>\n",
              "      <td>0.695021</td>\n",
              "      <td>1.032340</td>\n",
              "      <td>1876346</td>\n",
              "    </tr>\n",
              "    <tr>\n",
              "      <th>20</th>\n",
              "      <td>Uttar Pradesh</td>\n",
              "      <td>AKBARPUR</td>\n",
              "      <td>Devendra Singh 'Bhole'</td>\n",
              "      <td>1</td>\n",
              "      <td>BJP</td>\n",
              "      <td>Lotus</td>\n",
              "      <td>MALE</td>\n",
              "      <td>0.0</td>\n",
              "      <td>64.0</td>\n",
              "      <td>GENERAL</td>\n",
              "      <td>10th Pass</td>\n",
              "      <td>Rs 2,85,46,617\\n ~2 Crore+</td>\n",
              "      <td>Rs 5,59,965 \\n~5 Lacs+</td>\n",
              "      <td>577603</td>\n",
              "      <td>3679</td>\n",
              "      <td>581282</td>\n",
              "      <td>32.912920</td>\n",
              "      <td>56.620233</td>\n",
              "      <td>1766121</td>\n",
              "    </tr>\n",
              "    <tr>\n",
              "      <th>21</th>\n",
              "      <td>Uttar Pradesh</td>\n",
              "      <td>AKBARPUR</td>\n",
              "      <td>Nisha Sachan</td>\n",
              "      <td>0</td>\n",
              "      <td>BSP</td>\n",
              "      <td>Elephant</td>\n",
              "      <td>FEMALE</td>\n",
              "      <td>0.0</td>\n",
              "      <td>46.0</td>\n",
              "      <td>GENERAL</td>\n",
              "      <td>Post Graduate</td>\n",
              "      <td>Rs 13,44,48,979\\n ~ 13 Crore+</td>\n",
              "      <td>Rs 1,36,19,617\\n ~ 1 Crore+</td>\n",
              "      <td>304553</td>\n",
              "      <td>1587</td>\n",
              "      <td>306140</td>\n",
              "      <td>17.334033</td>\n",
              "      <td>29.819809</td>\n",
              "      <td>1766121</td>\n",
              "    </tr>\n",
              "    <tr>\n",
              "      <th>22</th>\n",
              "      <td>Uttar Pradesh</td>\n",
              "      <td>AKBARPUR</td>\n",
              "      <td>Rajaram Pal</td>\n",
              "      <td>0</td>\n",
              "      <td>INC</td>\n",
              "      <td>Hand</td>\n",
              "      <td>MALE</td>\n",
              "      <td>1.0</td>\n",
              "      <td>58.0</td>\n",
              "      <td>GENERAL</td>\n",
              "      <td>Graduate Professional</td>\n",
              "      <td>Rs 1,90,97,262\\n ~ 1 Crore+</td>\n",
              "      <td>Rs 86,00,000\\n ~ 86 Lacs+</td>\n",
              "      <td>107592</td>\n",
              "      <td>749</td>\n",
              "      <td>108341</td>\n",
              "      <td>6.134404</td>\n",
              "      <td>10.553041</td>\n",
              "      <td>1766121</td>\n",
              "    </tr>\n",
              "    <tr>\n",
              "      <th>23</th>\n",
              "      <td>Maharashtra</td>\n",
              "      <td>AKOLA</td>\n",
              "      <td>Dhotre Sanjay Shamrao</td>\n",
              "      <td>1</td>\n",
              "      <td>BJP</td>\n",
              "      <td>Lotus</td>\n",
              "      <td>MALE</td>\n",
              "      <td>1.0</td>\n",
              "      <td>60.0</td>\n",
              "      <td>GENERAL</td>\n",
              "      <td>Graduate Professional</td>\n",
              "      <td>Rs 7,71,53,230\\n ~ 7 Crore+</td>\n",
              "      <td>Rs 1,49,85,774\\n ~ 1 Crore+</td>\n",
              "      <td>552898</td>\n",
              "      <td>1546</td>\n",
              "      <td>554444</td>\n",
              "      <td>29.726207</td>\n",
              "      <td>49.495753</td>\n",
              "      <td>1865169</td>\n",
              "    </tr>\n",
              "    <tr>\n",
              "      <th>24</th>\n",
              "      <td>Maharashtra</td>\n",
              "      <td>AKOLA</td>\n",
              "      <td>Ambedkar (Adv) Prakash Yashwant</td>\n",
              "      <td>0</td>\n",
              "      <td>VBA</td>\n",
              "      <td>Cup &amp; Saucer</td>\n",
              "      <td>MALE</td>\n",
              "      <td>0.0</td>\n",
              "      <td>64.0</td>\n",
              "      <td>GENERAL</td>\n",
              "      <td>Graduate Professional</td>\n",
              "      <td>Rs 5,87,22,916\\n ~ 5 Crore+</td>\n",
              "      <td>Rs 0\\n ~</td>\n",
              "      <td>278241</td>\n",
              "      <td>607</td>\n",
              "      <td>278848</td>\n",
              "      <td>14.950281</td>\n",
              "      <td>24.893031</td>\n",
              "      <td>1865169</td>\n",
              "    </tr>\n",
              "    <tr>\n",
              "      <th>25</th>\n",
              "      <td>Maharashtra</td>\n",
              "      <td>AKOLA</td>\n",
              "      <td>Hidayatullah Barakatullah Patel</td>\n",
              "      <td>0</td>\n",
              "      <td>INC</td>\n",
              "      <td>Hand</td>\n",
              "      <td>MALE</td>\n",
              "      <td>1.0</td>\n",
              "      <td>60.0</td>\n",
              "      <td>GENERAL</td>\n",
              "      <td>10th Pass</td>\n",
              "      <td>Rs 1,49,47,292\\n ~ 1 Crore+</td>\n",
              "      <td>Rs 4,83,635\\n ~ 4 Lacs+</td>\n",
              "      <td>254094</td>\n",
              "      <td>276</td>\n",
              "      <td>254370</td>\n",
              "      <td>13.637906</td>\n",
              "      <td>22.707856</td>\n",
              "      <td>1865169</td>\n",
              "    </tr>\n",
              "    <tr>\n",
              "      <th>26</th>\n",
              "      <td>Kerala</td>\n",
              "      <td>ALAPPUZHA</td>\n",
              "      <td>Adv. A M ARIFF</td>\n",
              "      <td>1</td>\n",
              "      <td>CPI(M)</td>\n",
              "      <td>Hammer, Sickle and Star</td>\n",
              "      <td>MALE</td>\n",
              "      <td>2.0</td>\n",
              "      <td>54.0</td>\n",
              "      <td>GENERAL</td>\n",
              "      <td>Graduate Professional</td>\n",
              "      <td>Rs 1,52,68,906\\n ~ 1 Crore+</td>\n",
              "      <td>Rs 22,20,700\\n ~ 22 Lacs+</td>\n",
              "      <td>443003</td>\n",
              "      <td>2967</td>\n",
              "      <td>445970</td>\n",
              "      <td>32.871650</td>\n",
              "      <td>40.910475</td>\n",
              "      <td>1356701</td>\n",
              "    </tr>\n",
              "    <tr>\n",
              "      <th>27</th>\n",
              "      <td>Kerala</td>\n",
              "      <td>ALAPPUZHA</td>\n",
              "      <td>Adv. SHANIMOL OSMAN</td>\n",
              "      <td>0</td>\n",
              "      <td>INC</td>\n",
              "      <td>Hand</td>\n",
              "      <td>FEMALE</td>\n",
              "      <td>0.0</td>\n",
              "      <td>52.0</td>\n",
              "      <td>GENERAL</td>\n",
              "      <td>Post Graduate</td>\n",
              "      <td>Rs 1,86,65,943\\n ~ 1 Crore+</td>\n",
              "      <td>Rs 8,25,000\\n ~ 8 Lacs+</td>\n",
              "      <td>433790</td>\n",
              "      <td>1706</td>\n",
              "      <td>435496</td>\n",
              "      <td>32.099630</td>\n",
              "      <td>39.949657</td>\n",
              "      <td>1356701</td>\n",
              "    </tr>\n",
              "    <tr>\n",
              "      <th>28</th>\n",
              "      <td>Kerala</td>\n",
              "      <td>ALAPPUZHA</td>\n",
              "      <td>Dr. K. S. RADHAKRISH</td>\n",
              "      <td>0</td>\n",
              "      <td>BJP</td>\n",
              "      <td>Lotus</td>\n",
              "      <td>MALE</td>\n",
              "      <td>1.0</td>\n",
              "      <td>64.0</td>\n",
              "      <td>GENERAL</td>\n",
              "      <td>Doctorate</td>\n",
              "      <td>Rs 1,64,84,722\\n ~ 1 Crore+</td>\n",
              "      <td>Rs 0\\n ~</td>\n",
              "      <td>186278</td>\n",
              "      <td>1451</td>\n",
              "      <td>187729</td>\n",
              "      <td>13.837168</td>\n",
              "      <td>17.221075</td>\n",
              "      <td>1356701</td>\n",
              "    </tr>\n",
              "    <tr>\n",
              "      <th>29</th>\n",
              "      <td>Kerala</td>\n",
              "      <td>ALATHUR</td>\n",
              "      <td>RAMYA HARIDAS</td>\n",
              "      <td>1</td>\n",
              "      <td>INC</td>\n",
              "      <td>Hand</td>\n",
              "      <td>FEMALE</td>\n",
              "      <td>3.0</td>\n",
              "      <td>32.0</td>\n",
              "      <td>SC</td>\n",
              "      <td>10th Pass</td>\n",
              "      <td>Rs 11,52,816\\n ~ 11 Lacs+</td>\n",
              "      <td>Rs 0\\n ~</td>\n",
              "      <td>532493</td>\n",
              "      <td>1322</td>\n",
              "      <td>533815</td>\n",
              "      <td>42.139053</td>\n",
              "      <td>52.366840</td>\n",
              "      <td>1266794</td>\n",
              "    </tr>\n",
              "    <tr>\n",
              "      <th>30</th>\n",
              "      <td>Kerala</td>\n",
              "      <td>ALATHUR</td>\n",
              "      <td>DR. P.K.BIJU</td>\n",
              "      <td>0</td>\n",
              "      <td>CPI(M)</td>\n",
              "      <td>Hammer, Sickle and Star</td>\n",
              "      <td>MALE</td>\n",
              "      <td>0.0</td>\n",
              "      <td>44.0</td>\n",
              "      <td>SC</td>\n",
              "      <td>Doctorate</td>\n",
              "      <td>Rs 40,83,003\\n ~ 40 Lacs+</td>\n",
              "      <td>Rs 5,19,379\\n ~ 5 Lacs+</td>\n",
              "      <td>373696</td>\n",
              "      <td>1151</td>\n",
              "      <td>374847</td>\n",
              "      <td>29.590210</td>\n",
              "      <td>36.772202</td>\n",
              "      <td>1266794</td>\n",
              "    </tr>\n",
              "    <tr>\n",
              "      <th>31</th>\n",
              "      <td>Kerala</td>\n",
              "      <td>ALATHUR</td>\n",
              "      <td>T.V.BABU</td>\n",
              "      <td>0</td>\n",
              "      <td>BDJS</td>\n",
              "      <td>Pot</td>\n",
              "      <td>MALE</td>\n",
              "      <td>4.0</td>\n",
              "      <td>61.0</td>\n",
              "      <td>SC</td>\n",
              "      <td>10th Pass</td>\n",
              "      <td>Rs 12,61,055\\n ~ 12 Lacs+</td>\n",
              "      <td>Rs 6,85,000\\n ~ 6 Lacs+</td>\n",
              "      <td>89575</td>\n",
              "      <td>262</td>\n",
              "      <td>89837</td>\n",
              "      <td>7.091682</td>\n",
              "      <td>8.812940</td>\n",
              "      <td>1266794</td>\n",
              "    </tr>\n",
              "    <tr>\n",
              "      <th>32</th>\n",
              "      <td>Uttar Pradesh</td>\n",
              "      <td>ALIGARH</td>\n",
              "      <td>SATISH KUMAR GAUTAM</td>\n",
              "      <td>1</td>\n",
              "      <td>BJP</td>\n",
              "      <td>Lotus</td>\n",
              "      <td>MALE</td>\n",
              "      <td>0.0</td>\n",
              "      <td>46.0</td>\n",
              "      <td>GENERAL</td>\n",
              "      <td>10th Pass</td>\n",
              "      <td>Rs 10,95,22,559\\n ~ 10 Crore+</td>\n",
              "      <td>Rs 2,80,95,176\\n ~ 2 Crore+</td>\n",
              "      <td>651805</td>\n",
              "      <td>4410</td>\n",
              "      <td>656215</td>\n",
              "      <td>34.773229</td>\n",
              "      <td>56.378281</td>\n",
              "      <td>1887127</td>\n",
              "    </tr>\n",
              "    <tr>\n",
              "      <th>33</th>\n",
              "      <td>Uttar Pradesh</td>\n",
              "      <td>ALIGARH</td>\n",
              "      <td>DR. AJEET BALIYAN</td>\n",
              "      <td>0</td>\n",
              "      <td>BSP</td>\n",
              "      <td>Elephant</td>\n",
              "      <td>MALE</td>\n",
              "      <td>0.0</td>\n",
              "      <td>51.0</td>\n",
              "      <td>GENERAL</td>\n",
              "      <td>Doctorate</td>\n",
              "      <td>Rs 28,18,52,783\\n ~ 28 Crore+</td>\n",
              "      <td>Rs 0\\n ~</td>\n",
              "      <td>424890</td>\n",
              "      <td>2064</td>\n",
              "      <td>426954</td>\n",
              "      <td>22.624550</td>\n",
              "      <td>36.681473</td>\n",
              "      <td>1887127</td>\n",
              "    </tr>\n",
              "    <tr>\n",
              "      <th>34</th>\n",
              "      <td>Uttar Pradesh</td>\n",
              "      <td>ALIGARH</td>\n",
              "      <td>BIJENDRA SINGH CHAUDHARY</td>\n",
              "      <td>0</td>\n",
              "      <td>INC</td>\n",
              "      <td>Hand</td>\n",
              "      <td>MALE</td>\n",
              "      <td>4.0</td>\n",
              "      <td>62.0</td>\n",
              "      <td>GENERAL</td>\n",
              "      <td>Graduate</td>\n",
              "      <td>Rs 1,28,63,000\\n ~ 1 Crore+</td>\n",
              "      <td>Rs 42,73,034\\n ~ 42 Lacs+</td>\n",
              "      <td>50346</td>\n",
              "      <td>534</td>\n",
              "      <td>50880</td>\n",
              "      <td>2.696162</td>\n",
              "      <td>4.371322</td>\n",
              "      <td>1887127</td>\n",
              "    </tr>\n",
              "    <tr>\n",
              "      <th>35</th>\n",
              "      <td>West Bengal</td>\n",
              "      <td>ALIPURDUARS</td>\n",
              "      <td>JOHN BARLA</td>\n",
              "      <td>1</td>\n",
              "      <td>BJP</td>\n",
              "      <td>Lotus</td>\n",
              "      <td>MALE</td>\n",
              "      <td>9.0</td>\n",
              "      <td>43.0</td>\n",
              "      <td>ST</td>\n",
              "      <td>8th Pass</td>\n",
              "      <td>Rs 14,18,730\\n ~ 14 Lacs+</td>\n",
              "      <td>Rs 0\\n ~</td>\n",
              "      <td>747788</td>\n",
              "      <td>3016</td>\n",
              "      <td>750804</td>\n",
              "      <td>45.547910</td>\n",
              "      <td>54.359763</td>\n",
              "      <td>1648383</td>\n",
              "    </tr>\n",
              "    <tr>\n",
              "      <th>36</th>\n",
              "      <td>West Bengal</td>\n",
              "      <td>ALIPURDUARS</td>\n",
              "      <td>DASRATH TIRKEY</td>\n",
              "      <td>0</td>\n",
              "      <td>AITC</td>\n",
              "      <td>Flowers and Grass</td>\n",
              "      <td>MALE</td>\n",
              "      <td>0.0</td>\n",
              "      <td>52.0</td>\n",
              "      <td>ST</td>\n",
              "      <td>Graduate</td>\n",
              "      <td>Rs 90,39,609\\n ~ 90 Lacs+</td>\n",
              "      <td>Rs 5,81,713\\n ~ 5 Lacs+</td>\n",
              "      <td>505885</td>\n",
              "      <td>930</td>\n",
              "      <td>506815</td>\n",
              "      <td>30.746192</td>\n",
              "      <td>36.694455</td>\n",
              "      <td>1648383</td>\n",
              "    </tr>\n",
              "    <tr>\n",
              "      <th>37</th>\n",
              "      <td>West Bengal</td>\n",
              "      <td>ALIPURDUARS</td>\n",
              "      <td>MILI ORAON</td>\n",
              "      <td>0</td>\n",
              "      <td>RSP</td>\n",
              "      <td>Spade &amp; Stoker</td>\n",
              "      <td>FEMALE</td>\n",
              "      <td>0.0</td>\n",
              "      <td>42.0</td>\n",
              "      <td>ST</td>\n",
              "      <td>Post Graduate</td>\n",
              "      <td>Rs 28,04,955\\n ~ 28 Lacs+</td>\n",
              "      <td>Rs 3,04,672\\n ~ 3 Lacs+</td>\n",
              "      <td>53859</td>\n",
              "      <td>151</td>\n",
              "      <td>54010</td>\n",
              "      <td>3.276544</td>\n",
              "      <td>3.910436</td>\n",
              "      <td>1648383</td>\n",
              "    </tr>\n",
              "    <tr>\n",
              "      <th>38</th>\n",
              "      <td>West Bengal</td>\n",
              "      <td>ALIPURDUARS</td>\n",
              "      <td>MOHANLAL BASUMATA</td>\n",
              "      <td>0</td>\n",
              "      <td>INC</td>\n",
              "      <td>Hand</td>\n",
              "      <td>MALE</td>\n",
              "      <td>0.0</td>\n",
              "      <td>44.0</td>\n",
              "      <td>ST</td>\n",
              "      <td>Graduate Professional</td>\n",
              "      <td>Rs 23,20,328\\n ~ 23 Lacs+</td>\n",
              "      <td>Rs 6,59,760\\n ~ 6 Lacs+</td>\n",
              "      <td>27279</td>\n",
              "      <td>148</td>\n",
              "      <td>27427</td>\n",
              "      <td>1.663873</td>\n",
              "      <td>1.985772</td>\n",
              "      <td>1648383</td>\n",
              "    </tr>\n",
              "    <tr>\n",
              "      <th>39</th>\n",
              "      <td>West Bengal</td>\n",
              "      <td>ALIPURDUARS</td>\n",
              "      <td>NOTA</td>\n",
              "      <td>0</td>\n",
              "      <td>NOTA</td>\n",
              "      <td>NaN</td>\n",
              "      <td>NaN</td>\n",
              "      <td>NaN</td>\n",
              "      <td>NaN</td>\n",
              "      <td>NaN</td>\n",
              "      <td>NaN</td>\n",
              "      <td>NaN</td>\n",
              "      <td>NaN</td>\n",
              "      <td>21147</td>\n",
              "      <td>28</td>\n",
              "      <td>21175</td>\n",
              "      <td>1.284592</td>\n",
              "      <td>1.533114</td>\n",
              "      <td>1648383</td>\n",
              "    </tr>\n",
              "    <tr>\n",
              "      <th>40</th>\n",
              "      <td>Uttar Pradesh</td>\n",
              "      <td>ALLAHABAD</td>\n",
              "      <td>Rita Bahuguna Joshi</td>\n",
              "      <td>1</td>\n",
              "      <td>BJP</td>\n",
              "      <td>Lotus</td>\n",
              "      <td>FEMALE</td>\n",
              "      <td>6.0</td>\n",
              "      <td>69.0</td>\n",
              "      <td>GENERAL</td>\n",
              "      <td>Doctorate</td>\n",
              "      <td>Rs 2,69,19,330\\n ~ 2 Crore+</td>\n",
              "      <td>Rs 16,00,000\\n ~ 16 Lacs+</td>\n",
              "      <td>493204</td>\n",
              "      <td>1250</td>\n",
              "      <td>494454</td>\n",
              "      <td>28.811649</td>\n",
              "      <td>55.584546</td>\n",
              "      <td>1716160</td>\n",
              "    </tr>\n",
              "    <tr>\n",
              "      <th>41</th>\n",
              "      <td>Uttar Pradesh</td>\n",
              "      <td>ALLAHABAD</td>\n",
              "      <td>Rajendra Singh Patel</td>\n",
              "      <td>0</td>\n",
              "      <td>SP</td>\n",
              "      <td>Bicycle</td>\n",
              "      <td>MALE</td>\n",
              "      <td>0.0</td>\n",
              "      <td>63.0</td>\n",
              "      <td>GENERAL</td>\n",
              "      <td>Graduate</td>\n",
              "      <td>Rs 29,26,81,002\\n ~ 29 Crore+</td>\n",
              "      <td>Rs 0\\n ~</td>\n",
              "      <td>309328</td>\n",
              "      <td>851</td>\n",
              "      <td>310179</td>\n",
              "      <td>18.074014</td>\n",
              "      <td>34.869086</td>\n",
              "      <td>1716160</td>\n",
              "    </tr>\n",
              "    <tr>\n",
              "      <th>42</th>\n",
              "      <td>Uttar Pradesh</td>\n",
              "      <td>ALLAHABAD</td>\n",
              "      <td>Yogesh Shukla</td>\n",
              "      <td>0</td>\n",
              "      <td>INC</td>\n",
              "      <td>Hand</td>\n",
              "      <td>MALE</td>\n",
              "      <td>1.0</td>\n",
              "      <td>49.0</td>\n",
              "      <td>GENERAL</td>\n",
              "      <td>12th Pass</td>\n",
              "      <td>Rs 42,00,199\\n ~ 42 Lacs+</td>\n",
              "      <td>Rs 0\\n ~</td>\n",
              "      <td>31852</td>\n",
              "      <td>101</td>\n",
              "      <td>31953</td>\n",
              "      <td>1.861889</td>\n",
              "      <td>3.592029</td>\n",
              "      <td>1716160</td>\n",
              "    </tr>\n",
              "    <tr>\n",
              "      <th>43</th>\n",
              "      <td>Uttar Pradesh</td>\n",
              "      <td>ALLAHABAD</td>\n",
              "      <td>Girdhar Gopal Tripathi</td>\n",
              "      <td>0</td>\n",
              "      <td>CPI(M)</td>\n",
              "      <td>Ears of Corn And Sickle</td>\n",
              "      <td>MALE</td>\n",
              "      <td>0.0</td>\n",
              "      <td>77.0</td>\n",
              "      <td>GENERAL</td>\n",
              "      <td>Post Graduate</td>\n",
              "      <td>Rs 3,13,97,972\\n ~ 3 Crore+</td>\n",
              "      <td>Rs 3,08,458\\n ~ 3 Lacs+</td>\n",
              "      <td>10397</td>\n",
              "      <td>6</td>\n",
              "      <td>10403</td>\n",
              "      <td>0.606179</td>\n",
              "      <td>1.169464</td>\n",
              "      <td>1716160</td>\n",
              "    </tr>\n",
              "    <tr>\n",
              "      <th>44</th>\n",
              "      <td>Uttarakhand</td>\n",
              "      <td>ALMORA</td>\n",
              "      <td>Ajay Tamta</td>\n",
              "      <td>1</td>\n",
              "      <td>BJP</td>\n",
              "      <td>Lotus</td>\n",
              "      <td>MALE</td>\n",
              "      <td>0.0</td>\n",
              "      <td>46.0</td>\n",
              "      <td>SC</td>\n",
              "      <td>12th Pass</td>\n",
              "      <td>Rs 99,10,448\\n ~ 99 Lacs+</td>\n",
              "      <td>Rs 55,845\\n ~ 55 Thou+</td>\n",
              "      <td>430455</td>\n",
              "      <td>14196</td>\n",
              "      <td>444651</td>\n",
              "      <td>33.237281</td>\n",
              "      <td>63.539090</td>\n",
              "      <td>1337808</td>\n",
              "    </tr>\n",
              "    <tr>\n",
              "      <th>45</th>\n",
              "      <td>Uttarakhand</td>\n",
              "      <td>ALMORA</td>\n",
              "      <td>Pradeep Tamta</td>\n",
              "      <td>0</td>\n",
              "      <td>INC</td>\n",
              "      <td>Hand</td>\n",
              "      <td>MALE</td>\n",
              "      <td>1.0</td>\n",
              "      <td>60.0</td>\n",
              "      <td>SC</td>\n",
              "      <td>Post Graduate</td>\n",
              "      <td>Rs 1,32,93,598\\n ~ 1 Crore+</td>\n",
              "      <td>Rs 25,00,000\\n ~ 25 Lacs+</td>\n",
              "      <td>209836</td>\n",
              "      <td>1829</td>\n",
              "      <td>211665</td>\n",
              "      <td>15.821777</td>\n",
              "      <td>30.246196</td>\n",
              "      <td>1337808</td>\n",
              "    </tr>\n",
              "    <tr>\n",
              "      <th>46</th>\n",
              "      <td>Uttarakhand</td>\n",
              "      <td>ALMORA</td>\n",
              "      <td>NOTA</td>\n",
              "      <td>0</td>\n",
              "      <td>NOTA</td>\n",
              "      <td>NaN</td>\n",
              "      <td>NaN</td>\n",
              "      <td>NaN</td>\n",
              "      <td>NaN</td>\n",
              "      <td>NaN</td>\n",
              "      <td>NaN</td>\n",
              "      <td>NaN</td>\n",
              "      <td>NaN</td>\n",
              "      <td>15311</td>\n",
              "      <td>194</td>\n",
              "      <td>15505</td>\n",
              "      <td>1.158985</td>\n",
              "      <td>2.215611</td>\n",
              "      <td>1337808</td>\n",
              "    </tr>\n",
              "    <tr>\n",
              "      <th>47</th>\n",
              "      <td>Uttarakhand</td>\n",
              "      <td>ALMORA</td>\n",
              "      <td>Sunder Dhoni (Advocate)</td>\n",
              "      <td>0</td>\n",
              "      <td>BSP</td>\n",
              "      <td>Elephant</td>\n",
              "      <td>MALE</td>\n",
              "      <td>0.0</td>\n",
              "      <td>41.0</td>\n",
              "      <td>SC</td>\n",
              "      <td>Post Graduate</td>\n",
              "      <td>Rs 28,70,000\\n ~ 28 Lacs+</td>\n",
              "      <td>Rs 15,00,000\\n ~ 15 Lacs+</td>\n",
              "      <td>10059</td>\n",
              "      <td>131</td>\n",
              "      <td>10190</td>\n",
              "      <td>0.761694</td>\n",
              "      <td>1.456116</td>\n",
              "      <td>1337808</td>\n",
              "    </tr>\n",
              "    <tr>\n",
              "      <th>48</th>\n",
              "      <td>Rajasthan</td>\n",
              "      <td>ALWAR</td>\n",
              "      <td>Balak Nath</td>\n",
              "      <td>1</td>\n",
              "      <td>BJP</td>\n",
              "      <td>Lotus</td>\n",
              "      <td>MALE</td>\n",
              "      <td>0.0</td>\n",
              "      <td>35.0</td>\n",
              "      <td>GENERAL</td>\n",
              "      <td>10th Pass</td>\n",
              "      <td>Rs 3,52,929\\n ~ 3 Lacs+</td>\n",
              "      <td>Rs 0\\n ~</td>\n",
              "      <td>750580</td>\n",
              "      <td>9621</td>\n",
              "      <td>760201</td>\n",
              "      <td>40.253711</td>\n",
              "      <td>59.930216</td>\n",
              "      <td>1888524</td>\n",
              "    </tr>\n",
              "    <tr>\n",
              "      <th>49</th>\n",
              "      <td>Rajasthan</td>\n",
              "      <td>ALWAR</td>\n",
              "      <td>Bhanwar Jitendra Singh</td>\n",
              "      <td>0</td>\n",
              "      <td>INC</td>\n",
              "      <td>Hand</td>\n",
              "      <td>MALE</td>\n",
              "      <td>2.0</td>\n",
              "      <td>47.0</td>\n",
              "      <td>GENERAL</td>\n",
              "      <td>Graduate</td>\n",
              "      <td>Rs 13,65,42,038\\n ~ 13 Crore+</td>\n",
              "      <td>Rs 0\\n ~</td>\n",
              "      <td>426794</td>\n",
              "      <td>3436</td>\n",
              "      <td>430230</td>\n",
              "      <td>22.781283</td>\n",
              "      <td>33.917052</td>\n",
              "      <td>1888524</td>\n",
              "    </tr>\n",
              "  </tbody>\n",
              "</table>\n",
              "</div>"
            ],
            "text/plain": [
              "            STATE  ... TOTAL ELECTORS\n",
              "0       Telangana  ...        1489790\n",
              "1       Telangana  ...        1489790\n",
              "2       Telangana  ...        1489790\n",
              "3       Telangana  ...        1489790\n",
              "4   Uttar Pradesh  ...        1937690\n",
              "5   Uttar Pradesh  ...        1937690\n",
              "6   Uttar Pradesh  ...        1937690\n",
              "7     Maharashtra  ...        1861396\n",
              "8     Maharashtra  ...        1861396\n",
              "9     Maharashtra  ...        1861396\n",
              "10        Gujarat  ...        1811851\n",
              "11        Gujarat  ...        1811851\n",
              "12        Gujarat  ...        1643317\n",
              "13        Gujarat  ...        1643317\n",
              "14        Gujarat  ...        1643317\n",
              "15        Gujarat  ...        1643317\n",
              "16      Rajasthan  ...        1876346\n",
              "17      Rajasthan  ...        1876346\n",
              "18      Rajasthan  ...        1876346\n",
              "19      Rajasthan  ...        1876346\n",
              "20  Uttar Pradesh  ...        1766121\n",
              "21  Uttar Pradesh  ...        1766121\n",
              "22  Uttar Pradesh  ...        1766121\n",
              "23    Maharashtra  ...        1865169\n",
              "24    Maharashtra  ...        1865169\n",
              "25    Maharashtra  ...        1865169\n",
              "26         Kerala  ...        1356701\n",
              "27         Kerala  ...        1356701\n",
              "28         Kerala  ...        1356701\n",
              "29         Kerala  ...        1266794\n",
              "30         Kerala  ...        1266794\n",
              "31         Kerala  ...        1266794\n",
              "32  Uttar Pradesh  ...        1887127\n",
              "33  Uttar Pradesh  ...        1887127\n",
              "34  Uttar Pradesh  ...        1887127\n",
              "35    West Bengal  ...        1648383\n",
              "36    West Bengal  ...        1648383\n",
              "37    West Bengal  ...        1648383\n",
              "38    West Bengal  ...        1648383\n",
              "39    West Bengal  ...        1648383\n",
              "40  Uttar Pradesh  ...        1716160\n",
              "41  Uttar Pradesh  ...        1716160\n",
              "42  Uttar Pradesh  ...        1716160\n",
              "43  Uttar Pradesh  ...        1716160\n",
              "44    Uttarakhand  ...        1337808\n",
              "45    Uttarakhand  ...        1337808\n",
              "46    Uttarakhand  ...        1337808\n",
              "47    Uttarakhand  ...        1337808\n",
              "48      Rajasthan  ...        1888524\n",
              "49      Rajasthan  ...        1888524\n",
              "\n",
              "[50 rows x 19 columns]"
            ]
          },
          "metadata": {
            "tags": []
          },
          "execution_count": 6
        }
      ]
    },
    {
      "cell_type": "markdown",
      "metadata": {
        "id": "6MKCOh-_vwT_",
        "colab_type": "text"
      },
      "source": [
        "#Observation\n",
        "\n",
        "Inital observation leads to finding a lot of Null values. \n",
        "\n",
        "For a first, values classified as NOTA in the name column, had a lot of NaN values. This was because NOTA, meaning None of the Above is used in Indian constitution as a measure to give voters the flexibility to not vote for any candidate but have their vote counted. More on this at [link text](https://en.wikipedia.org/wiki/None_of_the_above)\n",
        "\n",
        "This means that it would not have many features(affiliated party, assets, liabilities). And since we are not running any machine Learning algorithm on this data, we can consider removing them to clean the dataframe. This will get rid of the inital NaN values we can observe. \n",
        "\n",
        "But , NOTA can be a major difference while running prediction algorithms. For now, lets observe alternative options too. \n",
        "\n",
        "We will see what the end of the dataframe has to offer.\n",
        "\n",
        "\n"
      ]
    },
    {
      "cell_type": "code",
      "metadata": {
        "id": "SQcnum0Gvt6J",
        "colab_type": "code",
        "colab": {
          "base_uri": "https://localhost:8080/",
          "height": 1000
        },
        "outputId": "91034c3b-c76b-4360-bc63-fc37289a0987"
      },
      "source": [
        "#tail 50\n",
        "elec_df.tail(50)"
      ],
      "execution_count": 7,
      "outputs": [
        {
          "output_type": "execute_result",
          "data": {
            "text/html": [
              "<div>\n",
              "<style scoped>\n",
              "    .dataframe tbody tr th:only-of-type {\n",
              "        vertical-align: middle;\n",
              "    }\n",
              "\n",
              "    .dataframe tbody tr th {\n",
              "        vertical-align: top;\n",
              "    }\n",
              "\n",
              "    .dataframe thead th {\n",
              "        text-align: right;\n",
              "    }\n",
              "</style>\n",
              "<table border=\"1\" class=\"dataframe\">\n",
              "  <thead>\n",
              "    <tr style=\"text-align: right;\">\n",
              "      <th></th>\n",
              "      <th>STATE</th>\n",
              "      <th>CONSTITUENCY</th>\n",
              "      <th>NAME</th>\n",
              "      <th>WINNER</th>\n",
              "      <th>PARTY</th>\n",
              "      <th>SYMBOL</th>\n",
              "      <th>GENDER</th>\n",
              "      <th>CRIMINAL\\nCASES</th>\n",
              "      <th>AGE</th>\n",
              "      <th>CATEGORY</th>\n",
              "      <th>EDUCATION</th>\n",
              "      <th>ASSETS</th>\n",
              "      <th>LIABILITIES</th>\n",
              "      <th>GENERAL\\nVOTES</th>\n",
              "      <th>POSTAL\\nVOTES</th>\n",
              "      <th>TOTAL\\nVOTES</th>\n",
              "      <th>OVER TOTAL ELECTORS \\nIN CONSTITUENCY</th>\n",
              "      <th>OVER TOTAL VOTES POLLED \\nIN CONSTITUENCY</th>\n",
              "      <th>TOTAL ELECTORS</th>\n",
              "    </tr>\n",
              "  </thead>\n",
              "  <tbody>\n",
              "    <tr>\n",
              "      <th>2213</th>\n",
              "      <td>Tamil Nadu</td>\n",
              "      <td>VILUPPURAM</td>\n",
              "      <td>RAVIKUMAR D</td>\n",
              "      <td>1</td>\n",
              "      <td>DMK</td>\n",
              "      <td>Rising Sun</td>\n",
              "      <td>MALE</td>\n",
              "      <td>0.0</td>\n",
              "      <td>58.0</td>\n",
              "      <td>SC</td>\n",
              "      <td>Doctorate</td>\n",
              "      <td>Rs 65,09,860\\n ~ 65 Lacs+</td>\n",
              "      <td>Rs 13,69,031\\n ~ 13 Lacs+</td>\n",
              "      <td>556675</td>\n",
              "      <td>2910</td>\n",
              "      <td>559585</td>\n",
              "      <td>38.743436</td>\n",
              "      <td>49.254994</td>\n",
              "      <td>1444335</td>\n",
              "    </tr>\n",
              "    <tr>\n",
              "      <th>2214</th>\n",
              "      <td>Tamil Nadu</td>\n",
              "      <td>VILUPPURAM</td>\n",
              "      <td>VADIVEL RAVA S</td>\n",
              "      <td>0</td>\n",
              "      <td>PMK</td>\n",
              "      <td>Mango</td>\n",
              "      <td>MALE</td>\n",
              "      <td>0.0</td>\n",
              "      <td>66.0</td>\n",
              "      <td>SC</td>\n",
              "      <td>Graduate</td>\n",
              "      <td>Rs 19,25,000\\n ~ 19 Lacs+</td>\n",
              "      <td>Rs 0\\n ~</td>\n",
              "      <td>430091</td>\n",
              "      <td>1426</td>\n",
              "      <td>431517</td>\n",
              "      <td>29.876518</td>\n",
              "      <td>37.982375</td>\n",
              "      <td>1444335</td>\n",
              "    </tr>\n",
              "    <tr>\n",
              "      <th>2215</th>\n",
              "      <td>Tamil Nadu</td>\n",
              "      <td>VILUPPURAM</td>\n",
              "      <td>GANAPATHY N</td>\n",
              "      <td>0</td>\n",
              "      <td>IND</td>\n",
              "      <td>Gift Pack</td>\n",
              "      <td>MALE</td>\n",
              "      <td>0.0</td>\n",
              "      <td>55.0</td>\n",
              "      <td>SC</td>\n",
              "      <td>8th Pass</td>\n",
              "      <td>Rs 79,53,000\\n ~ 79 Lacs+</td>\n",
              "      <td>Rs 21,50,000\\n ~ 21 Lacs+</td>\n",
              "      <td>57939</td>\n",
              "      <td>80</td>\n",
              "      <td>58019</td>\n",
              "      <td>4.017004</td>\n",
              "      <td>5.106866</td>\n",
              "      <td>1444335</td>\n",
              "    </tr>\n",
              "    <tr>\n",
              "      <th>2216</th>\n",
              "      <td>Tamil Nadu</td>\n",
              "      <td>VILUPPURAM</td>\n",
              "      <td>PRAKALATHA D</td>\n",
              "      <td>0</td>\n",
              "      <td>NTK</td>\n",
              "      <td>Ganna Kisan</td>\n",
              "      <td>FEMALE</td>\n",
              "      <td>1.0</td>\n",
              "      <td>30.0</td>\n",
              "      <td>SC</td>\n",
              "      <td>Post Graduate</td>\n",
              "      <td>Rs 13,53,000\\n ~ 13 Lacs+</td>\n",
              "      <td>Rs 8,00,000\\n ~ 8 Lacs+</td>\n",
              "      <td>24480</td>\n",
              "      <td>129</td>\n",
              "      <td>24609</td>\n",
              "      <td>1.703829</td>\n",
              "      <td>2.166098</td>\n",
              "      <td>1444335</td>\n",
              "    </tr>\n",
              "    <tr>\n",
              "      <th>2217</th>\n",
              "      <td>Tamil Nadu</td>\n",
              "      <td>VILUPPURAM</td>\n",
              "      <td>ANBIN POYYAMOZHI S</td>\n",
              "      <td>0</td>\n",
              "      <td>MNM</td>\n",
              "      <td>Battery Torch</td>\n",
              "      <td>MALE</td>\n",
              "      <td>1.0</td>\n",
              "      <td>48.0</td>\n",
              "      <td>SC</td>\n",
              "      <td>Post Graduate</td>\n",
              "      <td>Rs 1,22,000\\n ~ 1 Lacs+</td>\n",
              "      <td>Rs 0\\n ~</td>\n",
              "      <td>17819</td>\n",
              "      <td>72</td>\n",
              "      <td>17891</td>\n",
              "      <td>1.238702</td>\n",
              "      <td>1.574776</td>\n",
              "      <td>1444335</td>\n",
              "    </tr>\n",
              "    <tr>\n",
              "      <th>2218</th>\n",
              "      <td>Tamil Nadu</td>\n",
              "      <td>VILUPPURAM</td>\n",
              "      <td>ARASAN K</td>\n",
              "      <td>0</td>\n",
              "      <td>IND</td>\n",
              "      <td>Jackfruit</td>\n",
              "      <td>MALE</td>\n",
              "      <td>0.0</td>\n",
              "      <td>64.0</td>\n",
              "      <td>SC</td>\n",
              "      <td>Illiterate</td>\n",
              "      <td>Rs 3,30,000\\n ~ 3 Lacs+</td>\n",
              "      <td>Rs 0\\n ~</td>\n",
              "      <td>12778</td>\n",
              "      <td>3</td>\n",
              "      <td>12781</td>\n",
              "      <td>0.884906</td>\n",
              "      <td>1.124991</td>\n",
              "      <td>1444335</td>\n",
              "    </tr>\n",
              "    <tr>\n",
              "      <th>2219</th>\n",
              "      <td>Tamil Nadu</td>\n",
              "      <td>VILUPPURAM</td>\n",
              "      <td>NOTA</td>\n",
              "      <td>0</td>\n",
              "      <td>NOTA</td>\n",
              "      <td>NaN</td>\n",
              "      <td>NaN</td>\n",
              "      <td>NaN</td>\n",
              "      <td>NaN</td>\n",
              "      <td>NaN</td>\n",
              "      <td>NaN</td>\n",
              "      <td>NaN</td>\n",
              "      <td>NaN</td>\n",
              "      <td>11882</td>\n",
              "      <td>61</td>\n",
              "      <td>11943</td>\n",
              "      <td>0.826886</td>\n",
              "      <td>1.051230</td>\n",
              "      <td>1444335</td>\n",
              "    </tr>\n",
              "    <tr>\n",
              "      <th>2220</th>\n",
              "      <td>Tamil Nadu</td>\n",
              "      <td>VIRUDHUNAGAR</td>\n",
              "      <td>MANICKAM TAGORE, B.</td>\n",
              "      <td>1</td>\n",
              "      <td>INC</td>\n",
              "      <td>Hand</td>\n",
              "      <td>MALE</td>\n",
              "      <td>1.0</td>\n",
              "      <td>44.0</td>\n",
              "      <td>GENERAL</td>\n",
              "      <td>Graduate Professional</td>\n",
              "      <td>Rs 1,72,92,470 \\n1 Crore+</td>\n",
              "      <td>Rs 49,53,498\\n ~49 Lacs+</td>\n",
              "      <td>464667</td>\n",
              "      <td>6216</td>\n",
              "      <td>470883</td>\n",
              "      <td>31.725188</td>\n",
              "      <td>43.765370</td>\n",
              "      <td>1484256</td>\n",
              "    </tr>\n",
              "    <tr>\n",
              "      <th>2221</th>\n",
              "      <td>Tamil Nadu</td>\n",
              "      <td>VIRUDHUNAGAR</td>\n",
              "      <td>ALAGARSAMY, R.</td>\n",
              "      <td>0</td>\n",
              "      <td>DMDK</td>\n",
              "      <td>Nagara</td>\n",
              "      <td>MALE</td>\n",
              "      <td>3.0</td>\n",
              "      <td>47.0</td>\n",
              "      <td>GENERAL</td>\n",
              "      <td>10th Pass</td>\n",
              "      <td>Rs 1,26,71,316\\n ~ 1 Crore+</td>\n",
              "      <td>Rs 3,38,783\\n ~ 3 Lacs+</td>\n",
              "      <td>315055</td>\n",
              "      <td>1274</td>\n",
              "      <td>316329</td>\n",
              "      <td>21.312294</td>\n",
              "      <td>29.400628</td>\n",
              "      <td>1484256</td>\n",
              "    </tr>\n",
              "    <tr>\n",
              "      <th>2222</th>\n",
              "      <td>Tamil Nadu</td>\n",
              "      <td>VIRUDHUNAGAR</td>\n",
              "      <td>PARAMASIVA IYYAPPAN, S.</td>\n",
              "      <td>0</td>\n",
              "      <td>IND</td>\n",
              "      <td>Gift Pack</td>\n",
              "      <td>MALE</td>\n",
              "      <td>0.0</td>\n",
              "      <td>45.0</td>\n",
              "      <td>GENERAL</td>\n",
              "      <td>12th Pass</td>\n",
              "      <td>Rs 3,52,54,454\\n ~ 3 Crore+</td>\n",
              "      <td>Rs 78,36,152\\n ~ 78 Lacs+</td>\n",
              "      <td>107033</td>\n",
              "      <td>582</td>\n",
              "      <td>107615</td>\n",
              "      <td>7.250434</td>\n",
              "      <td>10.002082</td>\n",
              "      <td>1484256</td>\n",
              "    </tr>\n",
              "    <tr>\n",
              "      <th>2223</th>\n",
              "      <td>Tamil Nadu</td>\n",
              "      <td>VIRUDHUNAGAR</td>\n",
              "      <td>MUNIYASAMY, V.</td>\n",
              "      <td>0</td>\n",
              "      <td>MNM</td>\n",
              "      <td>Battery Torch</td>\n",
              "      <td>MALE</td>\n",
              "      <td>NaN</td>\n",
              "      <td>41.0</td>\n",
              "      <td>GENERAL</td>\n",
              "      <td>NaN</td>\n",
              "      <td>NaN</td>\n",
              "      <td>NaN</td>\n",
              "      <td>56815</td>\n",
              "      <td>314</td>\n",
              "      <td>57129</td>\n",
              "      <td>3.848999</td>\n",
              "      <td>5.309752</td>\n",
              "      <td>1484256</td>\n",
              "    </tr>\n",
              "    <tr>\n",
              "      <th>2224</th>\n",
              "      <td>Tamil Nadu</td>\n",
              "      <td>VIRUDHUNAGAR</td>\n",
              "      <td>ARULMOZHITHEVAN, K.</td>\n",
              "      <td>0</td>\n",
              "      <td>NTK</td>\n",
              "      <td>Ganna Kisan</td>\n",
              "      <td>MALE</td>\n",
              "      <td>0.0</td>\n",
              "      <td>36.0</td>\n",
              "      <td>GENERAL</td>\n",
              "      <td>Graduate Professional</td>\n",
              "      <td>Rs 1,58,35,879\\n ~ 1 Crore+</td>\n",
              "      <td>Rs 0\\n ~</td>\n",
              "      <td>52591</td>\n",
              "      <td>449</td>\n",
              "      <td>53040</td>\n",
              "      <td>3.573508</td>\n",
              "      <td>4.929707</td>\n",
              "      <td>1484256</td>\n",
              "    </tr>\n",
              "    <tr>\n",
              "      <th>2225</th>\n",
              "      <td>Tamil Nadu</td>\n",
              "      <td>VIRUDHUNAGAR</td>\n",
              "      <td>NOTA</td>\n",
              "      <td>0</td>\n",
              "      <td>NOTA</td>\n",
              "      <td>NaN</td>\n",
              "      <td>NaN</td>\n",
              "      <td>NaN</td>\n",
              "      <td>NaN</td>\n",
              "      <td>NaN</td>\n",
              "      <td>NaN</td>\n",
              "      <td>NaN</td>\n",
              "      <td>NaN</td>\n",
              "      <td>17087</td>\n",
              "      <td>205</td>\n",
              "      <td>17292</td>\n",
              "      <td>1.165028</td>\n",
              "      <td>1.607174</td>\n",
              "      <td>1484256</td>\n",
              "    </tr>\n",
              "    <tr>\n",
              "      <th>2226</th>\n",
              "      <td>Andhra Pradesh</td>\n",
              "      <td>VISAKHAPATNAM</td>\n",
              "      <td>M V V SATYANARAYANA</td>\n",
              "      <td>1</td>\n",
              "      <td>YSRCP</td>\n",
              "      <td>Ceiling Fan</td>\n",
              "      <td>MALE</td>\n",
              "      <td>1.0</td>\n",
              "      <td>52.0</td>\n",
              "      <td>GENERAL</td>\n",
              "      <td>10th Pass</td>\n",
              "      <td>Rs 2,02,39,05,124\\n ~ 202 Crore+</td>\n",
              "      <td>Rs 16,00,30,959\\n ~ 16 Crore+</td>\n",
              "      <td>433968</td>\n",
              "      <td>2938</td>\n",
              "      <td>436906</td>\n",
              "      <td>23.883781</td>\n",
              "      <td>35.236600</td>\n",
              "      <td>1829300</td>\n",
              "    </tr>\n",
              "    <tr>\n",
              "      <th>2227</th>\n",
              "      <td>Andhra Pradesh</td>\n",
              "      <td>VISAKHAPATNAM</td>\n",
              "      <td>BHARAT MATHUKUMILLI</td>\n",
              "      <td>0</td>\n",
              "      <td>TDP</td>\n",
              "      <td>Bicycle</td>\n",
              "      <td>MALE</td>\n",
              "      <td>0.0</td>\n",
              "      <td>29.0</td>\n",
              "      <td>GENERAL</td>\n",
              "      <td>Post Graduate</td>\n",
              "      <td>Rs 2,32,53,73,550\\n ~ 232 Crore+</td>\n",
              "      <td>Rs 95,91,144\\n ~ 95 Lacs+</td>\n",
              "      <td>431093</td>\n",
              "      <td>1399</td>\n",
              "      <td>432492</td>\n",
              "      <td>23.642486</td>\n",
              "      <td>34.880609</td>\n",
              "      <td>1829300</td>\n",
              "    </tr>\n",
              "    <tr>\n",
              "      <th>2228</th>\n",
              "      <td>Andhra Pradesh</td>\n",
              "      <td>VISAKHAPATNAM</td>\n",
              "      <td>V.V. LAKSHMI NARAYANA</td>\n",
              "      <td>0</td>\n",
              "      <td>JnP</td>\n",
              "      <td>Glass Tumbler</td>\n",
              "      <td>MALE</td>\n",
              "      <td>0.0</td>\n",
              "      <td>53.0</td>\n",
              "      <td>GENERAL</td>\n",
              "      <td>Post Graduate</td>\n",
              "      <td>Rs 8,64,65,496\\n ~ 8 Crore+</td>\n",
              "      <td>Rs 0\\n ~</td>\n",
              "      <td>287072</td>\n",
              "      <td>1802</td>\n",
              "      <td>288874</td>\n",
              "      <td>15.791505</td>\n",
              "      <td>23.297775</td>\n",
              "      <td>1829300</td>\n",
              "    </tr>\n",
              "    <tr>\n",
              "      <th>2229</th>\n",
              "      <td>Andhra Pradesh</td>\n",
              "      <td>VISAKHAPATNAM</td>\n",
              "      <td>DAGGUBATI PURANDESWARI</td>\n",
              "      <td>0</td>\n",
              "      <td>BJP</td>\n",
              "      <td>Lotus</td>\n",
              "      <td>FEMALE</td>\n",
              "      <td>0.0</td>\n",
              "      <td>58.0</td>\n",
              "      <td>GENERAL</td>\n",
              "      <td>Graduate</td>\n",
              "      <td>Rs 32,40,38,450\\n ~ 32 Crore+</td>\n",
              "      <td>Rs 3,49,49,036\\n ~ 3 Crore+</td>\n",
              "      <td>33430</td>\n",
              "      <td>462</td>\n",
              "      <td>33892</td>\n",
              "      <td>1.852731</td>\n",
              "      <td>2.733400</td>\n",
              "      <td>1829300</td>\n",
              "    </tr>\n",
              "    <tr>\n",
              "      <th>2230</th>\n",
              "      <td>Andhra Pradesh</td>\n",
              "      <td>VISAKHAPATNAM</td>\n",
              "      <td>NOTA</td>\n",
              "      <td>0</td>\n",
              "      <td>NOTA</td>\n",
              "      <td>NaN</td>\n",
              "      <td>NaN</td>\n",
              "      <td>NaN</td>\n",
              "      <td>NaN</td>\n",
              "      <td>NaN</td>\n",
              "      <td>NaN</td>\n",
              "      <td>NaN</td>\n",
              "      <td>NaN</td>\n",
              "      <td>16626</td>\n",
              "      <td>20</td>\n",
              "      <td>16646</td>\n",
              "      <td>0.909966</td>\n",
              "      <td>1.342505</td>\n",
              "      <td>1829300</td>\n",
              "    </tr>\n",
              "    <tr>\n",
              "      <th>2231</th>\n",
              "      <td>Andhra Pradesh</td>\n",
              "      <td>VISAKHAPATNAM</td>\n",
              "      <td>PEDADA. RAMANIKUMARI</td>\n",
              "      <td>0</td>\n",
              "      <td>INC</td>\n",
              "      <td>Hand</td>\n",
              "      <td>FEMALE</td>\n",
              "      <td>0.0</td>\n",
              "      <td>48.0</td>\n",
              "      <td>GENERAL</td>\n",
              "      <td>Post Graduate</td>\n",
              "      <td>Rs 11,79,36,000\\n ~ 11 Crore+</td>\n",
              "      <td>Rs 0\\n ~</td>\n",
              "      <td>14550</td>\n",
              "      <td>83</td>\n",
              "      <td>14633</td>\n",
              "      <td>0.799923</td>\n",
              "      <td>1.180156</td>\n",
              "      <td>1829300</td>\n",
              "    </tr>\n",
              "    <tr>\n",
              "      <th>2232</th>\n",
              "      <td>Andhra Pradesh</td>\n",
              "      <td>VIZIANAGARAM</td>\n",
              "      <td>Bellana Chandra Sekhar</td>\n",
              "      <td>1</td>\n",
              "      <td>YSRCP</td>\n",
              "      <td>Ceiling Fan</td>\n",
              "      <td>MALE</td>\n",
              "      <td>4.0</td>\n",
              "      <td>57.0</td>\n",
              "      <td>GENERAL</td>\n",
              "      <td>Graduate Professional</td>\n",
              "      <td>Rs 2,10,35,766\\n ~ 2 Crore+</td>\n",
              "      <td>Rs 1,11,30,148\\n ~ 1 Crore+</td>\n",
              "      <td>573466</td>\n",
              "      <td>4952</td>\n",
              "      <td>578418</td>\n",
              "      <td>38.459155</td>\n",
              "      <td>47.316949</td>\n",
              "      <td>1503980</td>\n",
              "    </tr>\n",
              "    <tr>\n",
              "      <th>2233</th>\n",
              "      <td>Andhra Pradesh</td>\n",
              "      <td>VIZIANAGARAM</td>\n",
              "      <td>Ashok Gajapathi Raju Pusapati</td>\n",
              "      <td>0</td>\n",
              "      <td>TDP</td>\n",
              "      <td>Bicycle</td>\n",
              "      <td>MALE</td>\n",
              "      <td>0.0</td>\n",
              "      <td>67.0</td>\n",
              "      <td>GENERAL</td>\n",
              "      <td>12th Pass</td>\n",
              "      <td>Rs 18,35,34,582\\n ~ 18 Crore+</td>\n",
              "      <td>Rs 0\\n ~</td>\n",
              "      <td>527307</td>\n",
              "      <td>3075</td>\n",
              "      <td>530382</td>\n",
              "      <td>35.265230</td>\n",
              "      <td>43.387409</td>\n",
              "      <td>1503980</td>\n",
              "    </tr>\n",
              "    <tr>\n",
              "      <th>2234</th>\n",
              "      <td>Andhra Pradesh</td>\n",
              "      <td>VIZIANAGARAM</td>\n",
              "      <td>Mukka Srinivas Rao</td>\n",
              "      <td>0</td>\n",
              "      <td>JnP</td>\n",
              "      <td>Glass Tumbler</td>\n",
              "      <td>MALE</td>\n",
              "      <td>0.0</td>\n",
              "      <td>39.0</td>\n",
              "      <td>GENERAL</td>\n",
              "      <td>10th Pass</td>\n",
              "      <td>Rs 1,34,28,596\\n ~ 1 Crore+</td>\n",
              "      <td>Rs 0\\n ~</td>\n",
              "      <td>33779</td>\n",
              "      <td>413</td>\n",
              "      <td>34192</td>\n",
              "      <td>2.273434</td>\n",
              "      <td>2.797045</td>\n",
              "      <td>1503980</td>\n",
              "    </tr>\n",
              "    <tr>\n",
              "      <th>2235</th>\n",
              "      <td>Andhra Pradesh</td>\n",
              "      <td>VIZIANAGARAM</td>\n",
              "      <td>NOTA</td>\n",
              "      <td>0</td>\n",
              "      <td>NOTA</td>\n",
              "      <td>NaN</td>\n",
              "      <td>NaN</td>\n",
              "      <td>NaN</td>\n",
              "      <td>NaN</td>\n",
              "      <td>NaN</td>\n",
              "      <td>NaN</td>\n",
              "      <td>NaN</td>\n",
              "      <td>NaN</td>\n",
              "      <td>29468</td>\n",
              "      <td>33</td>\n",
              "      <td>29501</td>\n",
              "      <td>1.961529</td>\n",
              "      <td>2.413302</td>\n",
              "      <td>1503980</td>\n",
              "    </tr>\n",
              "    <tr>\n",
              "      <th>2236</th>\n",
              "      <td>Andhra Pradesh</td>\n",
              "      <td>VIZIANAGARAM</td>\n",
              "      <td>Adiraju Yedla</td>\n",
              "      <td>0</td>\n",
              "      <td>INC</td>\n",
              "      <td>Hand</td>\n",
              "      <td>MALE</td>\n",
              "      <td>0.0</td>\n",
              "      <td>52.0</td>\n",
              "      <td>GENERAL</td>\n",
              "      <td>Post Graduate</td>\n",
              "      <td>Rs 4,72,14,000\\n ~ 4 Crore+</td>\n",
              "      <td>Rs 30,88,876\\n ~ 30 Lacs+</td>\n",
              "      <td>15607</td>\n",
              "      <td>118</td>\n",
              "      <td>15725</td>\n",
              "      <td>1.045559</td>\n",
              "      <td>1.286369</td>\n",
              "      <td>1503980</td>\n",
              "    </tr>\n",
              "    <tr>\n",
              "      <th>2237</th>\n",
              "      <td>Telangana</td>\n",
              "      <td>WARANGAL</td>\n",
              "      <td>DAYAKAR PASUNOORI</td>\n",
              "      <td>1</td>\n",
              "      <td>TRS</td>\n",
              "      <td>Car</td>\n",
              "      <td>MALE</td>\n",
              "      <td>0.0</td>\n",
              "      <td>51.0</td>\n",
              "      <td>SC</td>\n",
              "      <td>Graduate</td>\n",
              "      <td>Rs 2,48,89,712\\n ~ 2 Crore+</td>\n",
              "      <td>Rs 14,28,227\\n ~ 14 Lacs+</td>\n",
              "      <td>612027</td>\n",
              "      <td>471</td>\n",
              "      <td>612498</td>\n",
              "      <td>36.747602</td>\n",
              "      <td>57.691829</td>\n",
              "      <td>1666770</td>\n",
              "    </tr>\n",
              "    <tr>\n",
              "      <th>2238</th>\n",
              "      <td>Telangana</td>\n",
              "      <td>WARANGAL</td>\n",
              "      <td>DOMMATI SAMBAIAH</td>\n",
              "      <td>0</td>\n",
              "      <td>INC</td>\n",
              "      <td>Hand</td>\n",
              "      <td>MALE</td>\n",
              "      <td>0.0</td>\n",
              "      <td>56.0</td>\n",
              "      <td>SC</td>\n",
              "      <td>Graduate</td>\n",
              "      <td>Rs 1,22,11,566\\n ~ 1 Crore+</td>\n",
              "      <td>Rs 55,52,696\\n ~ 55 Lacs+</td>\n",
              "      <td>261816</td>\n",
              "      <td>384</td>\n",
              "      <td>262200</td>\n",
              "      <td>15.731025</td>\n",
              "      <td>24.696893</td>\n",
              "      <td>1666770</td>\n",
              "    </tr>\n",
              "    <tr>\n",
              "      <th>2239</th>\n",
              "      <td>Telangana</td>\n",
              "      <td>WARANGAL</td>\n",
              "      <td>CHINTHA SAMBAMURTHY</td>\n",
              "      <td>0</td>\n",
              "      <td>BJP</td>\n",
              "      <td>Lotus</td>\n",
              "      <td>MALE</td>\n",
              "      <td>0.0</td>\n",
              "      <td>65.0</td>\n",
              "      <td>SC</td>\n",
              "      <td>12th Pass</td>\n",
              "      <td>Rs 25,03,100\\n ~ 25 Lacs+</td>\n",
              "      <td>Rs 6,60,000\\n ~ 6 Lacs+</td>\n",
              "      <td>83455</td>\n",
              "      <td>322</td>\n",
              "      <td>83777</td>\n",
              "      <td>5.026308</td>\n",
              "      <td>7.891044</td>\n",
              "      <td>1666770</td>\n",
              "    </tr>\n",
              "    <tr>\n",
              "      <th>2240</th>\n",
              "      <td>Telangana</td>\n",
              "      <td>WARANGAL</td>\n",
              "      <td>BUNGA JYOTHI RAMANA</td>\n",
              "      <td>0</td>\n",
              "      <td>AHNP</td>\n",
              "      <td>CHAPATI ROLLER</td>\n",
              "      <td>FEMALE</td>\n",
              "      <td>1.0</td>\n",
              "      <td>45.0</td>\n",
              "      <td>SC</td>\n",
              "      <td>Graduate</td>\n",
              "      <td>Rs 16,65,000\\n ~ 16 Lacs+</td>\n",
              "      <td>Rs 3,00,000\\n ~ 3 Lacs+</td>\n",
              "      <td>29182</td>\n",
              "      <td>1</td>\n",
              "      <td>29183</td>\n",
              "      <td>1.750871</td>\n",
              "      <td>2.748777</td>\n",
              "      <td>1666770</td>\n",
              "    </tr>\n",
              "    <tr>\n",
              "      <th>2241</th>\n",
              "      <td>Telangana</td>\n",
              "      <td>WARANGAL</td>\n",
              "      <td>NOTA</td>\n",
              "      <td>0</td>\n",
              "      <td>NOTA</td>\n",
              "      <td>NaN</td>\n",
              "      <td>NaN</td>\n",
              "      <td>NaN</td>\n",
              "      <td>NaN</td>\n",
              "      <td>NaN</td>\n",
              "      <td>NaN</td>\n",
              "      <td>NaN</td>\n",
              "      <td>NaN</td>\n",
              "      <td>18764</td>\n",
              "      <td>37</td>\n",
              "      <td>18801</td>\n",
              "      <td>1.127990</td>\n",
              "      <td>1.770886</td>\n",
              "      <td>1666770</td>\n",
              "    </tr>\n",
              "    <tr>\n",
              "      <th>2242</th>\n",
              "      <td>Telangana</td>\n",
              "      <td>WARANGAL</td>\n",
              "      <td>UPENDER JERIPOTHULA</td>\n",
              "      <td>0</td>\n",
              "      <td>IND</td>\n",
              "      <td>Road Roller</td>\n",
              "      <td>MALE</td>\n",
              "      <td>0.0</td>\n",
              "      <td>37.0</td>\n",
              "      <td>SC</td>\n",
              "      <td>Post Graduate</td>\n",
              "      <td>Rs 6,50,000\\n ~ 6 Lacs+</td>\n",
              "      <td>Rs 0\\n ~</td>\n",
              "      <td>14033</td>\n",
              "      <td>0</td>\n",
              "      <td>14033</td>\n",
              "      <td>0.841928</td>\n",
              "      <td>1.321783</td>\n",
              "      <td>1666770</td>\n",
              "    </tr>\n",
              "    <tr>\n",
              "      <th>2243</th>\n",
              "      <td>Maharashtra</td>\n",
              "      <td>WARDHA</td>\n",
              "      <td>Ramdas Chandrabhanji Tadas</td>\n",
              "      <td>1</td>\n",
              "      <td>BJP</td>\n",
              "      <td>Lotus</td>\n",
              "      <td>MALE</td>\n",
              "      <td>0.0</td>\n",
              "      <td>65.0</td>\n",
              "      <td>GENERAL</td>\n",
              "      <td>10th Pass</td>\n",
              "      <td>Rs 6,58,07,822\\n ~ 6 Crore+</td>\n",
              "      <td>Rs 89,61,387\\n ~ 89 Lacs+</td>\n",
              "      <td>575488</td>\n",
              "      <td>2876</td>\n",
              "      <td>578364</td>\n",
              "      <td>33.176713</td>\n",
              "      <td>53.918820</td>\n",
              "      <td>1743283</td>\n",
              "    </tr>\n",
              "    <tr>\n",
              "      <th>2244</th>\n",
              "      <td>Maharashtra</td>\n",
              "      <td>WARDHA</td>\n",
              "      <td>Charulata Rao Tokas</td>\n",
              "      <td>0</td>\n",
              "      <td>INC</td>\n",
              "      <td>Hand</td>\n",
              "      <td>FEMALE</td>\n",
              "      <td>0.0</td>\n",
              "      <td>53.0</td>\n",
              "      <td>GENERAL</td>\n",
              "      <td>Graduate Professional</td>\n",
              "      <td>Rs 13,61,23,032\\n ~ 13 Crore+</td>\n",
              "      <td>Rs 0\\n ~</td>\n",
              "      <td>389243</td>\n",
              "      <td>1930</td>\n",
              "      <td>391173</td>\n",
              "      <td>22.438870</td>\n",
              "      <td>36.467669</td>\n",
              "      <td>1743283</td>\n",
              "    </tr>\n",
              "    <tr>\n",
              "      <th>2245</th>\n",
              "      <td>Maharashtra</td>\n",
              "      <td>WARDHA</td>\n",
              "      <td>Dhanraj Kothiramji Wanjari</td>\n",
              "      <td>0</td>\n",
              "      <td>VBA</td>\n",
              "      <td>Whistle</td>\n",
              "      <td>MALE</td>\n",
              "      <td>1.0</td>\n",
              "      <td>63.0</td>\n",
              "      <td>GENERAL</td>\n",
              "      <td>Post Graduate</td>\n",
              "      <td>Rs 9,76,29,000\\n ~ 9 Crore+</td>\n",
              "      <td>Rs 0\\n ~</td>\n",
              "      <td>36149</td>\n",
              "      <td>303</td>\n",
              "      <td>36452</td>\n",
              "      <td>2.090997</td>\n",
              "      <td>3.398290</td>\n",
              "      <td>1743283</td>\n",
              "    </tr>\n",
              "    <tr>\n",
              "      <th>2246</th>\n",
              "      <td>Maharashtra</td>\n",
              "      <td>WARDHA</td>\n",
              "      <td>Agrawal Shaileshkumar Premkishorji</td>\n",
              "      <td>0</td>\n",
              "      <td>BSP</td>\n",
              "      <td>Elephant</td>\n",
              "      <td>MALE</td>\n",
              "      <td>1.0</td>\n",
              "      <td>37.0</td>\n",
              "      <td>GENERAL</td>\n",
              "      <td>Post Graduate</td>\n",
              "      <td>Rs 13,51,49,000\\n ~ 13 Crore+</td>\n",
              "      <td>Rs 20,98,380\\n ~ 20 Lacs+</td>\n",
              "      <td>36296</td>\n",
              "      <td>127</td>\n",
              "      <td>36423</td>\n",
              "      <td>2.089334</td>\n",
              "      <td>3.395587</td>\n",
              "      <td>1743283</td>\n",
              "    </tr>\n",
              "    <tr>\n",
              "      <th>2247</th>\n",
              "      <td>Kerala</td>\n",
              "      <td>WAYANAD</td>\n",
              "      <td>Rahul Gandhi</td>\n",
              "      <td>1</td>\n",
              "      <td>INC</td>\n",
              "      <td>Hand</td>\n",
              "      <td>MALE</td>\n",
              "      <td>5.0</td>\n",
              "      <td>48.0</td>\n",
              "      <td>GENERAL</td>\n",
              "      <td>Post Graduate</td>\n",
              "      <td>Rs 15,88,77,063\\n ~ 15 Crore+</td>\n",
              "      <td>Rs 72,01,904\\n ~ 72 Lacs+</td>\n",
              "      <td>705034</td>\n",
              "      <td>1333</td>\n",
              "      <td>706367</td>\n",
              "      <td>51.951012</td>\n",
              "      <td>64.640694</td>\n",
              "      <td>1359679</td>\n",
              "    </tr>\n",
              "    <tr>\n",
              "      <th>2248</th>\n",
              "      <td>Kerala</td>\n",
              "      <td>WAYANAD</td>\n",
              "      <td>P.P. Suneer</td>\n",
              "      <td>0</td>\n",
              "      <td>CPI(M)</td>\n",
              "      <td>Ears of Corn And Sickle</td>\n",
              "      <td>MALE</td>\n",
              "      <td>0.0</td>\n",
              "      <td>50.0</td>\n",
              "      <td>GENERAL</td>\n",
              "      <td>Post Graduate</td>\n",
              "      <td>Rs 1,38,15,960\\n ~ 1 Crore+</td>\n",
              "      <td>Rs 0\\n ~</td>\n",
              "      <td>273971</td>\n",
              "      <td>626</td>\n",
              "      <td>274597</td>\n",
              "      <td>20.195723</td>\n",
              "      <td>25.128780</td>\n",
              "      <td>1359679</td>\n",
              "    </tr>\n",
              "    <tr>\n",
              "      <th>2249</th>\n",
              "      <td>Kerala</td>\n",
              "      <td>WAYANAD</td>\n",
              "      <td>Thushar Vellappally</td>\n",
              "      <td>0</td>\n",
              "      <td>BDJS</td>\n",
              "      <td>Pot</td>\n",
              "      <td>MALE</td>\n",
              "      <td>NaN</td>\n",
              "      <td>50.0</td>\n",
              "      <td>GENERAL</td>\n",
              "      <td>NaN</td>\n",
              "      <td>NaN</td>\n",
              "      <td>NaN</td>\n",
              "      <td>78590</td>\n",
              "      <td>226</td>\n",
              "      <td>78816</td>\n",
              "      <td>5.796662</td>\n",
              "      <td>7.212569</td>\n",
              "      <td>1359679</td>\n",
              "    </tr>\n",
              "    <tr>\n",
              "      <th>2250</th>\n",
              "      <td>NCT OF Delhi</td>\n",
              "      <td>WEST DELHI</td>\n",
              "      <td>PARVESH SAHIB SINGH VERMA</td>\n",
              "      <td>1</td>\n",
              "      <td>BJP</td>\n",
              "      <td>Lotus</td>\n",
              "      <td>MALE</td>\n",
              "      <td>0.0</td>\n",
              "      <td>41.0</td>\n",
              "      <td>GENERAL</td>\n",
              "      <td>Post Graduate</td>\n",
              "      <td>Rs 15,51,95,014\\n ~ 15 Crore+</td>\n",
              "      <td>Rs 4,00,97,329\\n ~ 4 Crore+</td>\n",
              "      <td>862058</td>\n",
              "      <td>3590</td>\n",
              "      <td>865648</td>\n",
              "      <td>36.499913</td>\n",
              "      <td>60.010593</td>\n",
              "      <td>2371644</td>\n",
              "    </tr>\n",
              "    <tr>\n",
              "      <th>2251</th>\n",
              "      <td>NCT OF Delhi</td>\n",
              "      <td>WEST DELHI</td>\n",
              "      <td>MAHABAL MISHRA</td>\n",
              "      <td>0</td>\n",
              "      <td>INC</td>\n",
              "      <td>Hand</td>\n",
              "      <td>MALE</td>\n",
              "      <td>3.0</td>\n",
              "      <td>64.0</td>\n",
              "      <td>GENERAL</td>\n",
              "      <td>12th Pass</td>\n",
              "      <td>Rs 45,07,21,618\\n ~ 45 Crore+</td>\n",
              "      <td>Rs 28,14,393\\n ~ 28 Lacs+</td>\n",
              "      <td>286745</td>\n",
              "      <td>417</td>\n",
              "      <td>287162</td>\n",
              "      <td>12.108141</td>\n",
              "      <td>19.907355</td>\n",
              "      <td>2371644</td>\n",
              "    </tr>\n",
              "    <tr>\n",
              "      <th>2252</th>\n",
              "      <td>NCT OF Delhi</td>\n",
              "      <td>WEST DELHI</td>\n",
              "      <td>BALBIR SINGH JAKHAR</td>\n",
              "      <td>0</td>\n",
              "      <td>AAP</td>\n",
              "      <td>Broom</td>\n",
              "      <td>MALE</td>\n",
              "      <td>0.0</td>\n",
              "      <td>47.0</td>\n",
              "      <td>GENERAL</td>\n",
              "      <td>Graduate Professional</td>\n",
              "      <td>Rs 3,28,94,288\\n ~ 3 Crore+</td>\n",
              "      <td>Rs 41,61,197\\n ~ 41 Lacs+</td>\n",
              "      <td>251504</td>\n",
              "      <td>369</td>\n",
              "      <td>251873</td>\n",
              "      <td>10.620186</td>\n",
              "      <td>17.460963</td>\n",
              "      <td>2371644</td>\n",
              "    </tr>\n",
              "    <tr>\n",
              "      <th>2253</th>\n",
              "      <td>Maharashtra</td>\n",
              "      <td>YAVATMAL-WASHIM</td>\n",
              "      <td>Bhavana Pundlikrao Gawali</td>\n",
              "      <td>1</td>\n",
              "      <td>SHS</td>\n",
              "      <td>Bow and Arrow</td>\n",
              "      <td>FEMALE</td>\n",
              "      <td>3.0</td>\n",
              "      <td>46.0</td>\n",
              "      <td>GENERAL</td>\n",
              "      <td>Graduate</td>\n",
              "      <td>Rs 9,68,73,189\\n ~ 9 Crore+</td>\n",
              "      <td>Rs 73,96,250\\n ~ 73 Lacs+</td>\n",
              "      <td>540104</td>\n",
              "      <td>1994</td>\n",
              "      <td>542098</td>\n",
              "      <td>28.290483</td>\n",
              "      <td>46.142912</td>\n",
              "      <td>1916185</td>\n",
              "    </tr>\n",
              "    <tr>\n",
              "      <th>2254</th>\n",
              "      <td>Maharashtra</td>\n",
              "      <td>YAVATMAL-WASHIM</td>\n",
              "      <td>Thakre Manikrao Govindrao</td>\n",
              "      <td>0</td>\n",
              "      <td>INC</td>\n",
              "      <td>Hand</td>\n",
              "      <td>MALE</td>\n",
              "      <td>0.0</td>\n",
              "      <td>64.0</td>\n",
              "      <td>GENERAL</td>\n",
              "      <td>12th Pass</td>\n",
              "      <td>Rs 3,03,03,524\\n ~ 3 Crore+</td>\n",
              "      <td>Rs 12,92,750\\n ~ 12 Lacs+</td>\n",
              "      <td>422497</td>\n",
              "      <td>1662</td>\n",
              "      <td>424159</td>\n",
              "      <td>22.135598</td>\n",
              "      <td>36.104046</td>\n",
              "      <td>1916185</td>\n",
              "    </tr>\n",
              "    <tr>\n",
              "      <th>2255</th>\n",
              "      <td>Maharashtra</td>\n",
              "      <td>YAVATMAL-WASHIM</td>\n",
              "      <td>Pravin Govind Pawar</td>\n",
              "      <td>0</td>\n",
              "      <td>VBA</td>\n",
              "      <td>Cup &amp; Saucer</td>\n",
              "      <td>MALE</td>\n",
              "      <td>0.0</td>\n",
              "      <td>37.0</td>\n",
              "      <td>GENERAL</td>\n",
              "      <td>Graduate Professional</td>\n",
              "      <td>Rs 4,68,66,958\\n ~ 4 Crore+</td>\n",
              "      <td>Rs 6,58,47,040\\n ~ 6 Crore+</td>\n",
              "      <td>93918</td>\n",
              "      <td>310</td>\n",
              "      <td>94228</td>\n",
              "      <td>4.917479</td>\n",
              "      <td>8.020606</td>\n",
              "      <td>1916185</td>\n",
              "    </tr>\n",
              "    <tr>\n",
              "      <th>2256</th>\n",
              "      <td>Maharashtra</td>\n",
              "      <td>YAVATMAL-WASHIM</td>\n",
              "      <td>Parashram Bhaosing Ade</td>\n",
              "      <td>0</td>\n",
              "      <td>IND</td>\n",
              "      <td>Tractor Chalata Kisan</td>\n",
              "      <td>MALE</td>\n",
              "      <td>0.0</td>\n",
              "      <td>64.0</td>\n",
              "      <td>GENERAL</td>\n",
              "      <td>Post Graduate</td>\n",
              "      <td>Rs 18,73,01,769\\n ~ 18 Crore+</td>\n",
              "      <td>Rs 4,17,919\\n ~ 4 Lacs+</td>\n",
              "      <td>24447</td>\n",
              "      <td>52</td>\n",
              "      <td>24499</td>\n",
              "      <td>1.278530</td>\n",
              "      <td>2.085334</td>\n",
              "      <td>1916185</td>\n",
              "    </tr>\n",
              "    <tr>\n",
              "      <th>2257</th>\n",
              "      <td>Maharashtra</td>\n",
              "      <td>YAVATMAL-WASHIM</td>\n",
              "      <td>Vaishali Sudhakar Yede</td>\n",
              "      <td>0</td>\n",
              "      <td>PHJSP</td>\n",
              "      <td>Whistle</td>\n",
              "      <td>FEMALE</td>\n",
              "      <td>0.0</td>\n",
              "      <td>28.0</td>\n",
              "      <td>GENERAL</td>\n",
              "      <td>10th Pass</td>\n",
              "      <td>Rs 11,68,500\\n ~ 11 Lacs+</td>\n",
              "      <td>Rs 9,000\\n ~ 9 Thou+</td>\n",
              "      <td>20563</td>\n",
              "      <td>57</td>\n",
              "      <td>20620</td>\n",
              "      <td>1.076097</td>\n",
              "      <td>1.755157</td>\n",
              "      <td>1916185</td>\n",
              "    </tr>\n",
              "    <tr>\n",
              "      <th>2258</th>\n",
              "      <td>Maharashtra</td>\n",
              "      <td>YAVATMAL-WASHIM</td>\n",
              "      <td>Anil Jayram Rathod</td>\n",
              "      <td>0</td>\n",
              "      <td>IND</td>\n",
              "      <td>SHIP</td>\n",
              "      <td>MALE</td>\n",
              "      <td>0.0</td>\n",
              "      <td>43.0</td>\n",
              "      <td>GENERAL</td>\n",
              "      <td>Post Graduate</td>\n",
              "      <td>Rs 48,90,000\\n ~ 48 Lacs+</td>\n",
              "      <td>Rs 10,20,000\\n ~ 10 Lacs+</td>\n",
              "      <td>14661</td>\n",
              "      <td>25</td>\n",
              "      <td>14686</td>\n",
              "      <td>0.766419</td>\n",
              "      <td>1.250060</td>\n",
              "      <td>1916185</td>\n",
              "    </tr>\n",
              "    <tr>\n",
              "      <th>2259</th>\n",
              "      <td>Telangana</td>\n",
              "      <td>ZAHIRABAD</td>\n",
              "      <td>B.B.PATIL</td>\n",
              "      <td>1</td>\n",
              "      <td>TRS</td>\n",
              "      <td>Car</td>\n",
              "      <td>MALE</td>\n",
              "      <td>18.0</td>\n",
              "      <td>63.0</td>\n",
              "      <td>GENERAL</td>\n",
              "      <td>Graduate</td>\n",
              "      <td>Rs 1,28,78,51,556\\n ~ 128 Crore+</td>\n",
              "      <td>Rs 1,15,35,000\\n ~ 1 Crore+</td>\n",
              "      <td>434066</td>\n",
              "      <td>178</td>\n",
              "      <td>434244</td>\n",
              "      <td>28.975369</td>\n",
              "      <td>41.574183</td>\n",
              "      <td>1498666</td>\n",
              "    </tr>\n",
              "    <tr>\n",
              "      <th>2260</th>\n",
              "      <td>Telangana</td>\n",
              "      <td>ZAHIRABAD</td>\n",
              "      <td>MADAN MOHAN RAO</td>\n",
              "      <td>0</td>\n",
              "      <td>INC</td>\n",
              "      <td>Hand</td>\n",
              "      <td>MALE</td>\n",
              "      <td>0.0</td>\n",
              "      <td>49.0</td>\n",
              "      <td>GENERAL</td>\n",
              "      <td>Post Graduate</td>\n",
              "      <td>Rs 90,36,63,001\\n ~ 90 Crore+</td>\n",
              "      <td>Rs 0\\n ~</td>\n",
              "      <td>427900</td>\n",
              "      <td>115</td>\n",
              "      <td>428015</td>\n",
              "      <td>28.559732</td>\n",
              "      <td>40.977823</td>\n",
              "      <td>1498666</td>\n",
              "    </tr>\n",
              "    <tr>\n",
              "      <th>2261</th>\n",
              "      <td>Telangana</td>\n",
              "      <td>ZAHIRABAD</td>\n",
              "      <td>BANALA LAXMA REDDY</td>\n",
              "      <td>0</td>\n",
              "      <td>BJP</td>\n",
              "      <td>Lotus</td>\n",
              "      <td>MALE</td>\n",
              "      <td>3.0</td>\n",
              "      <td>47.0</td>\n",
              "      <td>GENERAL</td>\n",
              "      <td>12th Pass</td>\n",
              "      <td>Rs 5,85,77,327\\n ~ 5 Crore+</td>\n",
              "      <td>Rs 52,50,000\\n ~ 52 Lacs+</td>\n",
              "      <td>138731</td>\n",
              "      <td>216</td>\n",
              "      <td>138947</td>\n",
              "      <td>9.271379</td>\n",
              "      <td>13.302678</td>\n",
              "      <td>1498666</td>\n",
              "    </tr>\n",
              "    <tr>\n",
              "      <th>2262</th>\n",
              "      <td>Telangana</td>\n",
              "      <td>ZAHIRABAD</td>\n",
              "      <td>NOTA</td>\n",
              "      <td>0</td>\n",
              "      <td>NOTA</td>\n",
              "      <td>NaN</td>\n",
              "      <td>NaN</td>\n",
              "      <td>NaN</td>\n",
              "      <td>NaN</td>\n",
              "      <td>NaN</td>\n",
              "      <td>NaN</td>\n",
              "      <td>NaN</td>\n",
              "      <td>NaN</td>\n",
              "      <td>11138</td>\n",
              "      <td>2</td>\n",
              "      <td>11140</td>\n",
              "      <td>0.743328</td>\n",
              "      <td>1.066535</td>\n",
              "      <td>1498666</td>\n",
              "    </tr>\n",
              "  </tbody>\n",
              "</table>\n",
              "</div>"
            ],
            "text/plain": [
              "               STATE  ... TOTAL ELECTORS\n",
              "2213      Tamil Nadu  ...        1444335\n",
              "2214      Tamil Nadu  ...        1444335\n",
              "2215      Tamil Nadu  ...        1444335\n",
              "2216      Tamil Nadu  ...        1444335\n",
              "2217      Tamil Nadu  ...        1444335\n",
              "2218      Tamil Nadu  ...        1444335\n",
              "2219      Tamil Nadu  ...        1444335\n",
              "2220      Tamil Nadu  ...        1484256\n",
              "2221      Tamil Nadu  ...        1484256\n",
              "2222      Tamil Nadu  ...        1484256\n",
              "2223      Tamil Nadu  ...        1484256\n",
              "2224      Tamil Nadu  ...        1484256\n",
              "2225      Tamil Nadu  ...        1484256\n",
              "2226  Andhra Pradesh  ...        1829300\n",
              "2227  Andhra Pradesh  ...        1829300\n",
              "2228  Andhra Pradesh  ...        1829300\n",
              "2229  Andhra Pradesh  ...        1829300\n",
              "2230  Andhra Pradesh  ...        1829300\n",
              "2231  Andhra Pradesh  ...        1829300\n",
              "2232  Andhra Pradesh  ...        1503980\n",
              "2233  Andhra Pradesh  ...        1503980\n",
              "2234  Andhra Pradesh  ...        1503980\n",
              "2235  Andhra Pradesh  ...        1503980\n",
              "2236  Andhra Pradesh  ...        1503980\n",
              "2237       Telangana  ...        1666770\n",
              "2238       Telangana  ...        1666770\n",
              "2239       Telangana  ...        1666770\n",
              "2240       Telangana  ...        1666770\n",
              "2241       Telangana  ...        1666770\n",
              "2242       Telangana  ...        1666770\n",
              "2243     Maharashtra  ...        1743283\n",
              "2244     Maharashtra  ...        1743283\n",
              "2245     Maharashtra  ...        1743283\n",
              "2246     Maharashtra  ...        1743283\n",
              "2247          Kerala  ...        1359679\n",
              "2248          Kerala  ...        1359679\n",
              "2249          Kerala  ...        1359679\n",
              "2250    NCT OF Delhi  ...        2371644\n",
              "2251    NCT OF Delhi  ...        2371644\n",
              "2252    NCT OF Delhi  ...        2371644\n",
              "2253     Maharashtra  ...        1916185\n",
              "2254     Maharashtra  ...        1916185\n",
              "2255     Maharashtra  ...        1916185\n",
              "2256     Maharashtra  ...        1916185\n",
              "2257     Maharashtra  ...        1916185\n",
              "2258     Maharashtra  ...        1916185\n",
              "2259       Telangana  ...        1498666\n",
              "2260       Telangana  ...        1498666\n",
              "2261       Telangana  ...        1498666\n",
              "2262       Telangana  ...        1498666\n",
              "\n",
              "[50 rows x 19 columns]"
            ]
          },
          "metadata": {
            "tags": []
          },
          "execution_count": 7
        }
      ]
    },
    {
      "cell_type": "markdown",
      "metadata": {
        "id": "TPihVK44v0Ph",
        "colab_type": "text"
      },
      "source": [
        "\n",
        "#Observation\n",
        "After Observing the tail too it seems that all NaN values are for the NOTA category. Removing that by using dropna() funtion would be easy to solve this inconsistency, but would indeed let us lose a lot of information. So, I would go about by confirming if the only NaN values are due to NOTA, if yes, will plan on how to handle this inconsistecy.\n",
        "\n",
        "Other than that, Column names are not properly formatted, so that needs to be handled too. \n",
        "\n",
        "Values under Assests and Liabilities columns have not so properly formatted data, which needs to be handled too. This can pretty much be handled by slicing strings by using appropriate lambda functions.\n",
        "\n",
        "\n",
        "\n",
        "\n",
        "\n",
        "\n",
        "---\n",
        "\n"
      ]
    },
    {
      "cell_type": "markdown",
      "metadata": {
        "id": "DBby6NEkv-Ns",
        "colab_type": "text"
      },
      "source": [
        "2.\n",
        "\n",
        "> Explore the data to understand what's in each of the columns. If the dataset has a very large number of columns (more than 10) you can choose a smaller subset of columns with which to work, but justify why you selected those columns. For each of the columns, but no more than 5 total columns:\n",
        "Describe what the column contains (e.g., the time at which a crime was committed, or the last sale price of a house) in prose\n",
        "Determine whether the column contains missing data, make a decision about how to handle them, and implement that decision\n",
        "Do the same for outliers or other unusual values. Determine if they exist and, if so, implement an approach to dealing with them\n",
        "Explain anything else interesting or unusual about the data in the column that you observed\n",
        "\n",
        "\n",
        "\n",
        "---\n",
        "\n",
        "\n",
        "\n",
        "\n",
        "\n"
      ]
    },
    {
      "cell_type": "markdown",
      "metadata": {
        "id": "TzmiCQQDwODI",
        "colab_type": "text"
      },
      "source": [
        "Now that we know what the dataset contains, lets explore it to get a better idea. \n",
        "\n",
        "But first as mentioned in the Homework requirement, we will drop unnessecary columns to make the work easier. \n",
        "\n",
        "Lets see the Columns again and understand why they can be dropped and why some can be used. \n",
        "\n",
        "We have to keep in mind that the Homework is for data analysis and exploration and not machine learning models at the moment, so some parameters, though they can make a difference to the election scenario in Indian constituency, we ignore them here. \n",
        "\n",
        "Our aim is to find, which party is more prominant in the country.\n",
        "\n",
        "For this we can start ignoring:\n",
        "\n",
        "\n",
        "1) State*(str)*: Shouldn't act as a factor and Can be ignored for now\n",
        "\n",
        "2) Constituency*(str)*  : Much for the same reason as the State\n",
        "\n",
        "3) Name *(str)* : Can be ignored, since much of the election is won due to the party name. And individual names are just an extra parameter that dont give much info.\n",
        "\n",
        "4) Winner *(int)* : To be Considered\n",
        "\n",
        "5) Party *(str)*  : To be Considered, as it gives info about political affiliations and can substitute for State and Constituency columns \n",
        "\n",
        "6) Symbol *(str)*  : Almost reduntant to the Party column(Most parties in India follow a strict rule of Having party symbol as personal symbol)\n",
        "\n",
        "7) Gender *(str)*  : To be Considered, as it is certainnly an important factor\n",
        "\n",
        "8) CRIMINAL\\nCASES *(str)* : To be Considered, as it could help check background of the politician\n",
        "\n",
        "9) Age *(int)* : To be Considered\n",
        "\n",
        "10) Category *(str)* : Though it is important, as an ideal scenario this can be neglected\n",
        "\n",
        "11) Education *(str)* : To be Considered, as it gives more information of the candidate\n",
        "\n",
        "12) Assets *(str)* : Ignored as we are not focusing on monetary status\n",
        "\n",
        "13) Liabilities *(str)* : Ignored, for the same reason as assets.\n",
        "\n",
        "14) General Votes *(int)* : Ignored, as we are taking into consideration the percentage of votes a candidate has over people who voted in the constituency\n",
        "\n",
        "15) Postal Votes *(int)* : Ignored, as we are taking into consideration the percentage of votes a candidate has over people who voted in the constituency\n",
        "\n",
        "16) Total Votes *(int)* : Ignored, as we are taking into consideration the percentage of votes a candidate has over people who voted in the constituency\n",
        "\n",
        "17) Over total electors in constituency *(int)* : Ignored, as we are taking into consideration the percentage of votes a candidate has over people who voted in the constituency\n",
        "\n",
        "18) Over total votes polled in constituency *(int)* : To be considered, as this is a determining factor as to how many people turned up to vote for a particular candidate\n",
        "\n",
        "19) Total Electors *(int)* : Ignored, as we are taking into consideration the percentage of votes a candidate has over people who voted in the constituency\n",
        "\n",
        "\n",
        "So we will be considering : Winner, Party, Gender, Criminal Cases, Education, Age, Total percent of votes casted. Intotal 7 rows"
      ]
    },
    {
      "cell_type": "code",
      "metadata": {
        "id": "SRFcI2NevyJK",
        "colab_type": "code",
        "colab": {}
      },
      "source": [
        "daf = elec_df[['PARTY','AGE','EDUCATION','GENDER','CRIMINAL\\nCASES','OVER TOTAL VOTES POLLED \\nIN CONSTITUENCY','WINNER']]\n"
      ],
      "execution_count": 8,
      "outputs": []
    },
    {
      "cell_type": "code",
      "metadata": {
        "id": "bzo-wHwAwL5l",
        "colab_type": "code",
        "colab": {
          "base_uri": "https://localhost:8080/",
          "height": 195
        },
        "outputId": "8b7fb4e4-55b2-4d59-9182-ada2b3d58434"
      },
      "source": [
        "daf.head()"
      ],
      "execution_count": 9,
      "outputs": [
        {
          "output_type": "execute_result",
          "data": {
            "text/html": [
              "<div>\n",
              "<style scoped>\n",
              "    .dataframe tbody tr th:only-of-type {\n",
              "        vertical-align: middle;\n",
              "    }\n",
              "\n",
              "    .dataframe tbody tr th {\n",
              "        vertical-align: top;\n",
              "    }\n",
              "\n",
              "    .dataframe thead th {\n",
              "        text-align: right;\n",
              "    }\n",
              "</style>\n",
              "<table border=\"1\" class=\"dataframe\">\n",
              "  <thead>\n",
              "    <tr style=\"text-align: right;\">\n",
              "      <th></th>\n",
              "      <th>PARTY</th>\n",
              "      <th>AGE</th>\n",
              "      <th>EDUCATION</th>\n",
              "      <th>GENDER</th>\n",
              "      <th>CRIMINAL\\nCASES</th>\n",
              "      <th>OVER TOTAL VOTES POLLED \\nIN CONSTITUENCY</th>\n",
              "      <th>WINNER</th>\n",
              "    </tr>\n",
              "  </thead>\n",
              "  <tbody>\n",
              "    <tr>\n",
              "      <th>0</th>\n",
              "      <td>BJP</td>\n",
              "      <td>52.0</td>\n",
              "      <td>12th Pass</td>\n",
              "      <td>MALE</td>\n",
              "      <td>52.0</td>\n",
              "      <td>35.468248</td>\n",
              "      <td>1</td>\n",
              "    </tr>\n",
              "    <tr>\n",
              "      <th>1</th>\n",
              "      <td>TRS</td>\n",
              "      <td>54.0</td>\n",
              "      <td>Post Graduate</td>\n",
              "      <td>MALE</td>\n",
              "      <td>0.0</td>\n",
              "      <td>29.964370</td>\n",
              "      <td>0</td>\n",
              "    </tr>\n",
              "    <tr>\n",
              "      <th>2</th>\n",
              "      <td>INC</td>\n",
              "      <td>52.0</td>\n",
              "      <td>12th Pass</td>\n",
              "      <td>MALE</td>\n",
              "      <td>3.0</td>\n",
              "      <td>29.534285</td>\n",
              "      <td>0</td>\n",
              "    </tr>\n",
              "    <tr>\n",
              "      <th>3</th>\n",
              "      <td>NOTA</td>\n",
              "      <td>NaN</td>\n",
              "      <td>NaN</td>\n",
              "      <td>NaN</td>\n",
              "      <td>NaN</td>\n",
              "      <td>1.225214</td>\n",
              "      <td>0</td>\n",
              "    </tr>\n",
              "    <tr>\n",
              "      <th>4</th>\n",
              "      <td>BJP</td>\n",
              "      <td>58.0</td>\n",
              "      <td>Doctorate</td>\n",
              "      <td>MALE</td>\n",
              "      <td>5.0</td>\n",
              "      <td>56.464615</td>\n",
              "      <td>1</td>\n",
              "    </tr>\n",
              "  </tbody>\n",
              "</table>\n",
              "</div>"
            ],
            "text/plain": [
              "  PARTY   AGE  ... OVER TOTAL VOTES POLLED \\nIN CONSTITUENCY WINNER\n",
              "0   BJP  52.0  ...                                 35.468248      1\n",
              "1   TRS  54.0  ...                                 29.964370      0\n",
              "2   INC  52.0  ...                                 29.534285      0\n",
              "3  NOTA   NaN  ...                                  1.225214      0\n",
              "4   BJP  58.0  ...                                 56.464615      1\n",
              "\n",
              "[5 rows x 7 columns]"
            ]
          },
          "metadata": {
            "tags": []
          },
          "execution_count": 9
        }
      ]
    },
    {
      "cell_type": "markdown",
      "metadata": {
        "id": "krJl8RQrwWoL",
        "colab_type": "text"
      },
      "source": [
        "Here we successfully drop unnecessary columns for our analysis and will proceed further preprocessing and  exploring the data in hand. \n",
        "\n",
        "daf will be the new dataframe that we will work on from now. daf dataframe has all the previous issues we had. So we will start by step by step approach. First we will set appropriate column names."
      ]
    },
    {
      "cell_type": "code",
      "metadata": {
        "id": "8dVyttZrwSpy",
        "colab_type": "code",
        "colab": {}
      },
      "source": [
        "daf = daf.rename(columns = {'CRIMINAL\\nCASES':'CRIMINAL_CASES','OVER TOTAL VOTES POLLED \\nIN CONSTITUENCY':'VOTERS_TURNAROUND'}) "
      ],
      "execution_count": 10,
      "outputs": []
    },
    {
      "cell_type": "code",
      "metadata": {
        "id": "9xxJF9_9waMU",
        "colab_type": "code",
        "colab": {
          "base_uri": "https://localhost:8080/",
          "height": 195
        },
        "outputId": "6cef4f31-34b2-4ff0-e909-57abaf7636f8"
      },
      "source": [
        "daf.head()"
      ],
      "execution_count": 11,
      "outputs": [
        {
          "output_type": "execute_result",
          "data": {
            "text/html": [
              "<div>\n",
              "<style scoped>\n",
              "    .dataframe tbody tr th:only-of-type {\n",
              "        vertical-align: middle;\n",
              "    }\n",
              "\n",
              "    .dataframe tbody tr th {\n",
              "        vertical-align: top;\n",
              "    }\n",
              "\n",
              "    .dataframe thead th {\n",
              "        text-align: right;\n",
              "    }\n",
              "</style>\n",
              "<table border=\"1\" class=\"dataframe\">\n",
              "  <thead>\n",
              "    <tr style=\"text-align: right;\">\n",
              "      <th></th>\n",
              "      <th>PARTY</th>\n",
              "      <th>AGE</th>\n",
              "      <th>EDUCATION</th>\n",
              "      <th>GENDER</th>\n",
              "      <th>CRIMINAL_CASES</th>\n",
              "      <th>VOTERS_TURNAROUND</th>\n",
              "      <th>WINNER</th>\n",
              "    </tr>\n",
              "  </thead>\n",
              "  <tbody>\n",
              "    <tr>\n",
              "      <th>0</th>\n",
              "      <td>BJP</td>\n",
              "      <td>52.0</td>\n",
              "      <td>12th Pass</td>\n",
              "      <td>MALE</td>\n",
              "      <td>52.0</td>\n",
              "      <td>35.468248</td>\n",
              "      <td>1</td>\n",
              "    </tr>\n",
              "    <tr>\n",
              "      <th>1</th>\n",
              "      <td>TRS</td>\n",
              "      <td>54.0</td>\n",
              "      <td>Post Graduate</td>\n",
              "      <td>MALE</td>\n",
              "      <td>0.0</td>\n",
              "      <td>29.964370</td>\n",
              "      <td>0</td>\n",
              "    </tr>\n",
              "    <tr>\n",
              "      <th>2</th>\n",
              "      <td>INC</td>\n",
              "      <td>52.0</td>\n",
              "      <td>12th Pass</td>\n",
              "      <td>MALE</td>\n",
              "      <td>3.0</td>\n",
              "      <td>29.534285</td>\n",
              "      <td>0</td>\n",
              "    </tr>\n",
              "    <tr>\n",
              "      <th>3</th>\n",
              "      <td>NOTA</td>\n",
              "      <td>NaN</td>\n",
              "      <td>NaN</td>\n",
              "      <td>NaN</td>\n",
              "      <td>NaN</td>\n",
              "      <td>1.225214</td>\n",
              "      <td>0</td>\n",
              "    </tr>\n",
              "    <tr>\n",
              "      <th>4</th>\n",
              "      <td>BJP</td>\n",
              "      <td>58.0</td>\n",
              "      <td>Doctorate</td>\n",
              "      <td>MALE</td>\n",
              "      <td>5.0</td>\n",
              "      <td>56.464615</td>\n",
              "      <td>1</td>\n",
              "    </tr>\n",
              "  </tbody>\n",
              "</table>\n",
              "</div>"
            ],
            "text/plain": [
              "  PARTY   AGE      EDUCATION GENDER  CRIMINAL_CASES  VOTERS_TURNAROUND  WINNER\n",
              "0   BJP  52.0      12th Pass   MALE            52.0          35.468248       1\n",
              "1   TRS  54.0  Post Graduate   MALE             0.0          29.964370       0\n",
              "2   INC  52.0      12th Pass   MALE             3.0          29.534285       0\n",
              "3  NOTA   NaN            NaN    NaN             NaN           1.225214       0\n",
              "4   BJP  58.0      Doctorate   MALE             5.0          56.464615       1"
            ]
          },
          "metadata": {
            "tags": []
          },
          "execution_count": 11
        }
      ]
    },
    {
      "cell_type": "markdown",
      "metadata": {
        "id": "kSNkYbZMwgkz",
        "colab_type": "text"
      },
      "source": [
        "That being sorted, we turn focus on removing NaN values and getting a clean dataset. \n",
        "\n",
        "So, as we had seen in initial observation that NOTA candidates generally accounted for the NaN values, lets confirm if this is true."
      ]
    },
    {
      "cell_type": "code",
      "metadata": {
        "id": "ApBy72mWwb4O",
        "colab_type": "code",
        "colab": {
          "base_uri": "https://localhost:8080/",
          "height": 218
        },
        "outputId": "cfd7272a-8dee-49f5-8031-8453531301c8"
      },
      "source": [
        "#get value counts of individual values in the PARTY column\n",
        "daf.PARTY.value_counts() "
      ],
      "execution_count": 12,
      "outputs": [
        {
          "output_type": "execute_result",
          "data": {
            "text/plain": [
              "BJP     420\n",
              "INC     413\n",
              "NOTA    245\n",
              "IND     201\n",
              "BSP     163\n",
              "       ... \n",
              "VCK       1\n",
              "SPL       1\n",
              "WAP       1\n",
              "UDP       1\n",
              "ravp      1\n",
              "Name: PARTY, Length: 133, dtype: int64"
            ]
          },
          "metadata": {
            "tags": []
          },
          "execution_count": 12
        }
      ]
    },
    {
      "cell_type": "markdown",
      "metadata": {
        "id": "2LOA0NJuwph9",
        "colab_type": "text"
      },
      "source": [
        "So we can see that, NOTA consists of 245 rows. Thats 245 rows of NaN values."
      ]
    },
    {
      "cell_type": "code",
      "metadata": {
        "id": "bYn60jM-wi5S",
        "colab_type": "code",
        "colab": {
          "base_uri": "https://localhost:8080/",
          "height": 151
        },
        "outputId": "537d24e4-0c82-4446-ec73-53bee3595209"
      },
      "source": [
        "#see null values throughout the dataset\n",
        "daf.isnull().sum()"
      ],
      "execution_count": 13,
      "outputs": [
        {
          "output_type": "execute_result",
          "data": {
            "text/plain": [
              "PARTY                  0\n",
              "AGE                  245\n",
              "EDUCATION            267\n",
              "GENDER               245\n",
              "CRIMINAL_CASES       267\n",
              "VOTERS_TURNAROUND      0\n",
              "WINNER                 0\n",
              "dtype: int64"
            ]
          },
          "metadata": {
            "tags": []
          },
          "execution_count": 13
        }
      ]
    },
    {
      "cell_type": "markdown",
      "metadata": {
        "id": "2tGigWNEwtmP",
        "colab_type": "text"
      },
      "source": [
        "So, it is evident that Not all NaN values are caused due to the NOTA category. At the same time, dealing with the NOTA values can lead to inflation of certain values in the table. Say if we replace all NaN values in AGE column, which are caused due to NOTA, as mean value of the column, the mean value counts will increase directly by +245, the same happening for the other columns too. So best case, would be dropping all rows where name is NOTA. This is done to have a consistency in the dataset. Also the fact that NOTA not being a real candidate, doesn't affect our analysis of which party has majority votes."
      ]
    },
    {
      "cell_type": "code",
      "metadata": {
        "id": "E6JcgC8jwriz",
        "colab_type": "code",
        "colab": {}
      },
      "source": [
        "#here we filter dataset to contain only values where name is not NOTA. Also we reset the index to fit the newdataset\n",
        "finaldf = daf[daf.PARTY != 'NOTA'].reset_index(drop=True)\n"
      ],
      "execution_count": 14,
      "outputs": []
    },
    {
      "cell_type": "markdown",
      "metadata": {
        "id": "2bCDio7Uw0Kn",
        "colab_type": "text"
      },
      "source": [
        "What we do here is, we drop the rows in daf dataframe, where PARTY column value was Nota. We do this by keeping values in dataframe where PARTY value is not NOTA. Also, we reset the index, so that the dropped rows don't affect our row indexing."
      ]
    },
    {
      "cell_type": "code",
      "metadata": {
        "id": "Z4haJmSFwwxT",
        "colab_type": "code",
        "colab": {
          "base_uri": "https://localhost:8080/",
          "height": 195
        },
        "outputId": "1ddbf53f-82fb-4e39-d578-5bae85fad989"
      },
      "source": [
        "finaldf.head()"
      ],
      "execution_count": 15,
      "outputs": [
        {
          "output_type": "execute_result",
          "data": {
            "text/html": [
              "<div>\n",
              "<style scoped>\n",
              "    .dataframe tbody tr th:only-of-type {\n",
              "        vertical-align: middle;\n",
              "    }\n",
              "\n",
              "    .dataframe tbody tr th {\n",
              "        vertical-align: top;\n",
              "    }\n",
              "\n",
              "    .dataframe thead th {\n",
              "        text-align: right;\n",
              "    }\n",
              "</style>\n",
              "<table border=\"1\" class=\"dataframe\">\n",
              "  <thead>\n",
              "    <tr style=\"text-align: right;\">\n",
              "      <th></th>\n",
              "      <th>PARTY</th>\n",
              "      <th>AGE</th>\n",
              "      <th>EDUCATION</th>\n",
              "      <th>GENDER</th>\n",
              "      <th>CRIMINAL_CASES</th>\n",
              "      <th>VOTERS_TURNAROUND</th>\n",
              "      <th>WINNER</th>\n",
              "    </tr>\n",
              "  </thead>\n",
              "  <tbody>\n",
              "    <tr>\n",
              "      <th>0</th>\n",
              "      <td>BJP</td>\n",
              "      <td>52.0</td>\n",
              "      <td>12th Pass</td>\n",
              "      <td>MALE</td>\n",
              "      <td>52.0</td>\n",
              "      <td>35.468248</td>\n",
              "      <td>1</td>\n",
              "    </tr>\n",
              "    <tr>\n",
              "      <th>1</th>\n",
              "      <td>TRS</td>\n",
              "      <td>54.0</td>\n",
              "      <td>Post Graduate</td>\n",
              "      <td>MALE</td>\n",
              "      <td>0.0</td>\n",
              "      <td>29.964370</td>\n",
              "      <td>0</td>\n",
              "    </tr>\n",
              "    <tr>\n",
              "      <th>2</th>\n",
              "      <td>INC</td>\n",
              "      <td>52.0</td>\n",
              "      <td>12th Pass</td>\n",
              "      <td>MALE</td>\n",
              "      <td>3.0</td>\n",
              "      <td>29.534285</td>\n",
              "      <td>0</td>\n",
              "    </tr>\n",
              "    <tr>\n",
              "      <th>3</th>\n",
              "      <td>BJP</td>\n",
              "      <td>58.0</td>\n",
              "      <td>Doctorate</td>\n",
              "      <td>MALE</td>\n",
              "      <td>5.0</td>\n",
              "      <td>56.464615</td>\n",
              "      <td>1</td>\n",
              "    </tr>\n",
              "    <tr>\n",
              "      <th>4</th>\n",
              "      <td>BSP</td>\n",
              "      <td>47.0</td>\n",
              "      <td>Post Graduate</td>\n",
              "      <td>MALE</td>\n",
              "      <td>0.0</td>\n",
              "      <td>37.999125</td>\n",
              "      <td>0</td>\n",
              "    </tr>\n",
              "  </tbody>\n",
              "</table>\n",
              "</div>"
            ],
            "text/plain": [
              "  PARTY   AGE      EDUCATION GENDER  CRIMINAL_CASES  VOTERS_TURNAROUND  WINNER\n",
              "0   BJP  52.0      12th Pass   MALE            52.0          35.468248       1\n",
              "1   TRS  54.0  Post Graduate   MALE             0.0          29.964370       0\n",
              "2   INC  52.0      12th Pass   MALE             3.0          29.534285       0\n",
              "3   BJP  58.0      Doctorate   MALE             5.0          56.464615       1\n",
              "4   BSP  47.0  Post Graduate   MALE             0.0          37.999125       0"
            ]
          },
          "metadata": {
            "tags": []
          },
          "execution_count": 15
        }
      ]
    },
    {
      "cell_type": "code",
      "metadata": {
        "id": "VwI-hJAcw13R",
        "colab_type": "code",
        "colab": {
          "base_uri": "https://localhost:8080/",
          "height": 50
        },
        "outputId": "a284be74-d27d-461c-bb32-3c3ab4cfd51c"
      },
      "source": [
        "print('Number of Rows    : \\t ', str(finaldf.shape[0])+'\\n'+'Number of Columns : \\t ', str(finaldf.shape[1]))"
      ],
      "execution_count": 16,
      "outputs": [
        {
          "output_type": "stream",
          "text": [
            "Number of Rows    : \t  2018\n",
            "Number of Columns : \t  7\n"
          ],
          "name": "stdout"
        }
      ]
    },
    {
      "cell_type": "markdown",
      "metadata": {
        "id": "WtfQ51GLw7xM",
        "colab_type": "text"
      },
      "source": [
        "We confirm that 2263-2018 = 245 rows were deleted.\n",
        "\n",
        "Next we again check for what null values are remaining in the dataframe"
      ]
    },
    {
      "cell_type": "code",
      "metadata": {
        "id": "yXgMo6bgw5dt",
        "colab_type": "code",
        "colab": {
          "base_uri": "https://localhost:8080/",
          "height": 151
        },
        "outputId": "22e63548-8d7b-4628-c41f-2b1be0bb1376"
      },
      "source": [
        "#see null values throughout the dataset\n",
        "finaldf.isnull().sum()"
      ],
      "execution_count": 17,
      "outputs": [
        {
          "output_type": "execute_result",
          "data": {
            "text/plain": [
              "PARTY                 0\n",
              "AGE                   0\n",
              "EDUCATION            22\n",
              "GENDER                0\n",
              "CRIMINAL_CASES       22\n",
              "VOTERS_TURNAROUND     0\n",
              "WINNER                0\n",
              "dtype: int64"
            ]
          },
          "metadata": {
            "tags": []
          },
          "execution_count": 17
        }
      ]
    },
    {
      "cell_type": "markdown",
      "metadata": {
        "id": "ZGyMItJQxBuY",
        "colab_type": "text"
      },
      "source": [
        "NaN values can be dealt with in a number of ways, one can directly drop rows with null values, using Dropna() function, or you can fill with a certain value in place of Null values, or even fill in the mean of the column in place of null values in the column. \n",
        "\n",
        "More on this at: \n",
        "[df.fillna documentation](https://pandas.pydata.org/pandas-docs/stable/reference/api/pandas.DataFrame.fillna.html)\n",
        "\n",
        "[Stackoverflow answer to use method to fill NaN values](https://stackoverflow.com/questions/18689823/pandas-dataframe-replace-nan-values-with-average-of-columns)\n",
        "\n",
        "[Mode](https://stackoverflow.com/questions/40619445/how-to-replace-na-values-with-mode-of-a-dataframe-column-in-python/40621330)\n",
        "\n",
        "[FFill method](https://www.geeksforgeeks.org/python-pandas-dataframe-fillna-to-replace-null-values-in-dataframe/)\n",
        "\n"
      ]
    },
    {
      "cell_type": "markdown",
      "metadata": {
        "id": "SKjmfH_qxHHS",
        "colab_type": "text"
      },
      "source": [
        "We have Education and Criminal Cases columns which have NaN values.\n",
        "\n",
        "For Educational vlaues we will find mean value of the column and set all NaN values to be the same. Since the politicians can have a basic qualification at least. More at [link text](https://www.geeksforgeeks.org/python-pandas-dataframe-fillna-to-replace-null-values-in-dataframe/)"
      ]
    },
    {
      "cell_type": "code",
      "metadata": {
        "id": "3GPM0l2ew_tO",
        "colab_type": "code",
        "colab": {
          "base_uri": "https://localhost:8080/",
          "height": 195
        },
        "outputId": "80cec94b-b9fb-40d1-d0d2-eb91bdf6dc37"
      },
      "source": [
        "finaldf['EDUCATION'].fillna(method ='ffill', inplace=True)\n",
        "finaldf.head()"
      ],
      "execution_count": 18,
      "outputs": [
        {
          "output_type": "execute_result",
          "data": {
            "text/html": [
              "<div>\n",
              "<style scoped>\n",
              "    .dataframe tbody tr th:only-of-type {\n",
              "        vertical-align: middle;\n",
              "    }\n",
              "\n",
              "    .dataframe tbody tr th {\n",
              "        vertical-align: top;\n",
              "    }\n",
              "\n",
              "    .dataframe thead th {\n",
              "        text-align: right;\n",
              "    }\n",
              "</style>\n",
              "<table border=\"1\" class=\"dataframe\">\n",
              "  <thead>\n",
              "    <tr style=\"text-align: right;\">\n",
              "      <th></th>\n",
              "      <th>PARTY</th>\n",
              "      <th>AGE</th>\n",
              "      <th>EDUCATION</th>\n",
              "      <th>GENDER</th>\n",
              "      <th>CRIMINAL_CASES</th>\n",
              "      <th>VOTERS_TURNAROUND</th>\n",
              "      <th>WINNER</th>\n",
              "    </tr>\n",
              "  </thead>\n",
              "  <tbody>\n",
              "    <tr>\n",
              "      <th>0</th>\n",
              "      <td>BJP</td>\n",
              "      <td>52.0</td>\n",
              "      <td>12th Pass</td>\n",
              "      <td>MALE</td>\n",
              "      <td>52.0</td>\n",
              "      <td>35.468248</td>\n",
              "      <td>1</td>\n",
              "    </tr>\n",
              "    <tr>\n",
              "      <th>1</th>\n",
              "      <td>TRS</td>\n",
              "      <td>54.0</td>\n",
              "      <td>Post Graduate</td>\n",
              "      <td>MALE</td>\n",
              "      <td>0.0</td>\n",
              "      <td>29.964370</td>\n",
              "      <td>0</td>\n",
              "    </tr>\n",
              "    <tr>\n",
              "      <th>2</th>\n",
              "      <td>INC</td>\n",
              "      <td>52.0</td>\n",
              "      <td>12th Pass</td>\n",
              "      <td>MALE</td>\n",
              "      <td>3.0</td>\n",
              "      <td>29.534285</td>\n",
              "      <td>0</td>\n",
              "    </tr>\n",
              "    <tr>\n",
              "      <th>3</th>\n",
              "      <td>BJP</td>\n",
              "      <td>58.0</td>\n",
              "      <td>Doctorate</td>\n",
              "      <td>MALE</td>\n",
              "      <td>5.0</td>\n",
              "      <td>56.464615</td>\n",
              "      <td>1</td>\n",
              "    </tr>\n",
              "    <tr>\n",
              "      <th>4</th>\n",
              "      <td>BSP</td>\n",
              "      <td>47.0</td>\n",
              "      <td>Post Graduate</td>\n",
              "      <td>MALE</td>\n",
              "      <td>0.0</td>\n",
              "      <td>37.999125</td>\n",
              "      <td>0</td>\n",
              "    </tr>\n",
              "  </tbody>\n",
              "</table>\n",
              "</div>"
            ],
            "text/plain": [
              "  PARTY   AGE      EDUCATION GENDER  CRIMINAL_CASES  VOTERS_TURNAROUND  WINNER\n",
              "0   BJP  52.0      12th Pass   MALE            52.0          35.468248       1\n",
              "1   TRS  54.0  Post Graduate   MALE             0.0          29.964370       0\n",
              "2   INC  52.0      12th Pass   MALE             3.0          29.534285       0\n",
              "3   BJP  58.0      Doctorate   MALE             5.0          56.464615       1\n",
              "4   BSP  47.0  Post Graduate   MALE             0.0          37.999125       0"
            ]
          },
          "metadata": {
            "tags": []
          },
          "execution_count": 18
        }
      ]
    },
    {
      "cell_type": "markdown",
      "metadata": {
        "id": "lpd7Mog0xL7M",
        "colab_type": "text"
      },
      "source": [
        "Next is Criminal Cases column, for which there are high chances that if data is not documented then there are no criminal cases on record of the person. So we replace NaN values here with 0.\n",
        "\n",
        "But from earlier we remember that Criminal Cases column is string type as hence we need to convert that to int type, but int type doesnt work, since astype() function cant work on NaN values, so we first convert NaN values to str 0 as discussed, and then change the column type. \n",
        "\n",
        "Refernced from : [link text](https://datatofish.com/string-to-integer-dataframe/) |\n",
        "[StackOverFlow](https://stackoverflow.com/questions/21287624/convert-pandas-column-containing-nans-to-dtype-int)"
      ]
    },
    {
      "cell_type": "code",
      "metadata": {
        "id": "XvBKL5-ExJEp",
        "colab_type": "code",
        "colab": {
          "base_uri": "https://localhost:8080/",
          "height": 195
        },
        "outputId": "e53a2b60-6258-462f-e57a-b4572c66e390"
      },
      "source": [
        "\n",
        "finaldf['CRIMINAL_CASES'].fillna('0', inplace=True)\n",
        "finaldf.head()"
      ],
      "execution_count": 19,
      "outputs": [
        {
          "output_type": "execute_result",
          "data": {
            "text/html": [
              "<div>\n",
              "<style scoped>\n",
              "    .dataframe tbody tr th:only-of-type {\n",
              "        vertical-align: middle;\n",
              "    }\n",
              "\n",
              "    .dataframe tbody tr th {\n",
              "        vertical-align: top;\n",
              "    }\n",
              "\n",
              "    .dataframe thead th {\n",
              "        text-align: right;\n",
              "    }\n",
              "</style>\n",
              "<table border=\"1\" class=\"dataframe\">\n",
              "  <thead>\n",
              "    <tr style=\"text-align: right;\">\n",
              "      <th></th>\n",
              "      <th>PARTY</th>\n",
              "      <th>AGE</th>\n",
              "      <th>EDUCATION</th>\n",
              "      <th>GENDER</th>\n",
              "      <th>CRIMINAL_CASES</th>\n",
              "      <th>VOTERS_TURNAROUND</th>\n",
              "      <th>WINNER</th>\n",
              "    </tr>\n",
              "  </thead>\n",
              "  <tbody>\n",
              "    <tr>\n",
              "      <th>0</th>\n",
              "      <td>BJP</td>\n",
              "      <td>52.0</td>\n",
              "      <td>12th Pass</td>\n",
              "      <td>MALE</td>\n",
              "      <td>52</td>\n",
              "      <td>35.468248</td>\n",
              "      <td>1</td>\n",
              "    </tr>\n",
              "    <tr>\n",
              "      <th>1</th>\n",
              "      <td>TRS</td>\n",
              "      <td>54.0</td>\n",
              "      <td>Post Graduate</td>\n",
              "      <td>MALE</td>\n",
              "      <td>0</td>\n",
              "      <td>29.964370</td>\n",
              "      <td>0</td>\n",
              "    </tr>\n",
              "    <tr>\n",
              "      <th>2</th>\n",
              "      <td>INC</td>\n",
              "      <td>52.0</td>\n",
              "      <td>12th Pass</td>\n",
              "      <td>MALE</td>\n",
              "      <td>3</td>\n",
              "      <td>29.534285</td>\n",
              "      <td>0</td>\n",
              "    </tr>\n",
              "    <tr>\n",
              "      <th>3</th>\n",
              "      <td>BJP</td>\n",
              "      <td>58.0</td>\n",
              "      <td>Doctorate</td>\n",
              "      <td>MALE</td>\n",
              "      <td>5</td>\n",
              "      <td>56.464615</td>\n",
              "      <td>1</td>\n",
              "    </tr>\n",
              "    <tr>\n",
              "      <th>4</th>\n",
              "      <td>BSP</td>\n",
              "      <td>47.0</td>\n",
              "      <td>Post Graduate</td>\n",
              "      <td>MALE</td>\n",
              "      <td>0</td>\n",
              "      <td>37.999125</td>\n",
              "      <td>0</td>\n",
              "    </tr>\n",
              "  </tbody>\n",
              "</table>\n",
              "</div>"
            ],
            "text/plain": [
              "  PARTY   AGE      EDUCATION GENDER CRIMINAL_CASES  VOTERS_TURNAROUND  WINNER\n",
              "0   BJP  52.0      12th Pass   MALE             52          35.468248       1\n",
              "1   TRS  54.0  Post Graduate   MALE              0          29.964370       0\n",
              "2   INC  52.0      12th Pass   MALE              3          29.534285       0\n",
              "3   BJP  58.0      Doctorate   MALE              5          56.464615       1\n",
              "4   BSP  47.0  Post Graduate   MALE              0          37.999125       0"
            ]
          },
          "metadata": {
            "tags": []
          },
          "execution_count": 19
        }
      ]
    },
    {
      "cell_type": "code",
      "metadata": {
        "id": "mTqbVVgixNn7",
        "colab_type": "code",
        "colab": {}
      },
      "source": [
        "finaldf['CRIMINAL_CASES'] = finaldf['CRIMINAL_CASES'].astype(int)"
      ],
      "execution_count": 20,
      "outputs": []
    },
    {
      "cell_type": "code",
      "metadata": {
        "id": "o3swSGyLxPR8",
        "colab_type": "code",
        "colab": {
          "base_uri": "https://localhost:8080/",
          "height": 151
        },
        "outputId": "b82a7fa8-95bb-4450-857a-b7a3b639d039"
      },
      "source": [
        "finaldf.dtypes"
      ],
      "execution_count": 21,
      "outputs": [
        {
          "output_type": "execute_result",
          "data": {
            "text/plain": [
              "PARTY                 object\n",
              "AGE                  float64\n",
              "EDUCATION             object\n",
              "GENDER                object\n",
              "CRIMINAL_CASES         int64\n",
              "VOTERS_TURNAROUND    float64\n",
              "WINNER                 int64\n",
              "dtype: object"
            ]
          },
          "metadata": {
            "tags": []
          },
          "execution_count": 21
        }
      ]
    },
    {
      "cell_type": "markdown",
      "metadata": {
        "id": "gJCZ3qj8xSvS",
        "colab_type": "text"
      },
      "source": [
        "We see that all the data types are perfect as needed. Now we confirm if we have any null values."
      ]
    },
    {
      "cell_type": "code",
      "metadata": {
        "id": "3a86vroIxRGk",
        "colab_type": "code",
        "colab": {
          "base_uri": "https://localhost:8080/",
          "height": 151
        },
        "outputId": "0b3a5c64-51e1-4358-8a33-40930cbe29e2"
      },
      "source": [
        "#see null values throughout the dataset\n",
        "finaldf.isnull().sum()"
      ],
      "execution_count": 22,
      "outputs": [
        {
          "output_type": "execute_result",
          "data": {
            "text/plain": [
              "PARTY                0\n",
              "AGE                  0\n",
              "EDUCATION            0\n",
              "GENDER               0\n",
              "CRIMINAL_CASES       0\n",
              "VOTERS_TURNAROUND    0\n",
              "WINNER               0\n",
              "dtype: int64"
            ]
          },
          "metadata": {
            "tags": []
          },
          "execution_count": 22
        }
      ]
    },
    {
      "cell_type": "markdown",
      "metadata": {
        "id": "h775N9S_xXsv",
        "colab_type": "text"
      },
      "source": [
        "\n",
        "We need to properly format age and voters turnaround values too, as they are float."
      ]
    },
    {
      "cell_type": "code",
      "metadata": {
        "id": "Y8cts05MxUSc",
        "colab_type": "code",
        "colab": {}
      },
      "source": [
        "finaldf['AGE'] = finaldf['AGE'].apply(lambda x: int(ceil(x)))\n",
        "finaldf['VOTERS_TURNAROUND'] = finaldf['VOTERS_TURNAROUND'].apply(lambda x: round(x))"
      ],
      "execution_count": 23,
      "outputs": []
    },
    {
      "cell_type": "code",
      "metadata": {
        "id": "rgGUhubFxlj3",
        "colab_type": "code",
        "colab": {
          "base_uri": "https://localhost:8080/",
          "height": 195
        },
        "outputId": "110f5899-c19b-403b-dd7d-86a3da71baec"
      },
      "source": [
        "finaldf.head()"
      ],
      "execution_count": 24,
      "outputs": [
        {
          "output_type": "execute_result",
          "data": {
            "text/html": [
              "<div>\n",
              "<style scoped>\n",
              "    .dataframe tbody tr th:only-of-type {\n",
              "        vertical-align: middle;\n",
              "    }\n",
              "\n",
              "    .dataframe tbody tr th {\n",
              "        vertical-align: top;\n",
              "    }\n",
              "\n",
              "    .dataframe thead th {\n",
              "        text-align: right;\n",
              "    }\n",
              "</style>\n",
              "<table border=\"1\" class=\"dataframe\">\n",
              "  <thead>\n",
              "    <tr style=\"text-align: right;\">\n",
              "      <th></th>\n",
              "      <th>PARTY</th>\n",
              "      <th>AGE</th>\n",
              "      <th>EDUCATION</th>\n",
              "      <th>GENDER</th>\n",
              "      <th>CRIMINAL_CASES</th>\n",
              "      <th>VOTERS_TURNAROUND</th>\n",
              "      <th>WINNER</th>\n",
              "    </tr>\n",
              "  </thead>\n",
              "  <tbody>\n",
              "    <tr>\n",
              "      <th>0</th>\n",
              "      <td>BJP</td>\n",
              "      <td>52</td>\n",
              "      <td>12th Pass</td>\n",
              "      <td>MALE</td>\n",
              "      <td>52</td>\n",
              "      <td>35</td>\n",
              "      <td>1</td>\n",
              "    </tr>\n",
              "    <tr>\n",
              "      <th>1</th>\n",
              "      <td>TRS</td>\n",
              "      <td>54</td>\n",
              "      <td>Post Graduate</td>\n",
              "      <td>MALE</td>\n",
              "      <td>0</td>\n",
              "      <td>30</td>\n",
              "      <td>0</td>\n",
              "    </tr>\n",
              "    <tr>\n",
              "      <th>2</th>\n",
              "      <td>INC</td>\n",
              "      <td>52</td>\n",
              "      <td>12th Pass</td>\n",
              "      <td>MALE</td>\n",
              "      <td>3</td>\n",
              "      <td>30</td>\n",
              "      <td>0</td>\n",
              "    </tr>\n",
              "    <tr>\n",
              "      <th>3</th>\n",
              "      <td>BJP</td>\n",
              "      <td>58</td>\n",
              "      <td>Doctorate</td>\n",
              "      <td>MALE</td>\n",
              "      <td>5</td>\n",
              "      <td>56</td>\n",
              "      <td>1</td>\n",
              "    </tr>\n",
              "    <tr>\n",
              "      <th>4</th>\n",
              "      <td>BSP</td>\n",
              "      <td>47</td>\n",
              "      <td>Post Graduate</td>\n",
              "      <td>MALE</td>\n",
              "      <td>0</td>\n",
              "      <td>38</td>\n",
              "      <td>0</td>\n",
              "    </tr>\n",
              "  </tbody>\n",
              "</table>\n",
              "</div>"
            ],
            "text/plain": [
              "  PARTY  AGE      EDUCATION GENDER  CRIMINAL_CASES  VOTERS_TURNAROUND  WINNER\n",
              "0   BJP   52      12th Pass   MALE              52                 35       1\n",
              "1   TRS   54  Post Graduate   MALE               0                 30       0\n",
              "2   INC   52      12th Pass   MALE               3                 30       0\n",
              "3   BJP   58      Doctorate   MALE               5                 56       1\n",
              "4   BSP   47  Post Graduate   MALE               0                 38       0"
            ]
          },
          "metadata": {
            "tags": []
          },
          "execution_count": 24
        }
      ]
    },
    {
      "cell_type": "code",
      "metadata": {
        "id": "DZwm_12wxnUu",
        "colab_type": "code",
        "colab": {
          "base_uri": "https://localhost:8080/",
          "height": 151
        },
        "outputId": "e147f092-e4b2-463c-e7da-73ff7647b03e"
      },
      "source": [
        "finaldf.dtypes"
      ],
      "execution_count": 25,
      "outputs": [
        {
          "output_type": "execute_result",
          "data": {
            "text/plain": [
              "PARTY                object\n",
              "AGE                   int64\n",
              "EDUCATION            object\n",
              "GENDER               object\n",
              "CRIMINAL_CASES        int64\n",
              "VOTERS_TURNAROUND     int64\n",
              "WINNER                int64\n",
              "dtype: object"
            ]
          },
          "metadata": {
            "tags": []
          },
          "execution_count": 25
        }
      ]
    },
    {
      "cell_type": "code",
      "metadata": {
        "id": "qE8WKp-vxul9",
        "colab_type": "code",
        "colab": {
          "base_uri": "https://localhost:8080/",
          "height": 284
        },
        "outputId": "99937b68-86c3-401b-9a3e-c0c9c395c8e5"
      },
      "source": [
        "#get to know more about the dataset\n",
        "finaldf.describe()"
      ],
      "execution_count": 26,
      "outputs": [
        {
          "output_type": "execute_result",
          "data": {
            "text/html": [
              "<div>\n",
              "<style scoped>\n",
              "    .dataframe tbody tr th:only-of-type {\n",
              "        vertical-align: middle;\n",
              "    }\n",
              "\n",
              "    .dataframe tbody tr th {\n",
              "        vertical-align: top;\n",
              "    }\n",
              "\n",
              "    .dataframe thead th {\n",
              "        text-align: right;\n",
              "    }\n",
              "</style>\n",
              "<table border=\"1\" class=\"dataframe\">\n",
              "  <thead>\n",
              "    <tr style=\"text-align: right;\">\n",
              "      <th></th>\n",
              "      <th>AGE</th>\n",
              "      <th>CRIMINAL_CASES</th>\n",
              "      <th>VOTERS_TURNAROUND</th>\n",
              "      <th>WINNER</th>\n",
              "    </tr>\n",
              "  </thead>\n",
              "  <tbody>\n",
              "    <tr>\n",
              "      <th>count</th>\n",
              "      <td>2018.000000</td>\n",
              "      <td>2018.000000</td>\n",
              "      <td>2018.000000</td>\n",
              "      <td>2018.000000</td>\n",
              "    </tr>\n",
              "    <tr>\n",
              "      <th>mean</th>\n",
              "      <td>52.273538</td>\n",
              "      <td>1.453915</td>\n",
              "      <td>25.788900</td>\n",
              "      <td>0.267096</td>\n",
              "    </tr>\n",
              "    <tr>\n",
              "      <th>std</th>\n",
              "      <td>11.869373</td>\n",
              "      <td>7.636973</td>\n",
              "      <td>21.418373</td>\n",
              "      <td>0.442553</td>\n",
              "    </tr>\n",
              "    <tr>\n",
              "      <th>min</th>\n",
              "      <td>25.000000</td>\n",
              "      <td>0.000000</td>\n",
              "      <td>1.000000</td>\n",
              "      <td>0.000000</td>\n",
              "    </tr>\n",
              "    <tr>\n",
              "      <th>25%</th>\n",
              "      <td>43.250000</td>\n",
              "      <td>0.000000</td>\n",
              "      <td>3.000000</td>\n",
              "      <td>0.000000</td>\n",
              "    </tr>\n",
              "    <tr>\n",
              "      <th>50%</th>\n",
              "      <td>52.000000</td>\n",
              "      <td>0.000000</td>\n",
              "      <td>28.000000</td>\n",
              "      <td>0.000000</td>\n",
              "    </tr>\n",
              "    <tr>\n",
              "      <th>75%</th>\n",
              "      <td>61.000000</td>\n",
              "      <td>1.000000</td>\n",
              "      <td>44.000000</td>\n",
              "      <td>1.000000</td>\n",
              "    </tr>\n",
              "    <tr>\n",
              "      <th>max</th>\n",
              "      <td>86.000000</td>\n",
              "      <td>240.000000</td>\n",
              "      <td>74.000000</td>\n",
              "      <td>1.000000</td>\n",
              "    </tr>\n",
              "  </tbody>\n",
              "</table>\n",
              "</div>"
            ],
            "text/plain": [
              "               AGE  CRIMINAL_CASES  VOTERS_TURNAROUND       WINNER\n",
              "count  2018.000000     2018.000000        2018.000000  2018.000000\n",
              "mean     52.273538        1.453915          25.788900     0.267096\n",
              "std      11.869373        7.636973          21.418373     0.442553\n",
              "min      25.000000        0.000000           1.000000     0.000000\n",
              "25%      43.250000        0.000000           3.000000     0.000000\n",
              "50%      52.000000        0.000000          28.000000     0.000000\n",
              "75%      61.000000        1.000000          44.000000     1.000000\n",
              "max      86.000000      240.000000          74.000000     1.000000"
            ]
          },
          "metadata": {
            "tags": []
          },
          "execution_count": 26
        }
      ]
    },
    {
      "cell_type": "markdown",
      "metadata": {
        "id": "PW9p9WhHx49X",
        "colab_type": "text"
      },
      "source": [
        "Here, we can see that for Age column, standard deviation is normal, and the spread out is certainly understood.\n",
        "\n",
        "For criminal cases, the standard deviation is normal, but the quantile seems to be highly deviated, thats because of the fact that, the max values is clocked at 240. Which seems like a high number of crimes for a politician and can be considered as an outlier.\n",
        "\n",
        "For voters turnaround, the values seem to be justified. And same for the winner(With just 2 values)\n",
        "\n",
        "Lets see the value counts and see further if we can find any anomolies\n",
        "\n",
        "Party, Age, Gender, voters turnaround and winner are columns where outliers can be justified, so we are ignoring them here."
      ]
    },
    {
      "cell_type": "code",
      "metadata": {
        "id": "7OeZdDf2x2Cc",
        "colab_type": "code",
        "colab": {
          "base_uri": "https://localhost:8080/",
          "height": 235
        },
        "outputId": "57516826-acde-4818-c753-7f5bc6a0a06a"
      },
      "source": [
        "finaldf.EDUCATION.value_counts() "
      ],
      "execution_count": 27,
      "outputs": [
        {
          "output_type": "execute_result",
          "data": {
            "text/plain": [
              "Post Graduate            506\n",
              "Graduate                 447\n",
              "Graduate Professional    341\n",
              "12th Pass                257\n",
              "10th Pass                198\n",
              "8th Pass                  78\n",
              "Doctorate                 75\n",
              "Others                    50\n",
              "Literate                  31\n",
              "5th Pass                  28\n",
              "Illiterate                 6\n",
              "Post Graduate\\n            1\n",
              "Name: EDUCATION, dtype: int64"
            ]
          },
          "metadata": {
            "tags": []
          },
          "execution_count": 27
        }
      ]
    },
    {
      "cell_type": "markdown",
      "metadata": {
        "id": "70Ol-5I4ycKJ",
        "colab_type": "text"
      },
      "source": [
        "Post Graduate value seems to be repeated due to odd formatting so we deal with that"
      ]
    },
    {
      "cell_type": "code",
      "metadata": {
        "id": "QUOa6HyEyZFz",
        "colab_type": "code",
        "colab": {}
      },
      "source": [
        "finaldf['EDUCATION'] = finaldf['EDUCATION'].replace(['Post Graduate\\n'], ['Post Graduate'])"
      ],
      "execution_count": 28,
      "outputs": []
    },
    {
      "cell_type": "code",
      "metadata": {
        "id": "FJEB3VTjyd7B",
        "colab_type": "code",
        "colab": {
          "base_uri": "https://localhost:8080/",
          "height": 504
        },
        "outputId": "f713bcb6-36c6-4500-9bee-90423e43eab8"
      },
      "source": [
        "\n",
        "finaldf.CRIMINAL_CASES.value_counts() "
      ],
      "execution_count": 29,
      "outputs": [
        {
          "output_type": "execute_result",
          "data": {
            "text/plain": [
              "0      1264\n",
              "1       313\n",
              "2       119\n",
              "3       104\n",
              "4        64\n",
              "5        42\n",
              "6        26\n",
              "7        18\n",
              "8        16\n",
              "9        11\n",
              "10       11\n",
              "11        5\n",
              "12        4\n",
              "14        4\n",
              "13        3\n",
              "15        2\n",
              "204       1\n",
              "16        1\n",
              "18        1\n",
              "22        1\n",
              "24        1\n",
              "28        1\n",
              "31        1\n",
              "40        1\n",
              "41        1\n",
              "42        1\n",
              "52        1\n",
              "240       1\n",
              "Name: CRIMINAL_CASES, dtype: int64"
            ]
          },
          "metadata": {
            "tags": []
          },
          "execution_count": 29
        }
      ]
    },
    {
      "cell_type": "code",
      "metadata": {
        "id": "717gXJdxyg59",
        "colab_type": "code",
        "colab": {
          "base_uri": "https://localhost:8080/",
          "height": 297
        },
        "outputId": "b3301cb8-e3aa-4196-a27c-122c6f40ffb7"
      },
      "source": [
        "\n",
        "sns.boxplot(x=finaldf['CRIMINAL_CASES'])"
      ],
      "execution_count": 30,
      "outputs": [
        {
          "output_type": "execute_result",
          "data": {
            "text/plain": [
              "<matplotlib.axes._subplots.AxesSubplot at 0x7f90d39c3d30>"
            ]
          },
          "metadata": {
            "tags": []
          },
          "execution_count": 30
        },
        {
          "output_type": "display_data",
          "data": {
            "image/png": "[encoded data removed]",
            "text/plain": [
              "<Figure size 432x288 with 1 Axes>"
            ]
          },
          "metadata": {
            "tags": [],
            "needs_background": "light"
          }
        }
      ]
    },
    {
      "cell_type": "markdown",
      "metadata": {
        "id": "arq5azSJymcC",
        "colab_type": "text"
      },
      "source": [
        "Here we can clearly observe that, the two values over 200, adversely affect the dataframe. So our best option would be to drop columns which contain them. We can either delete them or reset them to some  other value. "
      ]
    },
    {
      "cell_type": "code",
      "metadata": {
        "id": "x5V4aY99ys-u",
        "colab_type": "code",
        "colab": {
          "base_uri": "https://localhost:8080/",
          "height": 297
        },
        "outputId": "9141dd96-82a1-4b64-ab34-8706b6788fd7"
      },
      "source": [
        "#here we filter dataset to contain only values where name is not NOTA. Also we reset the index to fit the newdataset\n",
        "finaldf = finaldf[finaldf['CRIMINAL_CASES']<200].reset_index(drop=True)\n",
        "\n",
        "sns.boxplot(x=finaldf['CRIMINAL_CASES'])"
      ],
      "execution_count": 31,
      "outputs": [
        {
          "output_type": "execute_result",
          "data": {
            "text/plain": [
              "<matplotlib.axes._subplots.AxesSubplot at 0x7f90d38be080>"
            ]
          },
          "metadata": {
            "tags": []
          },
          "execution_count": 31
        },
        {
          "output_type": "display_data",
          "data": {
            "image/png": "[encoded data removed]",
            "text/plain": [
              "<Figure size 432x288 with 1 Axes>"
            ]
          },
          "metadata": {
            "tags": [],
            "needs_background": "light"
          }
        }
      ]
    },
    {
      "cell_type": "code",
      "metadata": {
        "id": "yHgrxGcny8TE",
        "colab_type": "code",
        "colab": {
          "base_uri": "https://localhost:8080/",
          "height": 50
        },
        "outputId": "80e572bb-18d4-4719-b32a-36764ebcd870"
      },
      "source": [
        "print('Number of Rows    : \\t ', str(finaldf.shape[0])+'\\n'+'Number of Columns : \\t ', str(finaldf.shape[1]))"
      ],
      "execution_count": 32,
      "outputs": [
        {
          "output_type": "stream",
          "text": [
            "Number of Rows    : \t  2016\n",
            "Number of Columns : \t  7\n"
          ],
          "name": "stdout"
        }
      ]
    },
    {
      "cell_type": "markdown",
      "metadata": {
        "id": "wq12oPRqzJf1",
        "colab_type": "text"
      },
      "source": [
        "So we can confirm that two values got deleted\n",
        "\n",
        "Other step was to change values based on a condition rather than deleting : More on that at [link text](https://kanoki.org/2019/07/17/pandas-how-to-replace-values-based-on-conditions/)\n",
        "\n",
        "\n",
        "\n",
        "\n",
        "```\n",
        "df.loc[(df.Column == 'toreplace'),'column']='new'\n",
        "```\n",
        "\n",
        "\n"
      ]
    },
    {
      "cell_type": "markdown",
      "metadata": {
        "id": "qS9tUimUzOUA",
        "colab_type": "text"
      },
      "source": [
        "Though not optimal this seems like a healthy fitting of data. \n",
        "\n",
        "FYI, 50 cases, is a data normal with indian politicians and so that not considered as a outlier"
      ]
    },
    {
      "cell_type": "code",
      "metadata": {
        "id": "f59EhJRqzG6R",
        "colab_type": "code",
        "colab": {
          "base_uri": "https://localhost:8080/",
          "height": 284
        },
        "outputId": "141e1f05-24ef-4a7a-f0e4-ab6fb6bb9036"
      },
      "source": [
        "finaldf.describe()"
      ],
      "execution_count": 33,
      "outputs": [
        {
          "output_type": "execute_result",
          "data": {
            "text/html": [
              "<div>\n",
              "<style scoped>\n",
              "    .dataframe tbody tr th:only-of-type {\n",
              "        vertical-align: middle;\n",
              "    }\n",
              "\n",
              "    .dataframe tbody tr th {\n",
              "        vertical-align: top;\n",
              "    }\n",
              "\n",
              "    .dataframe thead th {\n",
              "        text-align: right;\n",
              "    }\n",
              "</style>\n",
              "<table border=\"1\" class=\"dataframe\">\n",
              "  <thead>\n",
              "    <tr style=\"text-align: right;\">\n",
              "      <th></th>\n",
              "      <th>AGE</th>\n",
              "      <th>CRIMINAL_CASES</th>\n",
              "      <th>VOTERS_TURNAROUND</th>\n",
              "      <th>WINNER</th>\n",
              "    </tr>\n",
              "  </thead>\n",
              "  <tbody>\n",
              "    <tr>\n",
              "      <th>count</th>\n",
              "      <td>2016.000000</td>\n",
              "      <td>2016.000000</td>\n",
              "      <td>2016.000000</td>\n",
              "      <td>2016.000000</td>\n",
              "    </tr>\n",
              "    <tr>\n",
              "      <th>mean</th>\n",
              "      <td>52.282738</td>\n",
              "      <td>1.235119</td>\n",
              "      <td>25.773313</td>\n",
              "      <td>0.266865</td>\n",
              "    </tr>\n",
              "    <tr>\n",
              "      <th>std</th>\n",
              "      <td>11.870159</td>\n",
              "      <td>3.119820</td>\n",
              "      <td>21.419657</td>\n",
              "      <td>0.442431</td>\n",
              "    </tr>\n",
              "    <tr>\n",
              "      <th>min</th>\n",
              "      <td>25.000000</td>\n",
              "      <td>0.000000</td>\n",
              "      <td>1.000000</td>\n",
              "      <td>0.000000</td>\n",
              "    </tr>\n",
              "    <tr>\n",
              "      <th>25%</th>\n",
              "      <td>43.750000</td>\n",
              "      <td>0.000000</td>\n",
              "      <td>3.000000</td>\n",
              "      <td>0.000000</td>\n",
              "    </tr>\n",
              "    <tr>\n",
              "      <th>50%</th>\n",
              "      <td>52.000000</td>\n",
              "      <td>0.000000</td>\n",
              "      <td>28.000000</td>\n",
              "      <td>0.000000</td>\n",
              "    </tr>\n",
              "    <tr>\n",
              "      <th>75%</th>\n",
              "      <td>61.000000</td>\n",
              "      <td>1.000000</td>\n",
              "      <td>44.000000</td>\n",
              "      <td>1.000000</td>\n",
              "    </tr>\n",
              "    <tr>\n",
              "      <th>max</th>\n",
              "      <td>86.000000</td>\n",
              "      <td>52.000000</td>\n",
              "      <td>74.000000</td>\n",
              "      <td>1.000000</td>\n",
              "    </tr>\n",
              "  </tbody>\n",
              "</table>\n",
              "</div>"
            ],
            "text/plain": [
              "               AGE  CRIMINAL_CASES  VOTERS_TURNAROUND       WINNER\n",
              "count  2016.000000     2016.000000        2016.000000  2016.000000\n",
              "mean     52.282738        1.235119          25.773313     0.266865\n",
              "std      11.870159        3.119820          21.419657     0.442431\n",
              "min      25.000000        0.000000           1.000000     0.000000\n",
              "25%      43.750000        0.000000           3.000000     0.000000\n",
              "50%      52.000000        0.000000          28.000000     0.000000\n",
              "75%      61.000000        1.000000          44.000000     1.000000\n",
              "max      86.000000       52.000000          74.000000     1.000000"
            ]
          },
          "metadata": {
            "tags": []
          },
          "execution_count": 33
        }
      ]
    },
    {
      "cell_type": "markdown",
      "metadata": {
        "id": "eg2ejVLrzjkU",
        "colab_type": "text"
      },
      "source": [
        "We observe that this brings balance to our dataset and our dataset is good to go for next analysis\n"
      ]
    },
    {
      "cell_type": "code",
      "metadata": {
        "id": "LOUbPT9CzglT",
        "colab_type": "code",
        "colab": {
          "base_uri": "https://localhost:8080/",
          "height": 366
        },
        "outputId": "e57183cd-b6ed-4ec3-d76a-408e8d2a672b"
      },
      "source": [
        "#plotting gender value plot \n",
        "finaldf[\"GENDER\"].value_counts().plot(kind='bar',figsize=(5,5))"
      ],
      "execution_count": 34,
      "outputs": [
        {
          "output_type": "execute_result",
          "data": {
            "text/plain": [
              "<matplotlib.axes._subplots.AxesSubplot at 0x7f90d33accc0>"
            ]
          },
          "metadata": {
            "tags": []
          },
          "execution_count": 34
        },
        {
          "output_type": "display_data",
          "data": {
            "image/png": "[encoded data removed]",
            "text/plain": [
              "<Figure size 360x360 with 1 Axes>"
            ]
          },
          "metadata": {
            "tags": [],
            "needs_background": "light"
          }
        }
      ]
    },
    {
      "cell_type": "markdown",
      "metadata": {
        "id": "dnumiGEH0vQN",
        "colab_type": "text"
      },
      "source": [
        "3.\n",
        "\n",
        "\n",
        "\n",
        "> Create scatter plots of pairs of variables that you think might be related, and for two such plots do the following:\n",
        "Explain why you think the two variables might be related\n",
        "Show the scatter plot\n",
        "Explain what the plot says, if anything, about the relationship between the variables. The explanation should be semantic. That is, don't say \"x gets bigger when y gets bigger\", say, for example, \"it looks like crime increases later in the week, presumably because people are out later in the week and on the weekends\".\n",
        "Note that you do not need to plot all pairs of variables. In fact, you can do just two pairs as long as they show interesting relationships.\n",
        "\n",
        "\n",
        "\n",
        "---\n",
        "\n"
      ]
    },
    {
      "cell_type": "markdown",
      "metadata": {
        "id": "p5RUwww093bd",
        "colab_type": "text"
      },
      "source": [
        "References for plots are taken from [Seaborn website](https://seaborn.pydata.org/generated/seaborn.catplot.html)"
      ]
    },
    {
      "cell_type": "code",
      "metadata": {
        "id": "daTx6yhmzmdZ",
        "colab_type": "code",
        "colab": {
          "base_uri": "https://localhost:8080/",
          "height": 169
        },
        "outputId": "0ca06c22-81c2-4800-ff77-3aaa4726b685"
      },
      "source": [
        "finaldf.PARTY.value_counts().plot(kind='bar',figsize=(50,5))"
      ],
      "execution_count": 35,
      "outputs": [
        {
          "output_type": "execute_result",
          "data": {
            "text/plain": [
              "<matplotlib.axes._subplots.AxesSubplot at 0x7f90d338dc18>"
            ]
          },
          "metadata": {
            "tags": []
          },
          "execution_count": 35
        },
        {
          "output_type": "display_data",
          "data": {
            "image/png": "[encoded data removed]",
            "text/plain": [
              "<Figure size 3600x360 with 1 Axes>"
            ]
          },
          "metadata": {
            "tags": [],
            "needs_background": "light"
          }
        }
      ]
    },
    {
      "cell_type": "markdown",
      "metadata": {
        "id": "WdAB1Ob6088U",
        "colab_type": "text"
      },
      "source": [
        "We have that a lot of parties in the PARTY column which creates a significant issue in visualization and even for analysis.\n",
        "\n",
        "What we know about Indian politics is that, other than the predominant top 10 parties, other parties don't have that huge hold over constituency and account for at the most single digit candidates, which hardly affects the end result. \n",
        "\n",
        "So what we can do here is first we group parties by the winner column value. And then we sort it as ascending and take top 10 values of PARTY column."
      ]
    },
    {
      "cell_type": "code",
      "metadata": {
        "id": "qqap8KBH2P2X",
        "colab_type": "code",
        "colab": {
          "base_uri": "https://localhost:8080/",
          "height": 50
        },
        "outputId": "1a322d7e-6751-46c7-b2a2-1e59e936811a"
      },
      "source": [
        "top = finaldf\n",
        "top_P = top[['PARTY','WINNER']].groupby('PARTY').sum().sort_values('WINNER', ascending = 0).reset_index()\n",
        "top_P[0:10].PARTY.values\n"
      ],
      "execution_count": 36,
      "outputs": [
        {
          "output_type": "execute_result",
          "data": {
            "text/plain": [
              "array(['BJP', 'INC', 'DMK', 'AITC', 'YSRCP', 'SHS', 'JD(U)', 'BSP', 'BJD',\n",
              "       'TRS'], dtype=object)"
            ]
          },
          "metadata": {
            "tags": []
          },
          "execution_count": 36
        }
      ]
    },
    {
      "cell_type": "markdown",
      "metadata": {
        "id": "S6YowSXp4Or-",
        "colab_type": "text"
      },
      "source": [
        "We create a function which changes, all other parties than top 10 to 'Other' as value and drop the old party column"
      ]
    },
    {
      "cell_type": "code",
      "metadata": {
        "id": "KfT0J1Nu2J8D",
        "colab_type": "code",
        "colab": {}
      },
      "source": [
        "def update_PARTY(row):\n",
        "    if row['PARTY'] in ['BJP', 'INC', 'DMK', 'AITC', 'YSRCP', 'SHS', 'JD(U)', 'BSP', 'BJD',\n",
        "       'TRS']:\n",
        "        return row['PARTY']\n",
        "    else:\n",
        "        return 'OTHERS'\n",
        "        \n",
        "finaldf['PARTY_UPDATED'] = finaldf.apply(update_PARTY,axis =1)\n",
        "\n",
        "finaldf = finaldf.drop('PARTY',axis=1)\n"
      ],
      "execution_count": 37,
      "outputs": []
    },
    {
      "cell_type": "markdown",
      "metadata": {
        "id": "IOIh-BAC4bJw",
        "colab_type": "text"
      },
      "source": [
        "Our plot now is more better to visualize"
      ]
    },
    {
      "cell_type": "code",
      "metadata": {
        "id": "RCYadXMg4fKP",
        "colab_type": "code",
        "colab": {
          "base_uri": "https://localhost:8080/",
          "height": 165
        },
        "outputId": "36ee5215-2730-4d76-e901-1ef110941874"
      },
      "source": [
        "finaldf.PARTY_UPDATED.value_counts().plot(kind='bar',figsize=(50,5))"
      ],
      "execution_count": 38,
      "outputs": [
        {
          "output_type": "execute_result",
          "data": {
            "text/plain": [
              "<matplotlib.axes._subplots.AxesSubplot at 0x7f90d2ff0160>"
            ]
          },
          "metadata": {
            "tags": []
          },
          "execution_count": 38
        },
        {
          "output_type": "display_data",
          "data": {
            "image/png": "[encoded data removed]",
            "text/plain": [
              "<Figure size 3600x360 with 1 Axes>"
            ]
          },
          "metadata": {
            "tags": [],
            "needs_background": "light"
          }
        }
      ]
    },
    {
      "cell_type": "markdown",
      "metadata": {
        "id": "yT0NsMevQQSm",
        "colab_type": "text"
      },
      "source": [
        "We do the same for education, so that we have better visualization.\n",
        "\n",
        "We set levels of education, and assign the number as a float value, we do this so to deal with some issues that pop up in plotting where one value of x or y variable needs to be numeric.\n",
        "\n",
        "This we classsify education as:\n",
        "\n",
        "Level 0 = 'Illiterate'\n",
        "\n",
        "Level 1 = 'Literate'\n",
        "\n",
        "Level 2 = '5th Pass','8th Pass','10th Pass','12th Pass'\n",
        "\n",
        "Level 3 = 'Graduate Professional','Graduate'\n",
        "\n",
        "Level 4 = 'Post Graduate', 'Doctorate'"
      ]
    },
    {
      "cell_type": "code",
      "metadata": {
        "id": "iP1AwT3q073V",
        "colab_type": "code",
        "colab": {}
      },
      "source": [
        "def update_education(row):\n",
        "    if row['EDUCATION'] in ['Illiterate']:\n",
        "        return 0.0\n",
        "    if row['EDUCATION'] in ['5th Pass','8th Pass','10th Pass','12th Pass']:\n",
        "        return 2.0\n",
        "    elif row['EDUCATION'] in ['Graduate Professional','Graduate']: \n",
        "        return 3.0\n",
        "    elif row['EDUCATION'] in ['Post Graduate', 'Doctorate']:\n",
        "        return 4.0\n",
        "    else:\n",
        "        1.0\n",
        "        \n",
        "finaldf['EDUCATION_UPDATED'] = finaldf.apply(update_education,axis =1)\n",
        "finaldf = finaldf.drop('EDUCATION',axis=1)\n"
      ],
      "execution_count": 39,
      "outputs": []
    },
    {
      "cell_type": "code",
      "metadata": {
        "id": "Er5HB5527ZmW",
        "colab_type": "code",
        "colab": {
          "base_uri": "https://localhost:8080/",
          "height": 402
        },
        "outputId": "2005ece0-5141-4594-86f4-cbb7f25dfc3c"
      },
      "source": [
        "finaldf"
      ],
      "execution_count": 40,
      "outputs": [
        {
          "output_type": "execute_result",
          "data": {
            "text/html": [
              "<div>\n",
              "<style scoped>\n",
              "    .dataframe tbody tr th:only-of-type {\n",
              "        vertical-align: middle;\n",
              "    }\n",
              "\n",
              "    .dataframe tbody tr th {\n",
              "        vertical-align: top;\n",
              "    }\n",
              "\n",
              "    .dataframe thead th {\n",
              "        text-align: right;\n",
              "    }\n",
              "</style>\n",
              "<table border=\"1\" class=\"dataframe\">\n",
              "  <thead>\n",
              "    <tr style=\"text-align: right;\">\n",
              "      <th></th>\n",
              "      <th>AGE</th>\n",
              "      <th>GENDER</th>\n",
              "      <th>CRIMINAL_CASES</th>\n",
              "      <th>VOTERS_TURNAROUND</th>\n",
              "      <th>WINNER</th>\n",
              "      <th>PARTY_UPDATED</th>\n",
              "      <th>EDUCATION_UPDATED</th>\n",
              "    </tr>\n",
              "  </thead>\n",
              "  <tbody>\n",
              "    <tr>\n",
              "      <th>0</th>\n",
              "      <td>52</td>\n",
              "      <td>MALE</td>\n",
              "      <td>52</td>\n",
              "      <td>35</td>\n",
              "      <td>1</td>\n",
              "      <td>BJP</td>\n",
              "      <td>2.0</td>\n",
              "    </tr>\n",
              "    <tr>\n",
              "      <th>1</th>\n",
              "      <td>54</td>\n",
              "      <td>MALE</td>\n",
              "      <td>0</td>\n",
              "      <td>30</td>\n",
              "      <td>0</td>\n",
              "      <td>TRS</td>\n",
              "      <td>4.0</td>\n",
              "    </tr>\n",
              "    <tr>\n",
              "      <th>2</th>\n",
              "      <td>52</td>\n",
              "      <td>MALE</td>\n",
              "      <td>3</td>\n",
              "      <td>30</td>\n",
              "      <td>0</td>\n",
              "      <td>INC</td>\n",
              "      <td>2.0</td>\n",
              "    </tr>\n",
              "    <tr>\n",
              "      <th>3</th>\n",
              "      <td>58</td>\n",
              "      <td>MALE</td>\n",
              "      <td>5</td>\n",
              "      <td>56</td>\n",
              "      <td>1</td>\n",
              "      <td>BJP</td>\n",
              "      <td>4.0</td>\n",
              "    </tr>\n",
              "    <tr>\n",
              "      <th>4</th>\n",
              "      <td>47</td>\n",
              "      <td>MALE</td>\n",
              "      <td>0</td>\n",
              "      <td>38</td>\n",
              "      <td>0</td>\n",
              "      <td>BSP</td>\n",
              "      <td>4.0</td>\n",
              "    </tr>\n",
              "    <tr>\n",
              "      <th>...</th>\n",
              "      <td>...</td>\n",
              "      <td>...</td>\n",
              "      <td>...</td>\n",
              "      <td>...</td>\n",
              "      <td>...</td>\n",
              "      <td>...</td>\n",
              "      <td>...</td>\n",
              "    </tr>\n",
              "    <tr>\n",
              "      <th>2011</th>\n",
              "      <td>28</td>\n",
              "      <td>FEMALE</td>\n",
              "      <td>0</td>\n",
              "      <td>2</td>\n",
              "      <td>0</td>\n",
              "      <td>OTHERS</td>\n",
              "      <td>2.0</td>\n",
              "    </tr>\n",
              "    <tr>\n",
              "      <th>2012</th>\n",
              "      <td>43</td>\n",
              "      <td>MALE</td>\n",
              "      <td>0</td>\n",
              "      <td>1</td>\n",
              "      <td>0</td>\n",
              "      <td>OTHERS</td>\n",
              "      <td>4.0</td>\n",
              "    </tr>\n",
              "    <tr>\n",
              "      <th>2013</th>\n",
              "      <td>63</td>\n",
              "      <td>MALE</td>\n",
              "      <td>18</td>\n",
              "      <td>42</td>\n",
              "      <td>1</td>\n",
              "      <td>TRS</td>\n",
              "      <td>3.0</td>\n",
              "    </tr>\n",
              "    <tr>\n",
              "      <th>2014</th>\n",
              "      <td>49</td>\n",
              "      <td>MALE</td>\n",
              "      <td>0</td>\n",
              "      <td>41</td>\n",
              "      <td>0</td>\n",
              "      <td>INC</td>\n",
              "      <td>4.0</td>\n",
              "    </tr>\n",
              "    <tr>\n",
              "      <th>2015</th>\n",
              "      <td>47</td>\n",
              "      <td>MALE</td>\n",
              "      <td>3</td>\n",
              "      <td>13</td>\n",
              "      <td>0</td>\n",
              "      <td>BJP</td>\n",
              "      <td>2.0</td>\n",
              "    </tr>\n",
              "  </tbody>\n",
              "</table>\n",
              "<p>2016 rows × 7 columns</p>\n",
              "</div>"
            ],
            "text/plain": [
              "      AGE  GENDER  CRIMINAL_CASES  ...  WINNER  PARTY_UPDATED EDUCATION_UPDATED\n",
              "0      52    MALE              52  ...       1            BJP               2.0\n",
              "1      54    MALE               0  ...       0            TRS               4.0\n",
              "2      52    MALE               3  ...       0            INC               2.0\n",
              "3      58    MALE               5  ...       1            BJP               4.0\n",
              "4      47    MALE               0  ...       0            BSP               4.0\n",
              "...   ...     ...             ...  ...     ...            ...               ...\n",
              "2011   28  FEMALE               0  ...       0         OTHERS               2.0\n",
              "2012   43    MALE               0  ...       0         OTHERS               4.0\n",
              "2013   63    MALE              18  ...       1            TRS               3.0\n",
              "2014   49    MALE               0  ...       0            INC               4.0\n",
              "2015   47    MALE               3  ...       0            BJP               2.0\n",
              "\n",
              "[2016 rows x 7 columns]"
            ]
          },
          "metadata": {
            "tags": []
          },
          "execution_count": 40
        }
      ]
    },
    {
      "cell_type": "markdown",
      "metadata": {
        "id": "CAE-KHav9T2Z",
        "colab_type": "text"
      },
      "source": [
        "For first values, We aim to see what is the education level of candidates of a particular party. With a scatter plot we can see which party prefers literate candidates. \n",
        "\n",
        "This is an huge issue in Indian democracy, where a lot of top level politicians are found to be illeterate in the sense of formal schooling. Later we will check to see how many of this party only consider people with graduate and higher education."
      ]
    },
    {
      "cell_type": "code",
      "metadata": {
        "id": "sA8AIFIp9Z6l",
        "colab_type": "code",
        "colab": {
          "base_uri": "https://localhost:8080/",
          "height": 556
        },
        "outputId": "404349d5-4f0b-431f-977b-070027daf11c"
      },
      "source": [
        "plt.figure(figsize=(15,5))\n",
        "\n",
        "chart = sns.catplot(x=\"PARTY_UPDATED\", y=\"EDUCATION_UPDATED\", kind=\"swarm\", data=finaldf,height=6.7,aspect=2);\n",
        "chart.set_xticklabels(rotation=90)"
      ],
      "execution_count": 41,
      "outputs": [
        {
          "output_type": "execute_result",
          "data": {
            "text/plain": [
              "<seaborn.axisgrid.FacetGrid at 0x7f90d2fd1a20>"
            ]
          },
          "metadata": {
            "tags": []
          },
          "execution_count": 41
        },
        {
          "output_type": "display_data",
          "data": {
            "text/plain": [
              "<Figure size 1080x360 with 0 Axes>"
            ]
          },
          "metadata": {
            "tags": []
          }
        },
        {
          "output_type": "display_data",
          "data": {
            "image/png": "[encoded data removed]",
            "text/plain": [
              "<Figure size 964.8x482.4 with 1 Axes>"
            ]
          },
          "metadata": {
            "tags": [],
            "needs_background": "light"
          }
        }
      ]
    },
    {
      "cell_type": "markdown",
      "metadata": {
        "id": "TCyRbxT0-F8A",
        "colab_type": "text"
      },
      "source": [
        "What we observe is certainly suprising, most of the top 10 PARTY's had candidates having atleast basic schooling(Level 2: School/College and above).\n",
        "\n",
        "Candidates, from not so popular parties hardly had accounted for most Illiterate candidates, Top parties like BJP and DMK too had some candidates from Illiterate category(Level 0).\n",
        "\n",
        "With BJP having the most candidates in field, this is justified to have some candidates without schooling.\n",
        "\n",
        "A major inference that can thus be asserted is that Parties are taking education level seriously and thus that can certainly be a deciding factor for winning.\n",
        "\n",
        "\n"
      ]
    },
    {
      "cell_type": "code",
      "metadata": {
        "id": "OIdE8pOlDeYC",
        "colab_type": "code",
        "colab": {
          "base_uri": "https://localhost:8080/",
          "height": 556
        },
        "outputId": "fd19c0b8-d9ae-4663-8847-584796d71401"
      },
      "source": [
        "plt.figure(figsize=(15,5))\n",
        "\n",
        "chart = sns.catplot(x=\"PARTY_UPDATED\", y=\"EDUCATION_UPDATED\", kind=\"box\", data=finaldf,height=6.7,aspect=2);\n",
        "chart.set_xticklabels(rotation=90)"
      ],
      "execution_count": 42,
      "outputs": [
        {
          "output_type": "execute_result",
          "data": {
            "text/plain": [
              "<seaborn.axisgrid.FacetGrid at 0x7f90d2f7b4a8>"
            ]
          },
          "metadata": {
            "tags": []
          },
          "execution_count": 42
        },
        {
          "output_type": "display_data",
          "data": {
            "text/plain": [
              "<Figure size 1080x360 with 0 Axes>"
            ]
          },
          "metadata": {
            "tags": []
          }
        },
        {
          "output_type": "display_data",
          "data": {
            "image/png": "[encoded data removed]",
            "text/plain": [
              "<Figure size 964.8x482.4 with 1 Axes>"
            ]
          },
          "metadata": {
            "tags": [],
            "needs_background": "light"
          }
        }
      ]
    },
    {
      "cell_type": "markdown",
      "metadata": {
        "id": "WwF-f-_pDpcs",
        "colab_type": "text"
      },
      "source": [
        "This box plot, shows further that, education level above 2 was mostly considered by most of the Party's. "
      ]
    },
    {
      "cell_type": "markdown",
      "metadata": {
        "id": "1UYdmzRPALXO",
        "colab_type": "text"
      },
      "source": [
        "Next, lets check how the level of education affects the winner percentage"
      ]
    },
    {
      "cell_type": "code",
      "metadata": {
        "id": "j4lEnQw1ATGv",
        "colab_type": "code",
        "colab": {
          "base_uri": "https://localhost:8080/",
          "height": 532
        },
        "outputId": "82c3b323-1c01-45e4-dc2b-74ce003dbac9"
      },
      "source": [
        "plt.figure(figsize=(15,5))\n",
        "\n",
        "chart = sns.catplot(x=\"EDUCATION_UPDATED\", y=\"WINNER\", kind=\"swarm\", data=finaldf,height=6.7,aspect=2);\n",
        "chart.set_xticklabels(rotation=90)"
      ],
      "execution_count": 43,
      "outputs": [
        {
          "output_type": "execute_result",
          "data": {
            "text/plain": [
              "<seaborn.axisgrid.FacetGrid at 0x7f90d2f5dc50>"
            ]
          },
          "metadata": {
            "tags": []
          },
          "execution_count": 43
        },
        {
          "output_type": "display_data",
          "data": {
            "text/plain": [
              "<Figure size 1080x360 with 0 Axes>"
            ]
          },
          "metadata": {
            "tags": []
          }
        },
        {
          "output_type": "display_data",
          "data": {
            "image/png": "[encoded data removed]",
            "text/plain": [
              "<Figure size 964.8x482.4 with 1 Axes>"
            ]
          },
          "metadata": {
            "tags": [],
            "needs_background": "light"
          }
        }
      ]
    },
    {
      "cell_type": "markdown",
      "metadata": {
        "id": "k9xe81ORBVax",
        "colab_type": "text"
      },
      "source": [
        "We observe that there is not much difference that can be observed as the education level changes, It almost seems that it is equally distributed. And no particular Education level(above level 2 of basic schooling) affects the changes of winning. \n",
        "\n",
        "But one thing that we could confirm is that, education level under 2, lead to more loss in Elections. This seems like a factor that the PARTY's are aware of, particularly since they field in more of Level 2 and above candidates."
      ]
    },
    {
      "cell_type": "code",
      "metadata": {
        "id": "LkyJQUBRERx9",
        "colab_type": "code",
        "colab": {
          "base_uri": "https://localhost:8080/",
          "height": 532
        },
        "outputId": "5b8a65f9-b16d-4095-dc1a-62d164e0137b"
      },
      "source": [
        "plt.figure(figsize=(15,5))\n",
        "\n",
        "chart = sns.catplot(x=\"EDUCATION_UPDATED\", y=\"WINNER\", kind=\"boxen\", data=finaldf,height=6.7,aspect=2);\n",
        "chart.set_xticklabels(rotation=90)"
      ],
      "execution_count": 44,
      "outputs": [
        {
          "output_type": "execute_result",
          "data": {
            "text/plain": [
              "<seaborn.axisgrid.FacetGrid at 0x7f90d06a25c0>"
            ]
          },
          "metadata": {
            "tags": []
          },
          "execution_count": 44
        },
        {
          "output_type": "display_data",
          "data": {
            "text/plain": [
              "<Figure size 1080x360 with 0 Axes>"
            ]
          },
          "metadata": {
            "tags": []
          }
        },
        {
          "output_type": "display_data",
          "data": {
            "image/png": "[encoded data removed]",
            "text/plain": [
              "<Figure size 964.8x482.4 with 1 Axes>"
            ]
          },
          "metadata": {
            "tags": [],
            "needs_background": "light"
          }
        }
      ]
    },
    {
      "cell_type": "markdown",
      "metadata": {
        "id": "fyxJOn6_C3Ar",
        "colab_type": "text"
      },
      "source": [
        "This boxen plot confirms our exploration, and goes on to show that, even for Level 2 education, there were more losses than winnings, so, certainly education does matter in winning chances. \n",
        "Level 3 and 4 show a equal ratio."
      ]
    },
    {
      "cell_type": "code",
      "metadata": {
        "id": "PxB5o9mYCb5d",
        "colab_type": "code",
        "colab": {
          "base_uri": "https://localhost:8080/",
          "height": 532
        },
        "outputId": "d03622bb-e08d-42a6-ffc3-26939fc62487"
      },
      "source": [
        "#just to see how many individuals are present in each level of education\n",
        "plt.figure(figsize=(1,1))\n",
        "\n",
        "chart = sns.catplot(x=\"EDUCATION_UPDATED\", kind=\"count\", data=finaldf,height=6.7);\n",
        "chart.set_xticklabels(rotation=90)"
      ],
      "execution_count": 45,
      "outputs": [
        {
          "output_type": "execute_result",
          "data": {
            "text/plain": [
              "<seaborn.axisgrid.FacetGrid at 0x7f90d04ecf28>"
            ]
          },
          "metadata": {
            "tags": []
          },
          "execution_count": 45
        },
        {
          "output_type": "display_data",
          "data": {
            "text/plain": [
              "<Figure size 72x72 with 0 Axes>"
            ]
          },
          "metadata": {
            "tags": []
          }
        },
        {
          "output_type": "display_data",
          "data": {
            "image/png": "[encoded data removed]",
            "text/plain": [
              "<Figure size 482.4x482.4 with 1 Axes>"
            ]
          },
          "metadata": {
            "tags": [],
            "needs_background": "light"
          }
        }
      ]
    },
    {
      "cell_type": "markdown",
      "metadata": {
        "id": "XhC5aO-fFejD",
        "colab_type": "text"
      },
      "source": [
        "4.\n",
        "\n",
        "> Pick one variable to be a dependent variable, and two others to be predictor variables. \n",
        "These choices should be based on your exploration above. \n",
        "Generate a 2-D or 3-D plot that shows whether the predictor variables actually convey information about the value of the dependent variable.\n",
        "That is, is it the case that knowing the value of the predictor variables gives you information about the dependent variable.\n",
        "Explain clearly why you think they do or do not by referring to the plot.\n",
        "\n",
        "\n",
        "\n",
        "\n",
        "\n"
      ]
    },
    {
      "cell_type": "markdown",
      "metadata": {
        "id": "JXsMv9N9GAQZ",
        "colab_type": "text"
      },
      "source": [
        "From above exploration, its clear that,even after education level goes above level 2(and for most cases even level 2), the winning depends largely on the PARTY the candidate is affiliated with. \n",
        "\n",
        "Lets explore more on this,\n",
        "\n",
        "Lets take, PARTY and EDUCATION as our primary predictor variables. On basis of this two, lets see if we can predict Winning chances"
      ]
    },
    {
      "cell_type": "code",
      "metadata": {
        "id": "0PIJUxHo5yCd",
        "colab_type": "code",
        "colab": {
          "base_uri": "https://localhost:8080/",
          "height": 556
        },
        "outputId": "f347c2ba-eb8d-4c19-fa20-3a069ab76759"
      },
      "source": [
        "plt.figure(figsize=(15,5))\n",
        "\n",
        "chart = sns.catplot(x=\"PARTY_UPDATED\", y=\"EDUCATION_UPDATED\", kind=\"violin\",hue = 'WINNER', data=finaldf,height=6.7,aspect=2,jitter=0.25);\n",
        "chart.set_xticklabels(rotation=90)"
      ],
      "execution_count": 46,
      "outputs": [
        {
          "output_type": "execute_result",
          "data": {
            "text/plain": [
              "<seaborn.axisgrid.FacetGrid at 0x7f90d0470f60>"
            ]
          },
          "metadata": {
            "tags": []
          },
          "execution_count": 46
        },
        {
          "output_type": "display_data",
          "data": {
            "text/plain": [
              "<Figure size 1080x360 with 0 Axes>"
            ]
          },
          "metadata": {
            "tags": []
          }
        },
        {
          "output_type": "display_data",
          "data": {
            "image/png": "[encoded data removed]",
            "text/plain": [
              "<Figure size 1013.68x482.4 with 1 Axes>"
            ]
          },
          "metadata": {
            "tags": [],
            "needs_background": "light"
          }
        }
      ]
    },
    {
      "cell_type": "markdown",
      "metadata": {
        "id": "MSKqOppCJYgA",
        "colab_type": "text"
      },
      "source": [
        "Above, We printed a voilin plot with hue as our winning chances, 0 for loss and 1 for win. From the distribution above, it is evident that, for the top parties cases, education level was was almost average at level 3 for both winning and lossing candidates. \n",
        "\n",
        "There were cases where less education level(less as in at level 2), lead to a loss, as in for SHS and BSP partys, where education level of those lost was at level 2, so SHS and BSP partys can improve on that for later elections. \n",
        "\n",
        "At the same time for TRS and YSRCP, education level at top also saw losses. This has to do more with the Party being not so dominant. \n",
        "\n",
        "We also observe that party at DMK has all winners, with the education level averaginf at above level 3. So certainly upcoming and educated parties are taking the lead and soon with optimal stratergies can form a winning plan."
      ]
    },
    {
      "cell_type": "code",
      "metadata": {
        "id": "R_5DWDNKErn0",
        "colab_type": "code",
        "colab": {
          "base_uri": "https://localhost:8080/",
          "height": 556
        },
        "outputId": "4fd7125b-86cf-4668-efad-2682c281e638"
      },
      "source": [
        "plt.figure(figsize=(15,5))\n",
        "\n",
        "chart = sns.catplot(x=\"PARTY_UPDATED\", y=\"EDUCATION_UPDATED\", kind=\"boxen\",hue = 'WINNER', data=finaldf,height=6.7,aspect=2);\n",
        "chart.set_xticklabels(rotation=90)"
      ],
      "execution_count": 47,
      "outputs": [
        {
          "output_type": "execute_result",
          "data": {
            "text/plain": [
              "<seaborn.axisgrid.FacetGrid at 0x7f90d052acf8>"
            ]
          },
          "metadata": {
            "tags": []
          },
          "execution_count": 47
        },
        {
          "output_type": "display_data",
          "data": {
            "text/plain": [
              "<Figure size 1080x360 with 0 Axes>"
            ]
          },
          "metadata": {
            "tags": []
          }
        },
        {
          "output_type": "display_data",
          "data": {
            "image/png": "[encoded data removed]",
            "text/plain": [
              "<Figure size 1013.68x482.4 with 1 Axes>"
            ]
          },
          "metadata": {
            "tags": [],
            "needs_background": "light"
          }
        }
      ]
    },
    {
      "cell_type": "markdown",
      "metadata": {
        "id": "MUWC3mboMOXa",
        "colab_type": "text"
      },
      "source": [
        "The boxen plot with the same predictors and dependent value above shows a similar case as our earlier inference, not much can be directly predicted using just EDUCATION as a variable. \n",
        "\n",
        "Dominance of Party's is more to do with winning chances than the education level. \n",
        "\n",
        "As in for BJP above, the average of both the winning and losing candidates was at level 3 of education, which is the same for most of the top 10 partys and even for all the other parties grouped together. \n",
        "BJP has people who won at level 2 and above, its candidates with education under level 2 lost the elections. \n",
        "\n",
        "The same follows for other top PARTYs like INC too. \n"
      ]
    },
    {
      "cell_type": "markdown",
      "metadata": {
        "id": "5OItuh6mOWFB",
        "colab_type": "text"
      },
      "source": [
        "With the grouped other parties(smaller ones), its evident that most candidates of those who won are the educated ones, with education level over level 2. \n",
        "\n",
        "With that in mind, a small inference can be that, having a education above Schooling and College level(Level 2) helps in the election. Though it is not a big deciding factor and choosing the right Party matters a lot, especially with the Indian political system. "
      ]
    },
    {
      "cell_type": "markdown",
      "metadata": {
        "id": "BYuwktnLR3eZ",
        "colab_type": "text"
      },
      "source": [
        "So incase we need to come up with better analysis or prediction algorithms, we certainly need to consider the other columns too, as they would help put extract better knowledge of the election data. With the various categorical data we have in hand Decisions Tree models should be a better fit, but that is for further analysis."
      ]
    },
    {
      "cell_type": "code",
      "metadata": {
        "id": "yaaiKxMmLevi",
        "colab_type": "code",
        "colab": {}
      },
      "source": [
        ""
      ],
      "execution_count": 47,
      "outputs": []
    }
  ]
}